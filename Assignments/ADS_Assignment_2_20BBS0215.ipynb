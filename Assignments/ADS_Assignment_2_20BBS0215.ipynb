





<!DOCTYPE html>
<html lang="en" data-color-mode="auto" data-light-theme="light" data-dark-theme="dark"  data-a11y-animated-images="system">
  <head>
    <meta charset="utf-8">
  <link rel="dns-prefetch" href="https://github.githubassets.com">
  <link rel="dns-prefetch" href="https://avatars.githubusercontent.com">
  <link rel="dns-prefetch" href="https://github-cloud.s3.amazonaws.com">
  <link rel="dns-prefetch" href="https://user-images.githubusercontent.com/">
  <link rel="preconnect" href="https://github.githubassets.com" crossorigin>
  <link rel="preconnect" href="https://avatars.githubusercontent.com">

  


  <link crossorigin="anonymous" media="all" rel="stylesheet" href="https://github.githubassets.com/assets/light-8cafbcbd78f4.css" /><link crossorigin="anonymous" media="all" rel="stylesheet" href="https://github.githubassets.com/assets/dark-31dc14e38457.css" /><link data-color-theme="dark_dimmed" crossorigin="anonymous" media="all" rel="stylesheet" data-href="https://github.githubassets.com/assets/dark_dimmed-71414d661fe2.css" /><link data-color-theme="dark_high_contrast" crossorigin="anonymous" media="all" rel="stylesheet" data-href="https://github.githubassets.com/assets/dark_high_contrast-ba96c7f1d660.css" /><link data-color-theme="dark_colorblind" crossorigin="anonymous" media="all" rel="stylesheet" data-href="https://github.githubassets.com/assets/dark_colorblind-7471c22cdb6a.css" /><link data-color-theme="light_colorblind" crossorigin="anonymous" media="all" rel="stylesheet" data-href="https://github.githubassets.com/assets/light_colorblind-80180bed15ed.css" /><link data-color-theme="light_high_contrast" crossorigin="anonymous" media="all" rel="stylesheet" data-href="https://github.githubassets.com/assets/light_high_contrast-e89b9cdecb75.css" /><link data-color-theme="light_tritanopia" crossorigin="anonymous" media="all" rel="stylesheet" data-href="https://github.githubassets.com/assets/light_tritanopia-77f15e9154df.css" /><link data-color-theme="dark_tritanopia" crossorigin="anonymous" media="all" rel="stylesheet" data-href="https://github.githubassets.com/assets/dark_tritanopia-f598f8dd18ae.css" />
  
    <link crossorigin="anonymous" media="all" rel="stylesheet" href="https://github.githubassets.com/assets/primer-primitives-fb1d51d1ef66.css" />
    <link crossorigin="anonymous" media="all" rel="stylesheet" href="https://github.githubassets.com/assets/primer-60c5e476b0dc.css" />
    <link crossorigin="anonymous" media="all" rel="stylesheet" href="https://github.githubassets.com/assets/global-1e5779e1dfc0.css" />
    <link crossorigin="anonymous" media="all" rel="stylesheet" href="https://github.githubassets.com/assets/github-2c7b1701fb19.css" />
  <link crossorigin="anonymous" media="all" rel="stylesheet" href="https://github.githubassets.com/assets/code-5aae01d45c34.css" />

  

  <script type="application/json" id="client-env">{"locale":"en","featureFlags":["turbo_experiment_risky","image_metric_tracking","geojson_azure_maps"]}</script>
<script crossorigin="anonymous" defer="defer" type="application/javascript" src="https://github.githubassets.com/assets/wp-runtime-4b21d2c73e69.js"></script>
<script crossorigin="anonymous" defer="defer" type="application/javascript" src="https://github.githubassets.com/assets/vendors-node_modules_stacktrace-parser_dist_stack-trace-parser_esm_js-node_modules_github_bro-a4c183-ae93d3fba59c.js"></script>
<script crossorigin="anonymous" defer="defer" type="application/javascript" src="https://github.githubassets.com/assets/ui_packages_soft-nav_soft-nav_ts-5bbac172fb2f.js"></script>
<script crossorigin="anonymous" defer="defer" type="application/javascript" src="https://github.githubassets.com/assets/environment-27e06165e415.js"></script>
<script crossorigin="anonymous" defer="defer" type="application/javascript" src="https://github.githubassets.com/assets/vendors-node_modules_dompurify_dist_purify_js-64d590970fa6.js"></script>
<script crossorigin="anonymous" defer="defer" type="application/javascript" src="https://github.githubassets.com/assets/vendors-node_modules_github_selector-observer_dist_index_esm_js-2646a2c533e3.js"></script>
<script crossorigin="anonymous" defer="defer" type="application/javascript" src="https://github.githubassets.com/assets/vendors-node_modules_github_relative-time-element_dist_index_js-99e288659d4f.js"></script>
<script crossorigin="anonymous" defer="defer" type="application/javascript" src="https://github.githubassets.com/assets/vendors-node_modules_fzy_js_index_js-node_modules_github_markdown-toolbar-element_dist_index_js-e3de700a4c9d.js"></script>
<script crossorigin="anonymous" defer="defer" type="application/javascript" src="https://github.githubassets.com/assets/vendors-node_modules_delegated-events_dist_index_js-node_modules_github_auto-complete-element-5b3870-9b38c0812424.js"></script>
<script crossorigin="anonymous" defer="defer" type="application/javascript" src="https://github.githubassets.com/assets/vendors-node_modules_github_file-attachment-element_dist_index_js-node_modules_github_text-ex-3415a8-7ecc10fb88d0.js"></script>
<script crossorigin="anonymous" defer="defer" type="application/javascript" src="https://github.githubassets.com/assets/vendors-node_modules_github_filter-input-element_dist_index_js-node_modules_github_remote-inp-8873b7-5771678648e0.js"></script>
<script crossorigin="anonymous" defer="defer" type="application/javascript" src="https://github.githubassets.com/assets/vendors-node_modules_primer_view-components_app_components_primer_primer_js-node_modules_gith-e7a1e2-49659aed34cc.js"></script>
<script crossorigin="anonymous" defer="defer" type="application/javascript" src="https://github.githubassets.com/assets/github-elements-d042ca720710.js"></script>
<script crossorigin="anonymous" defer="defer" type="application/javascript" src="https://github.githubassets.com/assets/element-registry-14bfc67a0f41.js"></script>
<script crossorigin="anonymous" defer="defer" type="application/javascript" src="https://github.githubassets.com/assets/vendors-node_modules_lit-html_lit-html_js-9d9fe1859ce5.js"></script>
<script crossorigin="anonymous" defer="defer" type="application/javascript" src="https://github.githubassets.com/assets/vendors-node_modules_github_hydro-analytics-client_dist_analytics-client_js-node_modules_gith-f3aee1-fd3c22610e40.js"></script>
<script crossorigin="anonymous" defer="defer" type="application/javascript" src="https://github.githubassets.com/assets/vendors-node_modules_morphdom_dist_morphdom-esm_js-b1fdd7158cf0.js"></script>
<script crossorigin="anonymous" defer="defer" type="application/javascript" src="https://github.githubassets.com/assets/vendors-node_modules_github_mini-throttle_dist_index_js-node_modules_github_alive-client_dist-bf5aa2-424aa982deef.js"></script>
<script crossorigin="anonymous" defer="defer" type="application/javascript" src="https://github.githubassets.com/assets/vendors-node_modules_github_turbo_dist_turbo_es2017-esm_js-ba0e4d5b3207.js"></script>
<script crossorigin="anonymous" defer="defer" type="application/javascript" src="https://github.githubassets.com/assets/vendors-node_modules_github_remote-form_dist_index_js-node_modules_scroll-anchoring_dist_scro-52dc4b-e1e33bfc0b7e.js"></script>
<script crossorigin="anonymous" defer="defer" type="application/javascript" src="https://github.githubassets.com/assets/vendors-node_modules_color-convert_index_js-35b3ae68c408.js"></script>
<script crossorigin="anonymous" defer="defer" type="application/javascript" src="https://github.githubassets.com/assets/vendors-node_modules_github_paste-markdown_dist_index_esm_js-node_modules_github_quote-select-7a8e2b-f036384374ea.js"></script>
<script crossorigin="anonymous" defer="defer" type="application/javascript" src="https://github.githubassets.com/assets/ui_packages_form-utils_form-utils_ts-ui_packages_morpheus_index_ts-ui_packages_trusted-types--01a936-2e33af2596e0.js"></script>
<script crossorigin="anonymous" defer="defer" type="application/javascript" src="https://github.githubassets.com/assets/app_assets_modules_github_behaviors_task-list_ts-app_assets_modules_github_has-interactions_t-bed59b-04d19d8e32bf.js"></script>
<script crossorigin="anonymous" defer="defer" type="application/javascript" src="https://github.githubassets.com/assets/app_assets_modules_github_sticky-scroll-into-view_ts-050ad6637d58.js"></script>
<script crossorigin="anonymous" defer="defer" type="application/javascript" src="https://github.githubassets.com/assets/app_assets_modules_github_behaviors_ajax-error_ts-app_assets_modules_github_behaviors_include-f12a82-c9c7859d8645.js"></script>
<script crossorigin="anonymous" defer="defer" type="application/javascript" src="https://github.githubassets.com/assets/app_assets_modules_github_behaviors_commenting_edit_ts-app_assets_modules_github_behaviors_ht-83c235-f22ac6b94445.js"></script>
<script crossorigin="anonymous" defer="defer" type="application/javascript" src="https://github.githubassets.com/assets/app_assets_modules_github_blob-anchor_ts-app_assets_modules_github_filter-sort_ts-app_assets_-c96432-3460172f1b1f.js"></script>
<script crossorigin="anonymous" defer="defer" type="application/javascript" src="https://github.githubassets.com/assets/behaviors-425cc3e83f10.js"></script>
<script crossorigin="anonymous" defer="defer" type="application/javascript" src="https://github.githubassets.com/assets/vendors-node_modules_delegated-events_dist_index_js-node_modules_github_catalyst_lib_index_js-06ff531-fe0b8ccc90a5.js"></script>
<script crossorigin="anonymous" defer="defer" type="application/javascript" src="https://github.githubassets.com/assets/notifications-global-f57687007bfc.js"></script>
<script crossorigin="anonymous" defer="defer" type="application/javascript" src="https://github.githubassets.com/assets/code-menu-082003a113a7.js"></script>
  
  <script crossorigin="anonymous" defer="defer" type="application/javascript" src="https://github.githubassets.com/assets/react-lib-210c4b5934c3.js"></script>
<script crossorigin="anonymous" defer="defer" type="application/javascript" src="https://github.githubassets.com/assets/vendors-node_modules_primer_octicons-react_dist_index_esm_js-node_modules_primer_react_lib-es-ca6dae-997b5be9ae26.js"></script>
<script crossorigin="anonymous" defer="defer" type="application/javascript" src="https://github.githubassets.com/assets/vendors-node_modules_primer_behaviors_dist_esm_focus-zone_js-d55308df5023.js"></script>
<script crossorigin="anonymous" defer="defer" type="application/javascript" src="https://github.githubassets.com/assets/vendors-node_modules_primer_react_lib-esm_Button_index_js-node_modules_primer_react_lib-esm_L-5634ab-88e75d034f00.js"></script>
<script crossorigin="anonymous" defer="defer" type="application/javascript" src="https://github.githubassets.com/assets/vendors-node_modules_primer_react_lib-esm_ActionList_index_js-node_modules_primer_react_lib-e-6c83fc-f575f8ee0ebf.js"></script>
<script crossorigin="anonymous" defer="defer" type="application/javascript" src="https://github.githubassets.com/assets/vendors-node_modules_primer_react_lib-esm_TextInput_TextInput_js-bda16ad5f5c0.js"></script>
<script crossorigin="anonymous" defer="defer" type="application/javascript" src="https://github.githubassets.com/assets/vendors-node_modules_primer_react_lib-esm_ActionMenu_js-9f46ef9292fe.js"></script>
<script crossorigin="anonymous" defer="defer" type="application/javascript" src="https://github.githubassets.com/assets/vendors-node_modules_primer_behaviors_dist_esm_scroll-into-view_js-node_modules_primer_react_-04bb1b-f1078ffd63d6.js"></script>
<script crossorigin="anonymous" defer="defer" type="application/javascript" src="https://github.githubassets.com/assets/vendors-node_modules_primer_react_lib-esm_FormControl_FormControl_js-f73cfd5e1065.js"></script>
<script crossorigin="anonymous" defer="defer" type="application/javascript" src="https://github.githubassets.com/assets/vendors-node_modules_primer_react_lib-esm_Heading_Heading_js-node_modules_primer_react_lib-es-20c766-3952b4d6d547.js"></script>
<script crossorigin="anonymous" defer="defer" type="application/javascript" src="https://github.githubassets.com/assets/vendors-node_modules_primer_react_lib-esm_Dialog_ConfirmationDialog_js-a160e95ee1e8.js"></script>
<script crossorigin="anonymous" defer="defer" type="application/javascript" src="https://github.githubassets.com/assets/vendors-node_modules_primer_react_lib-esm_TreeView_TreeView_js-2d5a3fb3b8ec.js"></script>
<script crossorigin="anonymous" defer="defer" type="application/javascript" src="https://github.githubassets.com/assets/vendors-node_modules_primer_react_lib-esm_Avatar_Avatar_js-node_modules_primer_react_lib-esm_-11e656-b2b35bb64b8b.js"></script>
<script crossorigin="anonymous" defer="defer" type="application/javascript" src="https://github.githubassets.com/assets/vendors-node_modules_primer_react_lib-esm_Dialog_js-node_modules_primer_react_lib-esm_TabNav_-8321f5-f6c3aa4bc5a3.js"></script>
<script crossorigin="anonymous" defer="defer" type="application/javascript" src="https://github.githubassets.com/assets/vendors-node_modules_js-yaml_index_js-node_modules_leven_index_js-09eaf6f363f5.js"></script>
<script crossorigin="anonymous" defer="defer" type="application/javascript" src="https://github.githubassets.com/assets/vendors-node_modules_github_blackbird-parser_dist_blackbird_js-fcd9d30e9b7e.js"></script>
<script crossorigin="anonymous" defer="defer" type="application/javascript" src="https://github.githubassets.com/assets/vendors-node_modules_cronstrue_dist_cronstrue_js-25a1d4fa28bf.js"></script>
<script crossorigin="anonymous" defer="defer" type="application/javascript" src="https://github.githubassets.com/assets/vendors-node_modules_primer_react_lib-esm_BranchName_BranchName_js-node_modules_primer_react_-c4e0ac-925df4a62d0b.js"></script>
<script crossorigin="anonymous" defer="defer" type="application/javascript" src="https://github.githubassets.com/assets/vendors-node_modules_primer_react_lib-esm_NavList_NavList_js-node_modules_primer_react_lib-es-ff3f14-9a81ecfa3742.js"></script>
<script crossorigin="anonymous" defer="defer" type="application/javascript" src="https://github.githubassets.com/assets/vendors-node_modules_primer_react_lib-esm_AvatarStack_AvatarStack_js-node_modules_primer_reac-0b4173-d8ba3894d9e9.js"></script>
<script crossorigin="anonymous" defer="defer" type="application/javascript" src="https://github.githubassets.com/assets/vendors-node_modules_primer_react_lib-esm_CircleOcticon_CircleOcticon_js-node_modules_primer_-81352b-3a2584cfd4bc.js"></script>
<script crossorigin="anonymous" defer="defer" type="application/javascript" src="https://github.githubassets.com/assets/ui_packages_ref-selector_RefSelector_tsx-ui_packages_safe-html_SafeHTML_tsx-af099accc546.js"></script>
<script crossorigin="anonymous" defer="defer" type="application/javascript" src="https://github.githubassets.com/assets/app_assets_modules_github_editor_yaml-editors_workflow_workflow-rules_ts-ui_packages_trusted--45f807-7a8fba7e96f7.js"></script>
<script crossorigin="anonymous" defer="defer" type="application/javascript" src="https://github.githubassets.com/assets/app_assets_modules_blackbird-monolith_hooks_use-navigate-to-query_ts-app_assets_modules_black-8527d4-5aab2da637a1.js"></script>
<script crossorigin="anonymous" defer="defer" type="application/javascript" src="https://github.githubassets.com/assets/ui_packages_react-core_deferred-registry_ts-app_assets_modules_react-code-view_pages_CodeView-2db536-b9351130bb8f.js"></script>
<script crossorigin="anonymous" defer="defer" type="application/javascript" src="https://github.githubassets.com/assets/react-code-view-7beb01aa0515.js"></script>


  <title>Car-Performance-Prediction-Project/Assignments/ADS_Assignment_2_20BBS0215.ipynb at main · Rixhi7/Car-Performance-Prediction-Project</title>



  <meta name="route-pattern" content="/:user_id/:repository/blob/*name(/*path)">

    
  <meta name="current-catalog-service-hash" content="82c569b93da5c18ed649ebd4c2c79437db4611a6a1373e805a3cb001c64130b7">


  <meta name="request-id" content="D904:C28DD:EAA989:10815A4:64A09370" data-turbo-transient="true" /><meta name="html-safe-nonce" content="456400a5dbe9367f8151b410b0e866464ae10272b45a76364a5a6ab3b1bc2dc0" data-turbo-transient="true" /><meta name="visitor-payload" content="eyJyZWZlcnJlciI6Imh0dHBzOi8vZ2l0aHViLmNvbS9SaXhoaTcvQ2FyLVBlcmZvcm1hbmNlLVByZWRpY3Rpb24tUHJvamVjdC90cmVlL21haW4vQXNzaWdubWVudHMiLCJyZXF1ZXN0X2lkIjoiRDkwNDpDMjhERDpFQUE5ODk6MTA4MTVBNDo2NEEwOTM3MCIsInZpc2l0b3JfaWQiOiIxMTI0MzM4MDIyMTc4OTQ4NjE1IiwicmVnaW9uX2VkZ2UiOiJjZW50cmFsaW5kaWEiLCJyZWdpb25fcmVuZGVyIjoiaWFkIn0=" data-turbo-transient="true" /><meta name="visitor-hmac" content="c2e782fc789f5d5321e5952784dbb810665e4a4f1aa31ab0805bf0af2fb90ba5" data-turbo-transient="true" />


    <meta name="hovercard-subject-tag" content="repository:660312749" data-turbo-transient>


  <meta name="github-keyboard-shortcuts" content="repository,source-code,file-tree" data-turbo-transient="true" />
  

  <meta name="selected-link" value="repo_source" data-turbo-transient>
  <link rel="assets" href="https://github.githubassets.com/">

    <meta name="google-site-verification" content="c1kuD-K2HIVF635lypcsWPoD4kilo5-jA_wBFyT4uMY">
  <meta name="google-site-verification" content="KT5gs8h0wvaagLKAVWq8bbeNwnZZK1r1XQysX3xurLU">
  <meta name="google-site-verification" content="ZzhVyEFwb7w3e0-uOTltm8Jsck2F5StVihD0exw2fsA">
  <meta name="google-site-verification" content="GXs5KoUUkNCoaAZn7wPN-t01Pywp9M3sEjnt_3_ZWPc">
  <meta name="google-site-verification" content="Apib7-x98H0j5cPqHWwSMm6dNU4GmODRoqxLiDzdx9I">

<meta name="octolytics-url" content="https://collector.github.com/github/collect" /><meta name="octolytics-actor-id" content="108523725" /><meta name="octolytics-actor-login" content="25-Shikhar-K" /><meta name="octolytics-actor-hash" content="399e63fa7acff8310c31d183257bb407786d9ad93e39efa44b2bf39e21574061" />

  <meta name="analytics-location" content="/&lt;user-name&gt;/&lt;repo-name&gt;/blob/show" data-turbo-transient="true" />

  




  

    <meta name="user-login" content="25-Shikhar-K">

  <link rel="sudo-modal" href="/sessions/sudo_modal">

    <meta name="viewport" content="width=device-width">
    
      <meta name="description" content="Contribute to Rixhi7/Car-Performance-Prediction-Project development by creating an account on GitHub.">
      <link rel="search" type="application/opensearchdescription+xml" href="/opensearch.xml" title="GitHub">
    <link rel="fluid-icon" href="https://github.com/fluidicon.png" title="GitHub">
    <meta property="fb:app_id" content="1401488693436528">
    <meta name="apple-itunes-app" content="app-id=1477376905, app-argument=https://github.com/Rixhi7/Car-Performance-Prediction-Project/blob/main/Assignments/ADS_Assignment_2_20BBS0215.ipynb" />
      <meta name="twitter:image:src" content="https://opengraph.githubassets.com/df91e51198d57d23f6f38c8c2d37f569682eb6953e9064b3e2154801323a578b/Rixhi7/Car-Performance-Prediction-Project" /><meta name="twitter:site" content="@github" /><meta name="twitter:card" content="summary_large_image" /><meta name="twitter:title" content="Car-Performance-Prediction-Project/Assignments/ADS_Assignment_2_20BBS0215.ipynb at main · Rixhi7/Car-Performance-Prediction-Project" /><meta name="twitter:description" content="Contribute to Rixhi7/Car-Performance-Prediction-Project development by creating an account on GitHub." />
      <meta property="og:image" content="https://opengraph.githubassets.com/df91e51198d57d23f6f38c8c2d37f569682eb6953e9064b3e2154801323a578b/Rixhi7/Car-Performance-Prediction-Project" /><meta property="og:image:alt" content="Contribute to Rixhi7/Car-Performance-Prediction-Project development by creating an account on GitHub." /><meta property="og:image:width" content="1200" /><meta property="og:image:height" content="600" /><meta property="og:site_name" content="GitHub" /><meta property="og:type" content="object" /><meta property="og:title" content="Car-Performance-Prediction-Project/Assignments/ADS_Assignment_2_20BBS0215.ipynb at main · Rixhi7/Car-Performance-Prediction-Project" /><meta property="og:url" content="https://github.com/Rixhi7/Car-Performance-Prediction-Project" /><meta property="og:description" content="Contribute to Rixhi7/Car-Performance-Prediction-Project development by creating an account on GitHub." />
      

      <link rel="shared-web-socket" href="wss://alive.github.com/_sockets/u/108523725/ws?session=eyJ2IjoiVjMiLCJ1IjoxMDg1MjM3MjUsInMiOjExMzg4NDc5NDgsImMiOjQ4ODc0MjI3NSwidCI6MTY4ODI0NTExNH0=--3fedb19d5e58c8c94a873b004ef5672044f215e288ea524dea958859f574c47d" data-refresh-url="/_alive" data-session-id="a265bfd178c17ae4c3aca73cfef1c9da454a0b25f793462b945a9c67d4be845c">
      <link rel="shared-web-socket-src" href="/assets-cdn/worker/socket-worker-71e98f781d79.js">


        <meta name="hostname" content="github.com">


      <meta name="keyboard-shortcuts-preference" content="all">

        <meta name="expected-hostname" content="github.com">

    <meta name="enabled-features" content="TURBO_EXPERIMENT_RISKY,IMAGE_METRIC_TRACKING,GEOJSON_AZURE_MAPS">


  <meta http-equiv="x-pjax-version" content="2aa1b5d70c46ffadc3426ac04b11d0058d3005e8c1739ee201f0698066fb89dd" data-turbo-track="reload">
  <meta http-equiv="x-pjax-csp-version" content="0db263f9a873141d8256f783c35f244c06d490aacc3b680f99794dd8fd59fb59" data-turbo-track="reload">
  <meta http-equiv="x-pjax-css-version" content="6a95f2d869d11acdb0cb69bbb69e72cc0893958aed5dfe309dc6cbe7c75d7d77" data-turbo-track="reload">
  <meta http-equiv="x-pjax-js-version" content="118ba2a2197dd6f2b34a80c0632bf14b33dc96a9b515feccb035142107bd241c" data-turbo-track="reload">

  <meta name="turbo-cache-control" content="no-preview" data-turbo-transient="">

      <meta name="turbo-cache-control" content="no-cache" data-turbo-transient>
    <meta data-hydrostats="publish">

  <meta name="go-import" content="github.com/Rixhi7/Car-Performance-Prediction-Project git https://github.com/Rixhi7/Car-Performance-Prediction-Project.git">

  <meta name="octolytics-dimension-user_id" content="76276564" /><meta name="octolytics-dimension-user_login" content="Rixhi7" /><meta name="octolytics-dimension-repository_id" content="660312749" /><meta name="octolytics-dimension-repository_nwo" content="Rixhi7/Car-Performance-Prediction-Project" /><meta name="octolytics-dimension-repository_public" content="true" /><meta name="octolytics-dimension-repository_is_fork" content="false" /><meta name="octolytics-dimension-repository_network_root_id" content="660312749" /><meta name="octolytics-dimension-repository_network_root_nwo" content="Rixhi7/Car-Performance-Prediction-Project" />



  <meta name="turbo-body-classes" content="logged-in env-production page-responsive">


  <meta name="browser-stats-url" content="https://api.github.com/_private/browser/stats">

  <meta name="browser-errors-url" content="https://api.github.com/_private/browser/errors">

  <meta name="browser-optimizely-client-errors-url" content="https://api.github.com/_private/browser/optimizely_client/errors">

  <link rel="mask-icon" href="https://github.githubassets.com/pinned-octocat.svg" color="#000000">
  <link rel="alternate icon" class="js-site-favicon" type="image/png" href="https://github.githubassets.com/favicons/favicon.png">
  <link rel="icon" class="js-site-favicon" type="image/svg+xml" href="https://github.githubassets.com/favicons/favicon.svg">

<meta name="theme-color" content="#1e2327">
<meta name="color-scheme" content="light dark" />


  <link rel="manifest" href="/manifest.json" crossOrigin="use-credentials">

  </head>

  <body class="logged-in env-production page-responsive" style="word-wrap: break-word;">
    <div data-turbo-body class="logged-in env-production page-responsive" style="word-wrap: break-word;">
      


    <div class="position-relative js-header-wrapper ">
      <a href="#start-of-content" class="p-3 color-bg-accent-emphasis color-fg-on-emphasis show-on-focus js-skip-to-content">Skip to content</a>
      <span data-view-component="true" class="progress-pjax-loader Progress position-fixed width-full">
    <span style="width: 0%;" data-view-component="true" class="Progress-item progress-pjax-loader-bar left-0 top-0 color-bg-accent-emphasis"></span>
</span>      
      


      

        <script crossorigin="anonymous" defer="defer" type="application/javascript" src="https://github.githubassets.com/assets/vendors-node_modules_allex_crc32_lib_crc32_esm_js-node_modules_github_clipboard-copy-element_-2da1d5-ca2e742c29fb.js"></script>
<script crossorigin="anonymous" defer="defer" type="application/javascript" src="https://github.githubassets.com/assets/app_assets_modules_github_command-palette_items_help-item_ts-app_assets_modules_github_comman-48ad9d-3f418800033f.js"></script>
<script crossorigin="anonymous" defer="defer" type="application/javascript" src="https://github.githubassets.com/assets/command-palette-afa8aec97e66.js"></script>

            <header class="AppHeader">
    <div class="AppHeader-globalBar pb-2 js-global-bar">
      <div class="AppHeader-globalBar-start">
          <deferred-side-panel data-url="/_side-panels/global">
  <include-fragment data-target="deferred-side-panel.fragment">
      
  <button aria-label="Open global navigation menu" data-action="click:deferred-side-panel#loadPanel click:deferred-side-panel#panelOpened" data-show-dialog-id="dialog-a7f63532-7792-47f1-aade-6c24aa3f2f56" id="dialog-show-dialog-a7f63532-7792-47f1-aade-6c24aa3f2f56" type="button" data-view-component="true" class="Button Button--iconOnly Button--secondary Button--medium AppHeader-button color-bg-transparent p-0 color-fg-muted">    <svg aria-hidden="true" height="16" viewBox="0 0 16 16" version="1.1" width="16" data-view-component="true" class="octicon octicon-three-bars Button-visual">
    <path d="M1 2.75A.75.75 0 0 1 1.75 2h12.5a.75.75 0 0 1 0 1.5H1.75A.75.75 0 0 1 1 2.75Zm0 5A.75.75 0 0 1 1.75 7h12.5a.75.75 0 0 1 0 1.5H1.75A.75.75 0 0 1 1 7.75ZM1.75 12h12.5a.75.75 0 0 1 0 1.5H1.75a.75.75 0 0 1 0-1.5Z"></path>
</svg>
</button>  

<div class="Overlay--hidden Overlay-backdrop--side Overlay-backdrop--placement-left" data-modal-dialog-overlay>
  <modal-dialog data-target="deferred-side-panel.panel" role="dialog" id="dialog-a7f63532-7792-47f1-aade-6c24aa3f2f56" aria-modal="true" aria-disabled="true" aria-describedby="dialog-a7f63532-7792-47f1-aade-6c24aa3f2f56-title dialog-a7f63532-7792-47f1-aade-6c24aa3f2f56-description" data-view-component="true" class="Overlay Overlay-whenNarrow Overlay--size-small-portrait Overlay--motion-scaleFade SidePanel">
    <div styles="flex-direction: row;" data-view-component="true" class="Overlay-header">
  <div class="Overlay-headerContentWrap">
    <div class="Overlay-titleWrap">
      <h1 class="Overlay-title sr-only" id="dialog-a7f63532-7792-47f1-aade-6c24aa3f2f56-title">
        Global navigation
      </h1>
            <div data-view-component="true" class="d-flex">
      <div data-view-component="true" class="AppHeader-logo position-relative">
        <svg aria-hidden="true" height="24" viewBox="0 0 16 16" version="1.1" width="24" data-view-component="true" class="octicon octicon-mark-github">
    <path d="M8 0c4.42 0 8 3.58 8 8a8.013 8.013 0 0 1-5.45 7.59c-.4.08-.55-.17-.55-.38 0-.27.01-1.13.01-2.2 0-.75-.25-1.23-.54-1.48 1.78-.2 3.65-.88 3.65-3.95 0-.88-.31-1.59-.82-2.15.08-.2.36-1.02-.08-2.12 0 0-.67-.22-2.2.82-.64-.18-1.32-.27-2-.27-.68 0-1.36.09-2 .27-1.53-1.03-2.2-.82-2.2-.82-.44 1.1-.16 1.92-.08 2.12-.51.56-.82 1.28-.82 2.15 0 3.06 1.86 3.75 3.64 3.95-.23.2-.44.55-.51 1.07-.46.21-1.61.55-2.33-.66-.15-.24-.6-.83-1.23-.82-.67.01-.27.38.01.53.34.19.73.9.82 1.13.16.45.68 1.31 2.69.94 0 .67.01 1.3.01 1.49 0 .21-.15.45-.55.38A7.995 7.995 0 0 1 0 8c0-4.42 3.58-8 8-8Z"></path>
</svg>
</div></div>
    </div>
    <div class="Overlay-actionWrap">
      <button data-close-dialog-id="dialog-a7f63532-7792-47f1-aade-6c24aa3f2f56" aria-label="Close" type="button" data-view-component="true" class="close-button Overlay-closeButton"><svg aria-hidden="true" height="16" viewBox="0 0 16 16" version="1.1" width="16" data-view-component="true" class="octicon octicon-x">
    <path d="M3.72 3.72a.75.75 0 0 1 1.06 0L8 6.94l3.22-3.22a.749.749 0 0 1 1.275.326.749.749 0 0 1-.215.734L9.06 8l3.22 3.22a.749.749 0 0 1-.326 1.275.749.749 0 0 1-.734-.215L8 9.06l-3.22 3.22a.751.751 0 0 1-1.042-.018.751.751 0 0 1-.018-1.042L6.94 8 3.72 4.78a.75.75 0 0 1 0-1.06Z"></path>
</svg></button>
    </div>
  </div>
</div>
      <div data-view-component="true" class="Overlay-body d-flex flex-column height-full px-2">      <nav aria-label="Site navigation" data-view-component="true" class="ActionList">
  
  <nav-list>
    <ul data-view-component="true" class="ActionListWrap">
        
          
<li item_id="general" data-item-id="" data-targets="nav-list.items" data-view-component="true" class="ActionListItem">
    
    <a data-hotkey="g d" hydro-click="{&quot;event_type&quot;:&quot;global_header.user_menu_dropdown.click&quot;,&quot;payload&quot;:{&quot;request_url&quot;:&quot;https://github.com/Rixhi7/Car-Performance-Prediction-Project/blob/main/Assignments/ADS_Assignment_2_20BBS0215.ipynb&quot;,&quot;target&quot;:&quot;HOME&quot;,&quot;originating_url&quot;:&quot;https://github.com/Rixhi7/Car-Performance-Prediction-Project/blob/main/Assignments/ADS_Assignment_2_20BBS0215.ipynb&quot;,&quot;user_id&quot;:108523725}}" hydro-click-hmac="f2d42fad1be1dc374ce09d3bad05740907300af21cbc533b8e78c6cb9718a375" id="item-afbf681c-3111-4238-809b-e523795464c9" href="/dashboard" data-view-component="true" class="ActionListContent ActionListContent--visual16">
        <span class="ActionListItem-visual ActionListItem-visual--leading">
          <svg aria-hidden="true" height="16" viewBox="0 0 16 16" version="1.1" width="16" data-view-component="true" class="octicon octicon-home">
    <path d="M6.906.664a1.749 1.749 0 0 1 2.187 0l5.25 4.2c.415.332.657.835.657 1.367v7.019A1.75 1.75 0 0 1 13.25 15h-3.5a.75.75 0 0 1-.75-.75V9H7v5.25a.75.75 0 0 1-.75.75h-3.5A1.75 1.75 0 0 1 1 13.25V6.23c0-.531.242-1.034.657-1.366l5.25-4.2Zm1.25 1.171a.25.25 0 0 0-.312 0l-5.25 4.2a.25.25 0 0 0-.094.196v7.019c0 .138.112.25.25.25H5.5V8.25a.75.75 0 0 1 .75-.75h3.5a.75.75 0 0 1 .75.75v5.25h2.75a.25.25 0 0 0 .25-.25V6.23a.25.25 0 0 0-.094-.195Z"></path>
</svg>
        </span>
      
        <span data-view-component="true" class="ActionListItem-label">
          Home
</span></a>
  
  
</li>

        
          
<li item_id="personal_info" data-item-id="" data-targets="nav-list.items" data-view-component="true" class="ActionListItem">
    
    <a data-hotkey="g i" hydro-click="{&quot;event_type&quot;:&quot;global_header.user_menu_dropdown.click&quot;,&quot;payload&quot;:{&quot;request_url&quot;:&quot;https://github.com/Rixhi7/Car-Performance-Prediction-Project/blob/main/Assignments/ADS_Assignment_2_20BBS0215.ipynb&quot;,&quot;target&quot;:&quot;ISSUES&quot;,&quot;originating_url&quot;:&quot;https://github.com/Rixhi7/Car-Performance-Prediction-Project/blob/main/Assignments/ADS_Assignment_2_20BBS0215.ipynb&quot;,&quot;user_id&quot;:108523725}}" hydro-click-hmac="d252ede22d57bc2e1c4ac3e0539a922865fe378d632a9f5a9aa16ae8cdab28e3" id="item-d738f801-85a4-4347-9bc1-dc3824520905" href="/issues" data-view-component="true" class="ActionListContent ActionListContent--visual16">
        <span class="ActionListItem-visual ActionListItem-visual--leading">
          <svg aria-hidden="true" height="16" viewBox="0 0 16 16" version="1.1" width="16" data-view-component="true" class="octicon octicon-issue-opened">
    <path d="M8 9.5a1.5 1.5 0 1 0 0-3 1.5 1.5 0 0 0 0 3Z"></path><path d="M8 0a8 8 0 1 1 0 16A8 8 0 0 1 8 0ZM1.5 8a6.5 6.5 0 1 0 13 0 6.5 6.5 0 0 0-13 0Z"></path>
</svg>
        </span>
      
        <span data-view-component="true" class="ActionListItem-label">
          Issues
</span></a>
  
  
</li>

        
          
<li item_id="password" data-item-id="" data-targets="nav-list.items" data-view-component="true" class="ActionListItem">
    
    <a data-hotkey="g p" hydro-click="{&quot;event_type&quot;:&quot;global_header.user_menu_dropdown.click&quot;,&quot;payload&quot;:{&quot;request_url&quot;:&quot;https://github.com/Rixhi7/Car-Performance-Prediction-Project/blob/main/Assignments/ADS_Assignment_2_20BBS0215.ipynb&quot;,&quot;target&quot;:&quot;PULL_REQUESTS&quot;,&quot;originating_url&quot;:&quot;https://github.com/Rixhi7/Car-Performance-Prediction-Project/blob/main/Assignments/ADS_Assignment_2_20BBS0215.ipynb&quot;,&quot;user_id&quot;:108523725}}" hydro-click-hmac="f98334cb0508aaa3e1da235be63022adeb0c470766c86603b3826f2d4657d8c8" id="item-aa79a41c-fa12-4744-9445-5cb5692e150f" href="/pulls" data-view-component="true" class="ActionListContent ActionListContent--visual16">
        <span class="ActionListItem-visual ActionListItem-visual--leading">
          <svg aria-hidden="true" height="16" viewBox="0 0 16 16" version="1.1" width="16" data-view-component="true" class="octicon octicon-git-pull-request">
    <path d="M1.5 3.25a2.25 2.25 0 1 1 3 2.122v5.256a2.251 2.251 0 1 1-1.5 0V5.372A2.25 2.25 0 0 1 1.5 3.25Zm5.677-.177L9.573.677A.25.25 0 0 1 10 .854V2.5h1A2.5 2.5 0 0 1 13.5 5v5.628a2.251 2.251 0 1 1-1.5 0V5a1 1 0 0 0-1-1h-1v1.646a.25.25 0 0 1-.427.177L7.177 3.427a.25.25 0 0 1 0-.354ZM3.75 2.5a.75.75 0 1 0 0 1.5.75.75 0 0 0 0-1.5Zm0 9.5a.75.75 0 1 0 0 1.5.75.75 0 0 0 0-1.5Zm8.25.75a.75.75 0 1 0 1.5 0 .75.75 0 0 0-1.5 0Z"></path>
</svg>
        </span>
      
        <span data-view-component="true" class="ActionListItem-label">
          Pull requests
</span></a>
  
  
</li>

        
          
<li item_id="billing" data-item-id="" data-targets="nav-list.items" data-view-component="true" class="ActionListItem">
    
    <a hydro-click="{&quot;event_type&quot;:&quot;global_header.user_menu_dropdown.click&quot;,&quot;payload&quot;:{&quot;request_url&quot;:&quot;https://github.com/Rixhi7/Car-Performance-Prediction-Project/blob/main/Assignments/ADS_Assignment_2_20BBS0215.ipynb&quot;,&quot;target&quot;:&quot;DISCUSSIONS&quot;,&quot;originating_url&quot;:&quot;https://github.com/Rixhi7/Car-Performance-Prediction-Project/blob/main/Assignments/ADS_Assignment_2_20BBS0215.ipynb&quot;,&quot;user_id&quot;:108523725}}" hydro-click-hmac="e75b2c814fa2a3a5483804185602782433fb7a905aca83db7b109d26aa464700" id="item-056185af-b1ef-43d4-8424-a2f4f7982855" href="/discussions" data-view-component="true" class="ActionListContent ActionListContent--visual16">
        <span class="ActionListItem-visual ActionListItem-visual--leading">
          <svg aria-hidden="true" height="16" viewBox="0 0 16 16" version="1.1" width="16" data-view-component="true" class="octicon octicon-comment-discussion">
    <path d="M1.75 1h8.5c.966 0 1.75.784 1.75 1.75v5.5A1.75 1.75 0 0 1 10.25 10H7.061l-2.574 2.573A1.458 1.458 0 0 1 2 11.543V10h-.25A1.75 1.75 0 0 1 0 8.25v-5.5C0 1.784.784 1 1.75 1ZM1.5 2.75v5.5c0 .138.112.25.25.25h1a.75.75 0 0 1 .75.75v2.19l2.72-2.72a.749.749 0 0 1 .53-.22h3.5a.25.25 0 0 0 .25-.25v-5.5a.25.25 0 0 0-.25-.25h-8.5a.25.25 0 0 0-.25.25Zm13 2a.25.25 0 0 0-.25-.25h-.5a.75.75 0 0 1 0-1.5h.5c.966 0 1.75.784 1.75 1.75v5.5A1.75 1.75 0 0 1 14.25 12H14v1.543a1.458 1.458 0 0 1-2.487 1.03L9.22 12.28a.749.749 0 0 1 .326-1.275.749.749 0 0 1 .734.215l2.22 2.22v-2.19a.75.75 0 0 1 .75-.75h1a.25.25 0 0 0 .25-.25Z"></path>
</svg>
        </span>
      
        <span data-view-component="true" class="ActionListItem-label">
          Discussions
</span></a>
  
  
</li>

</ul>  </nav-list>
</nav>

      <div data-view-component="true" class="my-3 d-flex flex-justify-center height-full">
        <svg style="box-sizing: content-box; color: var(--color-icon-primary);" width="16" height="16" viewBox="0 0 16 16" fill="none" data-view-component="true" class="anim-rotate">
  <circle cx="8" cy="8" r="7" stroke="currentColor" stroke-opacity="0.25" stroke-width="2" vector-effect="non-scaling-stroke" />
  <path d="M15 8a7.002 7.002 0 00-7-7" stroke="currentColor" stroke-width="2" stroke-linecap="round" vector-effect="non-scaling-stroke" />
</svg>
</div>
</div>
      <div data-view-component="true" class="Overlay-footer Overlay-footer--alignEnd d-block pt-0">      <li role="presentation" aria-hidden="true" data-view-component="true" class="ActionList-sectionDivider mt-0 mb-1"></li>

        <nav aria-label="Additional navigation" data-view-component="true" class="ActionList px-0 flex-1">
  
  <nav-list>
    <ul data-view-component="true" class="ActionListWrap">
        
          
<li item_id="general" data-item-id="" data-targets="nav-list.items" data-view-component="true" class="ActionListItem">
    
    <a hydro-click="{&quot;event_type&quot;:&quot;global_header.user_menu_dropdown.click&quot;,&quot;payload&quot;:{&quot;request_url&quot;:&quot;https://github.com/Rixhi7/Car-Performance-Prediction-Project/blob/main/Assignments/ADS_Assignment_2_20BBS0215.ipynb&quot;,&quot;target&quot;:&quot;EXPLORE&quot;,&quot;originating_url&quot;:&quot;https://github.com/Rixhi7/Car-Performance-Prediction-Project/blob/main/Assignments/ADS_Assignment_2_20BBS0215.ipynb&quot;,&quot;user_id&quot;:108523725}}" hydro-click-hmac="68afdef9b1a72fda09b1eb0d0b81004c22eecca1254f5e9c44dce6e39c31e995" id="item-54632219-a5ec-457e-85e2-0983b5e1cb20" href="/explore" data-view-component="true" class="ActionListContent ActionListContent--visual16">
        <span class="ActionListItem-visual ActionListItem-visual--leading">
          <svg aria-hidden="true" height="16" viewBox="0 0 16 16" version="1.1" width="16" data-view-component="true" class="octicon octicon-telescope">
    <path d="M14.184 1.143v-.001l1.422 2.464a1.75 1.75 0 0 1-.757 2.451L3.104 11.713a1.75 1.75 0 0 1-2.275-.702l-.447-.775a1.75 1.75 0 0 1 .53-2.32L11.682.573a1.748 1.748 0 0 1 2.502.57Zm-4.709 9.32h-.001l2.644 3.863a.75.75 0 1 1-1.238.848l-1.881-2.75v2.826a.75.75 0 0 1-1.5 0v-2.826l-1.881 2.75a.75.75 0 1 1-1.238-.848l2.049-2.992a.746.746 0 0 1 .293-.253l1.809-.87a.749.749 0 0 1 .944.252ZM9.436 3.92h-.001l-4.97 3.39.942 1.63 5.42-2.61Zm3.091-2.108h.001l-1.85 1.26 1.505 2.605 2.016-.97a.247.247 0 0 0 .13-.151.247.247 0 0 0-.022-.199l-1.422-2.464a.253.253 0 0 0-.161-.119.254.254 0 0 0-.197.038ZM1.756 9.157a.25.25 0 0 0-.075.33l.447.775a.25.25 0 0 0 .325.1l1.598-.769-.83-1.436-1.465 1Z"></path>
</svg>
        </span>
      
        <span data-view-component="true" class="ActionListItem-label">
          Explore
</span></a>
  
  
</li>

        
          
<li item_id="general" data-item-id="" data-targets="nav-list.items" data-view-component="true" class="ActionListItem">
    
    <a hydro-click="{&quot;event_type&quot;:&quot;global_header.user_menu_dropdown.click&quot;,&quot;payload&quot;:{&quot;request_url&quot;:&quot;https://github.com/Rixhi7/Car-Performance-Prediction-Project/blob/main/Assignments/ADS_Assignment_2_20BBS0215.ipynb&quot;,&quot;target&quot;:&quot;MARKETPLACE&quot;,&quot;originating_url&quot;:&quot;https://github.com/Rixhi7/Car-Performance-Prediction-Project/blob/main/Assignments/ADS_Assignment_2_20BBS0215.ipynb&quot;,&quot;user_id&quot;:108523725}}" hydro-click-hmac="35281ef1678302ff2e42376949252e7735c5a1f8c793e315a203b9f49eee3b08" id="item-cf2827fc-905f-47a4-b1d6-36e9e93ad64c" href="/marketplace" data-view-component="true" class="ActionListContent ActionListContent--visual16">
        <span class="ActionListItem-visual ActionListItem-visual--leading">
          <svg aria-hidden="true" height="16" viewBox="0 0 16 16" version="1.1" width="16" data-view-component="true" class="octicon octicon-gift">
    <path d="M2 2.75A2.75 2.75 0 0 1 4.75 0c.983 0 1.873.42 2.57 1.232.268.318.497.668.68 1.042.183-.375.411-.725.68-1.044C9.376.42 10.266 0 11.25 0a2.75 2.75 0 0 1 2.45 4h.55c.966 0 1.75.784 1.75 1.75v2c0 .698-.409 1.301-1 1.582v4.918A1.75 1.75 0 0 1 13.25 16H2.75A1.75 1.75 0 0 1 1 14.25V9.332C.409 9.05 0 8.448 0 7.75v-2C0 4.784.784 4 1.75 4h.55c-.192-.375-.3-.8-.3-1.25ZM7.25 9.5H2.5v4.75c0 .138.112.25.25.25h4.5Zm1.5 0v5h4.5a.25.25 0 0 0 .25-.25V9.5Zm0-4V8h5.5a.25.25 0 0 0 .25-.25v-2a.25.25 0 0 0-.25-.25Zm-7 0a.25.25 0 0 0-.25.25v2c0 .138.112.25.25.25h5.5V5.5h-5.5Zm3-4a1.25 1.25 0 0 0 0 2.5h2.309c-.233-.818-.542-1.401-.878-1.793-.43-.502-.915-.707-1.431-.707ZM8.941 4h2.309a1.25 1.25 0 0 0 0-2.5c-.516 0-1 .205-1.43.707-.337.392-.646.975-.879 1.793Z"></path>
</svg>
        </span>
      
        <span data-view-component="true" class="ActionListItem-label">
          Marketplace
</span></a>
  
  
</li>

        
          
<li item_id="feedback" data-item-id="" data-targets="nav-list.items" data-view-component="true" class="ActionListItem">
    
    <a id="item-3b8b7809-e080-4429-9f05-a61987089c8b" href="https://gh.io/navigation-update" data-view-component="true" class="ActionListContent ActionListContent--visual16">
        <span class="ActionListItem-visual ActionListItem-visual--leading">
          <svg aria-hidden="true" height="16" viewBox="0 0 16 16" version="1.1" width="16" data-view-component="true" class="octicon octicon-comment-discussion">
    <path d="M1.75 1h8.5c.966 0 1.75.784 1.75 1.75v5.5A1.75 1.75 0 0 1 10.25 10H7.061l-2.574 2.573A1.458 1.458 0 0 1 2 11.543V10h-.25A1.75 1.75 0 0 1 0 8.25v-5.5C0 1.784.784 1 1.75 1ZM1.5 2.75v5.5c0 .138.112.25.25.25h1a.75.75 0 0 1 .75.75v2.19l2.72-2.72a.749.749 0 0 1 .53-.22h3.5a.25.25 0 0 0 .25-.25v-5.5a.25.25 0 0 0-.25-.25h-8.5a.25.25 0 0 0-.25.25Zm13 2a.25.25 0 0 0-.25-.25h-.5a.75.75 0 0 1 0-1.5h.5c.966 0 1.75.784 1.75 1.75v5.5A1.75 1.75 0 0 1 14.25 12H14v1.543a1.458 1.458 0 0 1-2.487 1.03L9.22 12.28a.749.749 0 0 1 .326-1.275.749.749 0 0 1 .734.215l2.22 2.22v-2.19a.75.75 0 0 1 .75-.75h1a.25.25 0 0 0 .25-.25Z"></path>
</svg>
        </span>
      
        <span data-view-component="true" class="ActionListItem-label">
          Give new navigation feedback
</span>        <span class="ActionListItem-visual ActionListItem-visual--trailing">
          <span title="Beta" data-view-component="true" class="Counter color-bg-default color-border-success-emphasis color-fg-success">Beta</span>
        </span>
</a>
  
  
</li>

</ul>  </nav-list>
</nav>

      <div data-view-component="true" class="px-2">      <p class="color-fg-subtle text-small text-light">&copy; 2023 GitHub, Inc.</p>

      <div data-view-component="true" class="d-flex text-small text-light">
          <a target="_blank" href="/about" data-view-component="true" class="no-underline mr-2">About</a>
          <a target="_blank" href="https://github.blog" data-view-component="true" class="no-underline mr-2">Blog</a>
          <a target="_blank" href="https://docs.github.com/site-policy/github-terms/github-terms-of-service" data-view-component="true" class="no-underline mr-2">Terms</a>
          <a target="_blank" href="https://docs.github.com/site-policy/privacy-policies/github-privacy-statement" data-view-component="true" class="no-underline mr-2">Privacy</a>
          <a target="_blank" href="/security" data-view-component="true" class="no-underline mr-2">Security</a>
        <a target="_blank" href="https://www.githubstatus.com/" data-view-component="true" class="no-underline mr-3">Status</a>
</div></div>
</div>
</modal-dialog></div>

  </include-fragment>
</deferred-side-panel>

        <a
          class="AppHeader-logo ml-2"
          href="https://github.com/"
          data-hotkey="g d"
          aria-label="Homepage "
          data-turbo="false"
          data-analytics-event="{&quot;category&quot;:&quot;Header&quot;,&quot;action&quot;:&quot;go to dashboard&quot;,&quot;label&quot;:&quot;icon:logo&quot;}"
        >
          <svg height="32" aria-hidden="true" viewBox="0 0 16 16" version="1.1" width="32" data-view-component="true" class="octicon octicon-mark-github v-align-middle color-fg-default">
    <path d="M8 0c4.42 0 8 3.58 8 8a8.013 8.013 0 0 1-5.45 7.59c-.4.08-.55-.17-.55-.38 0-.27.01-1.13.01-2.2 0-.75-.25-1.23-.54-1.48 1.78-.2 3.65-.88 3.65-3.95 0-.88-.31-1.59-.82-2.15.08-.2.36-1.02-.08-2.12 0 0-.67-.22-2.2.82-.64-.18-1.32-.27-2-.27-.68 0-1.36.09-2 .27-1.53-1.03-2.2-.82-2.2-.82-.44 1.1-.16 1.92-.08 2.12-.51.56-.82 1.28-.82 2.15 0 3.06 1.86 3.75 3.64 3.95-.23.2-.44.55-.51 1.07-.46.21-1.61.55-2.33-.66-.15-.24-.6-.83-1.23-.82-.67.01-.27.38.01.53.34.19.73.9.82 1.13.16.45.68 1.31 2.69.94 0 .67.01 1.3.01 1.49 0 .21-.15.45-.55.38A7.995 7.995 0 0 1 0 8c0-4.42 3.58-8 8-8Z"></path>
</svg>
        </a>

          <div class="AppHeader-context" >
  <div class="AppHeader-context-compact">
        <button aria-expanded="false" aria-haspopup="dialog" aria-label="Page context: Rixhi7 / Car-Performance-Prediction-Project" id="dialog-show-context-region-dialog" data-show-dialog-id="context-region-dialog" type="button" data-view-component="true" class="AppHeader-context-compact-trigger Truncate Button--secondary Button--medium Button box-shadow-none">    <span class="Button-content">
      <span class="Button-label"><span class="AppHeader-context-compact-lead">
                <span class="AppHeader-context-compact-parentItem">Rixhi7</span>
                <span class="AppHeader-context-compact-separator">&nbsp;/</span>

            </span>

            <strong class="AppHeader-context-compact-mainItem d-flex flex-items-center Truncate" >
  <span class="Truncate-text ">Car-Performance-Prediction-Project</span>

</strong></span>
    </span>
</button>  

<div class="Overlay--hidden Overlay-backdrop--center" data-modal-dialog-overlay>
  <modal-dialog role="dialog" id="context-region-dialog" aria-modal="true" aria-disabled="true" aria-describedby="context-region-dialog-title context-region-dialog-description" data-view-component="true" class="Overlay Overlay-whenNarrow Overlay--size-medium Overlay--motion-scaleFade">
    <div data-view-component="true" class="Overlay-header">
  <div class="Overlay-headerContentWrap">
    <div class="Overlay-titleWrap">
      <h1 class="Overlay-title " id="context-region-dialog-title">
        Navigate back to
      </h1>
    </div>
    <div class="Overlay-actionWrap">
      <button data-close-dialog-id="context-region-dialog" aria-label="Close" type="button" data-view-component="true" class="close-button Overlay-closeButton"><svg aria-hidden="true" height="16" viewBox="0 0 16 16" version="1.1" width="16" data-view-component="true" class="octicon octicon-x">
    <path d="M3.72 3.72a.75.75 0 0 1 1.06 0L8 6.94l3.22-3.22a.749.749 0 0 1 1.275.326.749.749 0 0 1-.215.734L9.06 8l3.22 3.22a.749.749 0 0 1-.326 1.275.749.749 0 0 1-.734-.215L8 9.06l-3.22 3.22a.751.751 0 0 1-1.042-.018.751.751 0 0 1-.018-1.042L6.94 8 3.72 4.78a.75.75 0 0 1 0-1.06Z"></path>
</svg></button>
    </div>
  </div>
</div>
      <div data-view-component="true" class="Overlay-body">          <ul role="list" class="list-style-none" >
    <li>
      <a data-analytics-event="{&quot;category&quot;:&quot;SiteHeaderComponent&quot;,&quot;action&quot;:&quot;context_region_crumb&quot;,&quot;label&quot;:&quot;Rixhi7&quot;,&quot;screen_size&quot;:&quot;compact&quot;}" href="/Rixhi7" data-view-component="true" class="Link--primary Truncate d-flex flex-items-center py-1">
        <span class="AppHeader-context-item-label Truncate-text ">
          Rixhi7
        </span>

</a>
    </li>
    <li>
      <a data-analytics-event="{&quot;category&quot;:&quot;SiteHeaderComponent&quot;,&quot;action&quot;:&quot;context_region_crumb&quot;,&quot;label&quot;:&quot;Car-Performance-Prediction-Project&quot;,&quot;screen_size&quot;:&quot;compact&quot;}" href="/Rixhi7/Car-Performance-Prediction-Project" data-view-component="true" class="Link--primary Truncate d-flex flex-items-center py-1">
        <span class="AppHeader-context-item-label Truncate-text ">
          Car-Performance-Prediction-Project
        </span>

</a>
    </li>
</ul>

</div>
      
</modal-dialog></div>
  </div>

  <div class="AppHeader-context-full">
    <nav role="navigation" aria-label="Page context">
      <ul role="list" class="list-style-none" >
    <li>
      <a data-analytics-event="{&quot;category&quot;:&quot;SiteHeaderComponent&quot;,&quot;action&quot;:&quot;context_region_crumb&quot;,&quot;label&quot;:&quot;Rixhi7&quot;,&quot;screen_size&quot;:&quot;full&quot;}" data-hovercard-type="user" data-hovercard-url="/users/Rixhi7/hovercard" data-octo-click="hovercard-link-click" data-octo-dimensions="link_type:self" href="/Rixhi7" data-view-component="true" class="AppHeader-context-item">
        <span class="AppHeader-context-item-label  ">
          Rixhi7
        </span>

</a>
        <span class="AppHeader-context-item-separator">/</span>
    </li>
    <li>
      <a data-analytics-event="{&quot;category&quot;:&quot;SiteHeaderComponent&quot;,&quot;action&quot;:&quot;context_region_crumb&quot;,&quot;label&quot;:&quot;Car-Performance-Prediction-Project&quot;,&quot;screen_size&quot;:&quot;full&quot;}" href="/Rixhi7/Car-Performance-Prediction-Project" data-view-component="true" class="AppHeader-context-item">
        <span class="AppHeader-context-item-label  ">
          Car-Performance-Prediction-Project
        </span>

</a>
    </li>
</ul>

    </nav>
  </div>
</div>

      </div>
      <div class="AppHeader-globalBar-end">
          <div class="AppHeader-search" >
              


<qbsearch-input class="search-input" data-scope="repo:Rixhi7/Car-Performance-Prediction-Project" data-custom-scopes-path="/search/custom_scopes" data-delete-custom-scopes-csrf="Lz0YYY_AYaGF5I13msEmFPF0ppr-_948_rqurA3x9Ccxl6wthmeYvDTkzmvxyt77lOz-juUYzDVuoHKWmjbbAw" data-max-custom-scopes="10" data-header-redesign-enabled="true" data-initial-value="" data-blackbird-suggestions-path="/search/suggestions" data-jump-to-suggestions-path="/_graphql/GetSuggestedNavigationDestinations" data-current-repository="Rixhi7/Car-Performance-Prediction-Project" data-current-org="" data-current-owner="Rixhi7" data-logged-in="true">
  <div
    class="search-input-container search-with-dialog position-relative d-flex flex-row flex-items-center height-auto color-bg-transparent border-0 color-fg-subtle mx-0"
    data-action="click:qbsearch-input#searchInputContainerClicked"
  >
      
            <button type="button" data-action="click:qbsearch-input#handleExpand" class="AppHeader-button AppHeader-search-whenNarrow" aria-label="Search or jump to…" aria-expanded="false" aria-haspopup="dialog">
            <svg aria-hidden="true" height="16" viewBox="0 0 16 16" version="1.1" width="16" data-view-component="true" class="octicon octicon-search">
    <path d="M10.68 11.74a6 6 0 0 1-7.922-8.982 6 6 0 0 1 8.982 7.922l3.04 3.04a.749.749 0 0 1-.326 1.275.749.749 0 0 1-.734-.215ZM11.5 7a4.499 4.499 0 1 0-8.997 0A4.499 4.499 0 0 0 11.5 7Z"></path>
</svg>
          </button>


<div class="AppHeader-search-whenRegular">
  <div class="AppHeader-search-wrap AppHeader-search-wrap--hasTrailing">
    <div class="AppHeader-search-control">
      <label
        for="AppHeader-searchInput"
        aria-label="Search or jump to…"
        class="AppHeader-search-visual--leading"
      >
        <svg aria-hidden="true" height="16" viewBox="0 0 16 16" version="1.1" width="16" data-view-component="true" class="octicon octicon-search">
    <path d="M10.68 11.74a6 6 0 0 1-7.922-8.982 6 6 0 0 1 8.982 7.922l3.04 3.04a.749.749 0 0 1-.326 1.275.749.749 0 0 1-.734-.215ZM11.5 7a4.499 4.499 0 1 0-8.997 0A4.499 4.499 0 0 0 11.5 7Z"></path>
</svg>
      </label>

                <button
            type="button"
            data-target="qbsearch-input.inputButton"
            data-action="click:qbsearch-input#handleExpand"
            class="AppHeader-searchButton form-control input-contrast text-left color-fg-subtle no-wrap"
            data-hotkey="s,/"
          >
            <div class="overflow-hidden">
              <span data-target="qbsearch-input.inputButtonText">
                  Type <kbd class="AppHeader-search-kbd">/</kbd> to search
              </span>
            </div>
          </button>

    </div>


      <button type="button" id="AppHeader-commandPalette-button" class="AppHeader-search-action--trailing js-activate-command-palette" data-analytics-event="{&quot;category&quot;:&quot;SiteHeaderComponent&quot;,&quot;action&quot;:&quot;command_palette&quot;,&quot;label&quot;:&quot;open command palette&quot;}">
        <svg aria-hidden="true" height="16" viewBox="0 0 16 16" version="1.1" width="16" data-view-component="true" class="octicon octicon-command-palette">
    <path d="m6.354 8.04-4.773 4.773a.75.75 0 1 0 1.061 1.06L7.945 8.57a.75.75 0 0 0 0-1.06L2.642 2.206a.75.75 0 0 0-1.06 1.061L6.353 8.04ZM8.75 11.5a.75.75 0 0 0 0 1.5h5.5a.75.75 0 0 0 0-1.5h-5.5Z"></path>
</svg>
      </button>

      <tool-tip id="tooltip-79989841-a055-433b-b81e-2ad97c17284c" for="AppHeader-commandPalette-button" data-direction="s" data-type="label" data-view-component="true" class="sr-only position-absolute">Command palette</tool-tip>
  </div>
</div>

    <input type="hidden" name="type" class="js-site-search-type-field">

    
<div class="Overlay--hidden " data-modal-dialog-overlay>
  <modal-dialog data-action="close:qbsearch-input#handleClose cancel:qbsearch-input#handleClose" data-target="qbsearch-input.searchSuggestionsDialog" role="dialog" id="search-suggestions-dialog" aria-modal="true" aria-labelledby="search-suggestions-dialog-header" data-view-component="true" class="Overlay Overlay--width-medium Overlay--height-auto">
      <h1 id="search-suggestions-dialog-header" class="sr-only">Search code, repositories, users, issues, pull requests...</h1>
    <div class="Overlay-body Overlay-body--paddingNone">
      
          <div data-view-component="true">        <div class="search-suggestions position-absolute width-full color-shadow-large border color-fg-default color-bg-default overflow-hidden d-flex flex-column query-builder-container"
          style="border-radius: 12px;"
          data-target="qbsearch-input.queryBuilderContainer"
          hidden
        >
          <!-- '"` --><!-- </textarea></xmp> --></option></form><form id="query-builder-test-form" action="" accept-charset="UTF-8" method="get">
  <query-builder data-target="qbsearch-input.queryBuilder" id="query-builder-query-builder-test" data-filter-key=":" data-view-component="true" class="QueryBuilder search-query-builder">
    <div class="FormControl FormControl--fullWidth">
      <label id="query-builder-test-label" for="query-builder-test" class="FormControl-label sr-only">
        Search
      </label>
      <div class="QueryBuilder-StyledInput width-fit" data-target="query-builder.styledInput">
          <span id="query-builder-test-leadingvisual-wrap" class="FormControl-input-leadingVisualWrap QueryBuilder-leadingVisualWrap">
            <svg aria-hidden="true" height="16" viewBox="0 0 16 16" version="1.1" width="16" data-view-component="true" class="octicon octicon-search FormControl-input-leadingVisual">
    <path d="M10.68 11.74a6 6 0 0 1-7.922-8.982 6 6 0 0 1 8.982 7.922l3.04 3.04a.749.749 0 0 1-.326 1.275.749.749 0 0 1-.734-.215ZM11.5 7a4.499 4.499 0 1 0-8.997 0A4.499 4.499 0 0 0 11.5 7Z"></path>
</svg>
          </span>
        <div data-target="query-builder.styledInputContainer" class="QueryBuilder-StyledInputContainer">
          <div
            aria-hidden="true"
            class="QueryBuilder-StyledInputContent"
            data-target="query-builder.styledInputContent"
          ></div>
          <div class="QueryBuilder-InputWrapper">
            <div aria-hidden="true" class="QueryBuilder-Sizer" data-target="query-builder.sizer"></div>
            <input id="query-builder-test" name="query-builder-test" value="" autocomplete="off" type="text" role="combobox" spellcheck="false" aria-expanded="false" data-target="query-builder.input" data-action="
          input:query-builder#inputChange
          blur:query-builder#inputBlur
          keydown:query-builder#inputKeydown
          focus:query-builder#inputFocus
        " data-view-component="true" class="FormControl-input QueryBuilder-Input FormControl-medium" />
          </div>
        </div>
          <span class="sr-only" id="query-builder-test-clear">Clear</span>
          
  <button role="button" id="query-builder-test-clear-button" aria-labelledby="query-builder-test-clear query-builder-test-label" data-target="query-builder.clearButton" data-action="
                click:query-builder#clear
                focus:query-builder#clearButtonFocus
                blur:query-builder#clearButtonBlur
              " variant="small" hidden="hidden" type="button" data-view-component="true" class="Button Button--iconOnly Button--invisible Button--medium mr-1 px-2 py-0 d-flex flex-items-center rounded-1 color-fg-muted">    <svg aria-hidden="true" height="16" viewBox="0 0 16 16" version="1.1" width="16" data-view-component="true" class="octicon octicon-x-circle-fill Button-visual">
    <path d="M2.343 13.657A8 8 0 1 1 13.658 2.343 8 8 0 0 1 2.343 13.657ZM6.03 4.97a.751.751 0 0 0-1.042.018.751.751 0 0 0-.018 1.042L6.94 8 4.97 9.97a.749.749 0 0 0 .326 1.275.749.749 0 0 0 .734-.215L8 9.06l1.97 1.97a.749.749 0 0 0 1.275-.326.749.749 0 0 0-.215-.734L9.06 8l1.97-1.97a.749.749 0 0 0-.326-1.275.749.749 0 0 0-.734.215L8 6.94Z"></path>
</svg>
</button>  

      </div>
      <template id="search-icon">
  <svg aria-hidden="true" height="16" viewBox="0 0 16 16" version="1.1" width="16" data-view-component="true" class="octicon octicon-search">
    <path d="M10.68 11.74a6 6 0 0 1-7.922-8.982 6 6 0 0 1 8.982 7.922l3.04 3.04a.749.749 0 0 1-.326 1.275.749.749 0 0 1-.734-.215ZM11.5 7a4.499 4.499 0 1 0-8.997 0A4.499 4.499 0 0 0 11.5 7Z"></path>
</svg>
</template>

<template id="code-icon">
  <svg aria-hidden="true" height="16" viewBox="0 0 16 16" version="1.1" width="16" data-view-component="true" class="octicon octicon-code">
    <path d="m11.28 3.22 4.25 4.25a.75.75 0 0 1 0 1.06l-4.25 4.25a.749.749 0 0 1-1.275-.326.749.749 0 0 1 .215-.734L13.94 8l-3.72-3.72a.749.749 0 0 1 .326-1.275.749.749 0 0 1 .734.215Zm-6.56 0a.751.751 0 0 1 1.042.018.751.751 0 0 1 .018 1.042L2.06 8l3.72 3.72a.749.749 0 0 1-.326 1.275.749.749 0 0 1-.734-.215L.47 8.53a.75.75 0 0 1 0-1.06Z"></path>
</svg>
</template>

<template id="file-code-icon">
  <svg aria-hidden="true" height="16" viewBox="0 0 16 16" version="1.1" width="16" data-view-component="true" class="octicon octicon-file-code">
    <path d="M4 1.75C4 .784 4.784 0 5.75 0h5.586c.464 0 .909.184 1.237.513l2.914 2.914c.329.328.513.773.513 1.237v8.586A1.75 1.75 0 0 1 14.25 15h-9a.75.75 0 0 1 0-1.5h9a.25.25 0 0 0 .25-.25V6h-2.75A1.75 1.75 0 0 1 10 4.25V1.5H5.75a.25.25 0 0 0-.25.25v2.5a.75.75 0 0 1-1.5 0Zm1.72 4.97a.75.75 0 0 1 1.06 0l2 2a.75.75 0 0 1 0 1.06l-2 2a.749.749 0 0 1-1.275-.326.749.749 0 0 1 .215-.734l1.47-1.47-1.47-1.47a.75.75 0 0 1 0-1.06ZM3.28 7.78 1.81 9.25l1.47 1.47a.751.751 0 0 1-.018 1.042.751.751 0 0 1-1.042.018l-2-2a.75.75 0 0 1 0-1.06l2-2a.751.751 0 0 1 1.042.018.751.751 0 0 1 .018 1.042Zm8.22-6.218V4.25c0 .138.112.25.25.25h2.688l-.011-.013-2.914-2.914-.013-.011Z"></path>
</svg>
</template>

<template id="history-icon">
  <svg aria-hidden="true" height="16" viewBox="0 0 16 16" version="1.1" width="16" data-view-component="true" class="octicon octicon-history">
    <path d="m.427 1.927 1.215 1.215a8.002 8.002 0 1 1-1.6 5.685.75.75 0 1 1 1.493-.154 6.5 6.5 0 1 0 1.18-4.458l1.358 1.358A.25.25 0 0 1 3.896 6H.25A.25.25 0 0 1 0 5.75V2.104a.25.25 0 0 1 .427-.177ZM7.75 4a.75.75 0 0 1 .75.75v2.992l2.028.812a.75.75 0 0 1-.557 1.392l-2.5-1A.751.751 0 0 1 7 8.25v-3.5A.75.75 0 0 1 7.75 4Z"></path>
</svg>
</template>

<template id="repo-icon">
  <svg aria-hidden="true" height="16" viewBox="0 0 16 16" version="1.1" width="16" data-view-component="true" class="octicon octicon-repo">
    <path d="M2 2.5A2.5 2.5 0 0 1 4.5 0h8.75a.75.75 0 0 1 .75.75v12.5a.75.75 0 0 1-.75.75h-2.5a.75.75 0 0 1 0-1.5h1.75v-2h-8a1 1 0 0 0-.714 1.7.75.75 0 1 1-1.072 1.05A2.495 2.495 0 0 1 2 11.5Zm10.5-1h-8a1 1 0 0 0-1 1v6.708A2.486 2.486 0 0 1 4.5 9h8ZM5 12.25a.25.25 0 0 1 .25-.25h3.5a.25.25 0 0 1 .25.25v3.25a.25.25 0 0 1-.4.2l-1.45-1.087a.249.249 0 0 0-.3 0L5.4 15.7a.25.25 0 0 1-.4-.2Z"></path>
</svg>
</template>

<template id="bookmark-icon">
  <svg aria-hidden="true" height="16" viewBox="0 0 16 16" version="1.1" width="16" data-view-component="true" class="octicon octicon-bookmark">
    <path d="M3 2.75C3 1.784 3.784 1 4.75 1h6.5c.966 0 1.75.784 1.75 1.75v11.5a.75.75 0 0 1-1.227.579L8 11.722l-3.773 3.107A.751.751 0 0 1 3 14.25Zm1.75-.25a.25.25 0 0 0-.25.25v9.91l3.023-2.489a.75.75 0 0 1 .954 0l3.023 2.49V2.75a.25.25 0 0 0-.25-.25Z"></path>
</svg>
</template>

<template id="plus-circle-icon">
  <svg aria-hidden="true" height="16" viewBox="0 0 16 16" version="1.1" width="16" data-view-component="true" class="octicon octicon-plus-circle">
    <path d="M8 0a8 8 0 1 1 0 16A8 8 0 0 1 8 0ZM1.5 8a6.5 6.5 0 1 0 13 0 6.5 6.5 0 0 0-13 0Zm7.25-3.25v2.5h2.5a.75.75 0 0 1 0 1.5h-2.5v2.5a.75.75 0 0 1-1.5 0v-2.5h-2.5a.75.75 0 0 1 0-1.5h2.5v-2.5a.75.75 0 0 1 1.5 0Z"></path>
</svg>
</template>

<template id="circle-icon">
  <svg aria-hidden="true" height="16" viewBox="0 0 16 16" version="1.1" width="16" data-view-component="true" class="octicon octicon-dot-fill">
    <path d="M8 4a4 4 0 1 1 0 8 4 4 0 0 1 0-8Z"></path>
</svg>
</template>

<template id="trash-icon">
  <svg aria-hidden="true" height="16" viewBox="0 0 16 16" version="1.1" width="16" data-view-component="true" class="octicon octicon-trash">
    <path d="M11 1.75V3h2.25a.75.75 0 0 1 0 1.5H2.75a.75.75 0 0 1 0-1.5H5V1.75C5 .784 5.784 0 6.75 0h2.5C10.216 0 11 .784 11 1.75ZM4.496 6.675l.66 6.6a.25.25 0 0 0 .249.225h5.19a.25.25 0 0 0 .249-.225l.66-6.6a.75.75 0 0 1 1.492.149l-.66 6.6A1.748 1.748 0 0 1 10.595 15h-5.19a1.75 1.75 0 0 1-1.741-1.575l-.66-6.6a.75.75 0 1 1 1.492-.15ZM6.5 1.75V3h3V1.75a.25.25 0 0 0-.25-.25h-2.5a.25.25 0 0 0-.25.25Z"></path>
</svg>
</template>

<template id="team-icon">
  <svg aria-hidden="true" height="16" viewBox="0 0 16 16" version="1.1" width="16" data-view-component="true" class="octicon octicon-people">
    <path d="M2 5.5a3.5 3.5 0 1 1 5.898 2.549 5.508 5.508 0 0 1 3.034 4.084.75.75 0 1 1-1.482.235 4 4 0 0 0-7.9 0 .75.75 0 0 1-1.482-.236A5.507 5.507 0 0 1 3.102 8.05 3.493 3.493 0 0 1 2 5.5ZM11 4a3.001 3.001 0 0 1 2.22 5.018 5.01 5.01 0 0 1 2.56 3.012.749.749 0 0 1-.885.954.752.752 0 0 1-.549-.514 3.507 3.507 0 0 0-2.522-2.372.75.75 0 0 1-.574-.73v-.352a.75.75 0 0 1 .416-.672A1.5 1.5 0 0 0 11 5.5.75.75 0 0 1 11 4Zm-5.5-.5a2 2 0 1 0-.001 3.999A2 2 0 0 0 5.5 3.5Z"></path>
</svg>
</template>

<template id="project-icon">
  <svg aria-hidden="true" height="16" viewBox="0 0 16 16" version="1.1" width="16" data-view-component="true" class="octicon octicon-project">
    <path d="M1.75 0h12.5C15.216 0 16 .784 16 1.75v12.5A1.75 1.75 0 0 1 14.25 16H1.75A1.75 1.75 0 0 1 0 14.25V1.75C0 .784.784 0 1.75 0ZM1.5 1.75v12.5c0 .138.112.25.25.25h12.5a.25.25 0 0 0 .25-.25V1.75a.25.25 0 0 0-.25-.25H1.75a.25.25 0 0 0-.25.25ZM11.75 3a.75.75 0 0 1 .75.75v7.5a.75.75 0 0 1-1.5 0v-7.5a.75.75 0 0 1 .75-.75Zm-8.25.75a.75.75 0 0 1 1.5 0v5.5a.75.75 0 0 1-1.5 0ZM8 3a.75.75 0 0 1 .75.75v3.5a.75.75 0 0 1-1.5 0v-3.5A.75.75 0 0 1 8 3Z"></path>
</svg>
</template>

<template id="pencil-icon">
  <svg aria-hidden="true" height="16" viewBox="0 0 16 16" version="1.1" width="16" data-view-component="true" class="octicon octicon-pencil">
    <path d="M11.013 1.427a1.75 1.75 0 0 1 2.474 0l1.086 1.086a1.75 1.75 0 0 1 0 2.474l-8.61 8.61c-.21.21-.47.364-.756.445l-3.251.93a.75.75 0 0 1-.927-.928l.929-3.25c.081-.286.235-.547.445-.758l8.61-8.61Zm.176 4.823L9.75 4.81l-6.286 6.287a.253.253 0 0 0-.064.108l-.558 1.953 1.953-.558a.253.253 0 0 0 .108-.064Zm1.238-3.763a.25.25 0 0 0-.354 0L10.811 3.75l1.439 1.44 1.263-1.263a.25.25 0 0 0 0-.354Z"></path>
</svg>
</template>

        <div class="position-relative">
                <ul
                  role="listbox"
                  class="ActionListWrap QueryBuilder-ListWrap"
                  aria-label="Suggestions"
                  data-action="
                    combobox-commit:query-builder#comboboxCommit
                    mousedown:query-builder#resultsMousedown
                  "
                  data-target="query-builder.resultsList"
                  data-persist-list=false
                  id="query-builder-test-results"
                ></ul>
        </div>
    </div>
    <div data-target="query-builder.screenReaderFeedback" aria-live="polite" aria-atomic="true" class="sr-only"></div>
</query-builder></form>
          <div class="d-flex flex-row color-fg-muted px-3 text-small color-bg-default search-feedback-prompt">
            <a target="_blank" href="https://docs.github.com/en/search-github/github-code-search/understanding-github-code-search-syntax" data-view-component="true" class="color-fg-accent text-normal ml-2">
              Search syntax tips
</a>            <div class="d-flex flex-1"></div>
                <button data-action="click:qbsearch-input#showFeedbackDialog" type="button" data-view-component="true" class="Button--link Button--medium Button color-fg-accent text-normal ml-2">    <span class="Button-content">
      <span class="Button-label">Give feedback</span>
    </span>
</button>  
          </div>
        </div>
</div>

    </div>
</modal-dialog></div>
  </div>
  <div data-action="click:qbsearch-input#retract" class="dark-backdrop position-fixed" hidden data-target="qbsearch-input.darkBackdrop"></div>
  <div class="color-fg-default">
    
<div class="Overlay--hidden Overlay-backdrop--center" data-modal-dialog-overlay>
  <modal-dialog data-target="qbsearch-input.feedbackDialog" data-action="close:qbsearch-input#handleDialogClose cancel:qbsearch-input#handleDialogClose" role="dialog" id="feedback-dialog" aria-modal="true" aria-disabled="true" aria-describedby="feedback-dialog-title feedback-dialog-description" data-view-component="true" class="Overlay Overlay-whenNarrow Overlay--size-medium Overlay--motion-scaleFade">
    <div data-view-component="true" class="Overlay-header">
  <div class="Overlay-headerContentWrap">
    <div class="Overlay-titleWrap">
      <h1 class="Overlay-title " id="feedback-dialog-title">
        Provide feedback
      </h1>
    </div>
    <div class="Overlay-actionWrap">
      <button data-close-dialog-id="feedback-dialog" aria-label="Close" type="button" data-view-component="true" class="close-button Overlay-closeButton"><svg aria-hidden="true" height="16" viewBox="0 0 16 16" version="1.1" width="16" data-view-component="true" class="octicon octicon-x">
    <path d="M3.72 3.72a.75.75 0 0 1 1.06 0L8 6.94l3.22-3.22a.749.749 0 0 1 1.275.326.749.749 0 0 1-.215.734L9.06 8l3.22 3.22a.749.749 0 0 1-.326 1.275.749.749 0 0 1-.734-.215L8 9.06l-3.22 3.22a.751.751 0 0 1-1.042-.018.751.751 0 0 1-.018-1.042L6.94 8 3.72 4.78a.75.75 0 0 1 0-1.06Z"></path>
</svg></button>
    </div>
  </div>
</div>
      <div data-view-component="true" class="Overlay-body">        <!-- '"` --><!-- </textarea></xmp> --></option></form><form id="code-search-feedback-form" data-turbo="false" action="/search/feedback" accept-charset="UTF-8" method="post"><input type="hidden" name="authenticity_token" value="YLxCY0GCEE3QxeTbPs__31945SENAO97o2EJbe11NWtvr72dcihQyJRmgdjxXV-By37GcBS2NFf8ULiy7bSC0g" />
          <p>We read every piece of feedback, and take your input very seriously.</p>
          <textarea name="feedback" class="form-control width-full mb-2" style="height: 120px" id="feedback"></textarea>
          <input name="include_email" id="include_email" aria-label="Include my email address so I can be contacted" class="form-control mr-2" type="checkbox">
          <label for="include_email" style="font-weight: normal">Include my email address so I can be contacted</label>
</form></div>
      <div data-view-component="true" class="Overlay-footer Overlay-footer--alignEnd">          <button data-close-dialog-id="feedback-dialog" type="button" data-view-component="true" class="btn">    Cancel
</button>
          <button form="code-search-feedback-form" data-action="click:qbsearch-input#submitFeedback" type="submit" data-view-component="true" class="btn-primary btn">    Submit feedback
</button>
</div>
</modal-dialog></div>

    <custom-scopes data-target="qbsearch-input.customScopesManager">
    
<div class="Overlay--hidden Overlay-backdrop--center" data-modal-dialog-overlay>
  <modal-dialog data-target="custom-scopes.customScopesModalDialog" data-action="close:qbsearch-input#handleDialogClose cancel:qbsearch-input#handleDialogClose" role="dialog" id="custom-scopes-dialog" aria-modal="true" aria-disabled="true" aria-describedby="custom-scopes-dialog-title custom-scopes-dialog-description" data-view-component="true" class="Overlay Overlay-whenNarrow Overlay--size-medium Overlay--motion-scaleFade">
    <div data-view-component="true" class="Overlay-header Overlay-header--divided">
  <div class="Overlay-headerContentWrap">
    <div class="Overlay-titleWrap">
      <h1 class="Overlay-title " id="custom-scopes-dialog-title">
        Saved searches
      </h1>
        <h2 id="custom-scopes-dialog-description" class="Overlay-description">Use saved searches to filter your results more quickly</h2>
    </div>
    <div class="Overlay-actionWrap">
      <button data-close-dialog-id="custom-scopes-dialog" aria-label="Close" type="button" data-view-component="true" class="close-button Overlay-closeButton"><svg aria-hidden="true" height="16" viewBox="0 0 16 16" version="1.1" width="16" data-view-component="true" class="octicon octicon-x">
    <path d="M3.72 3.72a.75.75 0 0 1 1.06 0L8 6.94l3.22-3.22a.749.749 0 0 1 1.275.326.749.749 0 0 1-.215.734L9.06 8l3.22 3.22a.749.749 0 0 1-.326 1.275.749.749 0 0 1-.734-.215L8 9.06l-3.22 3.22a.751.751 0 0 1-1.042-.018.751.751 0 0 1-.018-1.042L6.94 8 3.72 4.78a.75.75 0 0 1 0-1.06Z"></path>
</svg></button>
    </div>
  </div>
</div>
      <div data-view-component="true" class="Overlay-body">        <div data-target="custom-scopes.customScopesModalDialogFlash"></div>

        <div hidden class="create-custom-scope-form" data-target="custom-scopes.createCustomScopeForm">
        <!-- '"` --><!-- </textarea></xmp> --></option></form><form id="custom-scopes-dialog-form" data-turbo="false" action="/search/custom_scopes" accept-charset="UTF-8" method="post"><input type="hidden" name="authenticity_token" value="43bMhSHDfxcjAJXiQJFal-N1BqZrehlyta1H-NNDILqZK2MvxUDYkDSpdwWyMogfjSAwtf1fgbFox0S-yTpOFg" />
          <div data-target="custom-scopes.customScopesModalDialogFlash"></div>

          <input type="hidden" id="custom_scope_id" name="custom_scope_id" data-target="custom-scopes.customScopesIdField">

          <div class="form-group">
            <label for="custom_scope_name">Name</label>
            <auto-check src="/search/custom_scopes/check_name" required>
              <input
                type="text"
                name="custom_scope_name"
                id="custom_scope_name"
                data-target="custom-scopes.customScopesNameField"
                class="form-control"
                autocomplete="off"
                placeholder="github-ruby"
                required
                maxlength="50">
              <input type="hidden" value="l4WQpO4UuWMhJMRf1I_42lR7ZZAXwFSQZqAamtpJM2WHAN9MnAv0ujISt4pBC7REdiEUfFX6ZkpaNVzzZN06gg" data-csrf="true" />
            </auto-check>
          </div>

          <div class="form-group">
            <label for="custom_scope_query">Query</label>
            <input
              type="text"
              name="custom_scope_query"
              id="custom_scope_query"
              data-target="custom-scopes.customScopesQueryField"
              class="form-control"
              autocomplete="off"
              placeholder="(repo:mona/a OR repo:mona/b) AND lang:python"
              required
              maxlength="500">
          </div>

          <p class="text-small color-fg-muted">
            To see all available qualifiers, see our <a href="https://docs.github.com/en/search-github/github-code-search/understanding-github-code-search-syntax">documentation</a>.
          </p>
</form>        </div>

        <div data-target="custom-scopes.manageCustomScopesForm">
          <div data-target="custom-scopes.list"></div>
        </div>

</div>
      <div data-view-component="true" class="Overlay-footer Overlay-footer--alignEnd Overlay-footer--divided">          <button data-action="click:custom-scopes#customScopesCancel" type="button" data-view-component="true" class="btn">    Cancel
</button>
          <button form="custom-scopes-dialog-form" data-action="click:custom-scopes#customScopesSubmit" data-target="custom-scopes.customScopesSubmitButton" type="submit" data-view-component="true" class="btn-primary btn">    Create saved search
</button>
</div>
</modal-dialog></div>
    </custom-scopes>
  </div>
</qbsearch-input><input type="hidden" value="OXwA6kmgzSB_t1XFKjK5-dn3bxmxTirT6LXcf8wvmgbwJmjs1Kz1jLyUb0qQAUFEQTdZ82OwLQQykttT_wZyew" data-csrf="true" class="js-data-jump-to-suggestions-path-csrf" />

          </div>

        <div class="AppHeader-actions">
          <action-menu data-select-variant="none" data-view-component="true">
  <focus-group direction="vertical" mnemonics retain>
    <div data-view-component="true" class="Button-withTooltip">  <button id="global-create-menu-button" popovertarget="global-create-menu-overlay" aria-label="Create something new" aria-controls="global-create-menu-list" aria-haspopup="true" type="button" data-view-component="true" class="AppHeader-button Button--secondary Button--small Button width-auto color-fg-muted box-shadow-none">    <span class="Button-content">
        <span class="Button-visual Button-leadingVisual">
          <svg aria-hidden="true" height="16" viewBox="0 0 16 16" version="1.1" width="16" data-view-component="true" class="octicon octicon-plus">
    <path d="M7.75 2a.75.75 0 0 1 .75.75V7h4.25a.75.75 0 0 1 0 1.5H8.5v4.25a.75.75 0 0 1-1.5 0V8.5H2.75a.75.75 0 0 1 0-1.5H7V2.75A.75.75 0 0 1 7.75 2Z"></path>
</svg>
        </span>
      <span class="Button-label"><svg aria-hidden="true" height="16" viewBox="0 0 16 16" version="1.1" width="16" data-view-component="true" class="octicon octicon-triangle-down">
    <path d="m4.427 7.427 3.396 3.396a.25.25 0 0 0 .354 0l3.396-3.396A.25.25 0 0 0 11.396 7H4.604a.25.25 0 0 0-.177.427Z"></path>
</svg></span>
    </span>
</button>  <tool-tip id="tooltip-64816bec-32b7-4633-8f75-48b79a606b95" for="global-create-menu-button" data-direction="s" data-type="description" data-view-component="true" class="sr-only position-absolute">Create new...</tool-tip>
</div>

<anchored-position id="global-create-menu-overlay" anchor="global-create-menu-button" align="end" side="outside-bottom" anchor-offset="normal" popover="auto" aria-label="Menu" data-view-component="true">
  <div data-view-component="true" class="Overlay Overlay--size-auto">
    
      
        <div data-view-component="true">
  <ul aria-labelledby="global-create-menu-button" id="global-create-menu-list" role="menu" data-view-component="true" class="ActionListWrap--inset ActionListWrap">
      <li data-analytics-event="{&quot;category&quot;:&quot;SiteHeaderComponent&quot;,&quot;action&quot;:&quot;add_dropdown&quot;,&quot;label&quot;:&quot;new repository&quot;}" data-targets="action-list.items" role="none" data-view-component="true" class="ActionListItem">
    
    <a href="/new" tabindex="-1" id="item-5b3268ad-1cbd-4578-becc-ad8daa7ccad3" role="menuitem" data-view-component="true" class="ActionListContent ActionListContent--visual16">
        <span class="ActionListItem-visual ActionListItem-visual--leading">
          <svg aria-hidden="true" height="16" viewBox="0 0 16 16" version="1.1" width="16" data-view-component="true" class="octicon octicon-repo">
    <path d="M2 2.5A2.5 2.5 0 0 1 4.5 0h8.75a.75.75 0 0 1 .75.75v12.5a.75.75 0 0 1-.75.75h-2.5a.75.75 0 0 1 0-1.5h1.75v-2h-8a1 1 0 0 0-.714 1.7.75.75 0 1 1-1.072 1.05A2.495 2.495 0 0 1 2 11.5Zm10.5-1h-8a1 1 0 0 0-1 1v6.708A2.486 2.486 0 0 1 4.5 9h8ZM5 12.25a.25.25 0 0 1 .25-.25h3.5a.25.25 0 0 1 .25.25v3.25a.25.25 0 0 1-.4.2l-1.45-1.087a.249.249 0 0 0-.3 0L5.4 15.7a.25.25 0 0 1-.4-.2Z"></path>
</svg>
        </span>
      
        <span data-view-component="true" class="ActionListItem-label">
              New repository

</span></a>
  
  
</li>
      <li data-analytics-event="{&quot;category&quot;:&quot;SiteHeaderComponent&quot;,&quot;action&quot;:&quot;add_dropdown&quot;,&quot;label&quot;:&quot;import repository&quot;}" data-targets="action-list.items" role="none" data-view-component="true" class="ActionListItem">
    
    <a href="/new/import" tabindex="-1" id="item-94f7c113-b5e9-43bc-9faf-1b9ea88aaf18" role="menuitem" data-view-component="true" class="ActionListContent ActionListContent--visual16">
        <span class="ActionListItem-visual ActionListItem-visual--leading">
          <svg aria-hidden="true" height="16" viewBox="0 0 16 16" version="1.1" width="16" data-view-component="true" class="octicon octicon-repo-push">
    <path d="M1 2.5A2.5 2.5 0 0 1 3.5 0h8.75a.75.75 0 0 1 .75.75v3.5a.75.75 0 0 1-1.5 0V1.5h-8a1 1 0 0 0-1 1v6.708A2.493 2.493 0 0 1 3.5 9h3.25a.75.75 0 0 1 0 1.5H3.5a1 1 0 0 0 0 2h5.75a.75.75 0 0 1 0 1.5H3.5A2.5 2.5 0 0 1 1 11.5Zm13.23 7.79h-.001l-1.224-1.224v6.184a.75.75 0 0 1-1.5 0V9.066L10.28 10.29a.75.75 0 0 1-1.06-1.061l2.505-2.504a.75.75 0 0 1 1.06 0L15.29 9.23a.751.751 0 0 1-.018 1.042.751.751 0 0 1-1.042.018Z"></path>
</svg>
        </span>
      
        <span data-view-component="true" class="ActionListItem-label">
                Import repository

</span></a>
  
  
</li>
      <li role="presentation" aria-hidden="true" data-view-component="true" class="ActionList-sectionDivider"></li>
      <li data-analytics-event="{&quot;category&quot;:&quot;SiteHeaderComponent&quot;,&quot;action&quot;:&quot;add_dropdown&quot;,&quot;label&quot;:&quot;new codespace&quot;}" data-targets="action-list.items" role="none" data-view-component="true" class="ActionListItem">
    
    <a href="/codespaces/new" tabindex="-1" id="item-77d127cd-7e81-4629-9bc2-f787faa244b1" role="menuitem" data-view-component="true" class="ActionListContent ActionListContent--visual16">
        <span class="ActionListItem-visual ActionListItem-visual--leading">
          <svg aria-hidden="true" height="16" viewBox="0 0 16 16" version="1.1" width="16" data-view-component="true" class="octicon octicon-codespaces">
    <path d="M0 11.25c0-.966.784-1.75 1.75-1.75h12.5c.966 0 1.75.784 1.75 1.75v3A1.75 1.75 0 0 1 14.25 16H1.75A1.75 1.75 0 0 1 0 14.25Zm2-9.5C2 .784 2.784 0 3.75 0h8.5C13.216 0 14 .784 14 1.75v5a1.75 1.75 0 0 1-1.75 1.75h-8.5A1.75 1.75 0 0 1 2 6.75Zm1.75-.25a.25.25 0 0 0-.25.25v5c0 .138.112.25.25.25h8.5a.25.25 0 0 0 .25-.25v-5a.25.25 0 0 0-.25-.25Zm-2 9.5a.25.25 0 0 0-.25.25v3c0 .138.112.25.25.25h12.5a.25.25 0 0 0 .25-.25v-3a.25.25 0 0 0-.25-.25Z"></path><path d="M7 12.75a.75.75 0 0 1 .75-.75h4.5a.75.75 0 0 1 0 1.5h-4.5a.75.75 0 0 1-.75-.75Zm-4 0a.75.75 0 0 1 .75-.75h.5a.75.75 0 0 1 0 1.5h-.5a.75.75 0 0 1-.75-.75Z"></path>
</svg>
        </span>
      
        <span data-view-component="true" class="ActionListItem-label">
                New codespace

</span></a>
  
  
</li>
      <li data-analytics-event="{&quot;category&quot;:&quot;SiteHeaderComponent&quot;,&quot;action&quot;:&quot;add_dropdown&quot;,&quot;label&quot;:&quot;new gist&quot;}" data-targets="action-list.items" role="none" data-view-component="true" class="ActionListItem">
    
    <a href="https://gist.github.com/" tabindex="-1" id="item-2181f147-39da-4194-ab34-984dab68e4ba" role="menuitem" data-view-component="true" class="ActionListContent ActionListContent--visual16">
        <span class="ActionListItem-visual ActionListItem-visual--leading">
          <svg aria-hidden="true" height="16" viewBox="0 0 16 16" version="1.1" width="16" data-view-component="true" class="octicon octicon-code">
    <path d="m11.28 3.22 4.25 4.25a.75.75 0 0 1 0 1.06l-4.25 4.25a.749.749 0 0 1-1.275-.326.749.749 0 0 1 .215-.734L13.94 8l-3.72-3.72a.749.749 0 0 1 .326-1.275.749.749 0 0 1 .734.215Zm-6.56 0a.751.751 0 0 1 1.042.018.751.751 0 0 1 .018 1.042L2.06 8l3.72 3.72a.749.749 0 0 1-.326 1.275.749.749 0 0 1-.734-.215L.47 8.53a.75.75 0 0 1 0-1.06Z"></path>
</svg>
        </span>
      
        <span data-view-component="true" class="ActionListItem-label">
              New gist

</span></a>
  
  
</li>
      <li role="presentation" aria-hidden="true" data-view-component="true" class="ActionList-sectionDivider"></li>
      <li data-analytics-event="{&quot;category&quot;:&quot;SiteHeaderComponent&quot;,&quot;action&quot;:&quot;add_dropdown&quot;,&quot;label&quot;:&quot;new organization&quot;}" data-targets="action-list.items" role="none" data-view-component="true" class="ActionListItem">
    
    <a href="/account/organizations/new" tabindex="-1" id="item-5139bd69-b9e3-461b-9943-bdf4592228de" role="menuitem" data-view-component="true" class="ActionListContent ActionListContent--visual16">
        <span class="ActionListItem-visual ActionListItem-visual--leading">
          <svg aria-hidden="true" height="16" viewBox="0 0 16 16" version="1.1" width="16" data-view-component="true" class="octicon octicon-organization">
    <path d="M1.75 16A1.75 1.75 0 0 1 0 14.25V1.75C0 .784.784 0 1.75 0h8.5C11.216 0 12 .784 12 1.75v12.5c0 .085-.006.168-.018.25h2.268a.25.25 0 0 0 .25-.25V8.285a.25.25 0 0 0-.111-.208l-1.055-.703a.749.749 0 1 1 .832-1.248l1.055.703c.487.325.779.871.779 1.456v5.965A1.75 1.75 0 0 1 14.25 16h-3.5a.766.766 0 0 1-.197-.026c-.099.017-.2.026-.303.026h-3a.75.75 0 0 1-.75-.75V14h-1v1.25a.75.75 0 0 1-.75.75Zm-.25-1.75c0 .138.112.25.25.25H4v-1.25a.75.75 0 0 1 .75-.75h2.5a.75.75 0 0 1 .75.75v1.25h2.25a.25.25 0 0 0 .25-.25V1.75a.25.25 0 0 0-.25-.25h-8.5a.25.25 0 0 0-.25.25ZM3.75 6h.5a.75.75 0 0 1 0 1.5h-.5a.75.75 0 0 1 0-1.5ZM3 3.75A.75.75 0 0 1 3.75 3h.5a.75.75 0 0 1 0 1.5h-.5A.75.75 0 0 1 3 3.75Zm4 3A.75.75 0 0 1 7.75 6h.5a.75.75 0 0 1 0 1.5h-.5A.75.75 0 0 1 7 6.75ZM7.75 3h.5a.75.75 0 0 1 0 1.5h-.5a.75.75 0 0 1 0-1.5ZM3 9.75A.75.75 0 0 1 3.75 9h.5a.75.75 0 0 1 0 1.5h-.5A.75.75 0 0 1 3 9.75ZM7.75 9h.5a.75.75 0 0 1 0 1.5h-.5a.75.75 0 0 1 0-1.5Z"></path>
</svg>
        </span>
      
        <span data-view-component="true" class="ActionListItem-label">
                New organization

</span></a>
  
  
</li>
</ul>  
</div>

</div></anchored-position>  </focus-group>
</action-menu>

          <div data-view-component="true" class="Button-withTooltip">
  <a href="/issues" id="icon-button-4d60fd7d-0ccb-4211-ae9a-68f60075daf9" data-view-component="true" class="Button Button--iconOnly Button--secondary Button--medium AppHeader-button color-fg-muted">    <svg aria-hidden="true" height="16" viewBox="0 0 16 16" version="1.1" width="16" data-view-component="true" class="octicon octicon-issue-opened Button-visual">
    <path d="M8 9.5a1.5 1.5 0 1 0 0-3 1.5 1.5 0 0 0 0 3Z"></path><path d="M8 0a8 8 0 1 1 0 16A8 8 0 0 1 8 0ZM1.5 8a6.5 6.5 0 1 0 13 0 6.5 6.5 0 0 0-13 0Z"></path>
</svg>
</a>  <tool-tip id="tooltip-177450cd-bd6f-4fb2-90bd-85572870155f" for="icon-button-4d60fd7d-0ccb-4211-ae9a-68f60075daf9" data-direction="s" data-type="label" data-view-component="true" class="sr-only position-absolute">Issues</tool-tip>
</div>
          <div data-view-component="true" class="Button-withTooltip">
  <a href="/pulls" id="icon-button-647b0356-5451-4aa9-9c6d-fcbce081625e" data-view-component="true" class="Button Button--iconOnly Button--secondary Button--medium AppHeader-button color-fg-muted">    <svg aria-hidden="true" height="16" viewBox="0 0 16 16" version="1.1" width="16" data-view-component="true" class="octicon octicon-git-pull-request Button-visual">
    <path d="M1.5 3.25a2.25 2.25 0 1 1 3 2.122v5.256a2.251 2.251 0 1 1-1.5 0V5.372A2.25 2.25 0 0 1 1.5 3.25Zm5.677-.177L9.573.677A.25.25 0 0 1 10 .854V2.5h1A2.5 2.5 0 0 1 13.5 5v5.628a2.251 2.251 0 1 1-1.5 0V5a1 1 0 0 0-1-1h-1v1.646a.25.25 0 0 1-.427.177L7.177 3.427a.25.25 0 0 1 0-.354ZM3.75 2.5a.75.75 0 1 0 0 1.5.75.75 0 0 0 0-1.5Zm0 9.5a.75.75 0 1 0 0 1.5.75.75 0 0 0 0-1.5Zm8.25.75a.75.75 0 1 0 1.5 0 .75.75 0 0 0-1.5 0Z"></path>
</svg>
</a>  <tool-tip id="tooltip-84a2543e-8dc7-4146-80ba-3d2cd75cdcf5" for="icon-button-647b0356-5451-4aa9-9c6d-fcbce081625e" data-direction="s" data-type="label" data-view-component="true" class="sr-only position-absolute">Pull requests</tool-tip>
</div>
        </div>

        <div class="mr-0">
          

<notification-indicator data-channel="eyJjIjoibm90aWZpY2F0aW9uLWNoYW5nZWQ6MTA4NTIzNzI1IiwidCI6MTY4ODI0NTExNH0=--ff5afde1e014c7995d185c79b8940ab38a96bec79c5d06d944bbb9696d12e5c7" data-indicator-mode="none" data-tooltip-global="You have unread notifications" data-tooltip-unavailable="Notifications are unavailable at the moment." data-tooltip-none="You have no unread notifications" data-header-redesign-enabled="true" data-fetch-indicator-src="/notifications/indicator" data-fetch-indicator-enabled="true" data-view-component="true" class="js-socket-channel">
  <a id="AppHeader-notifications-button" href="/notifications"
    class="AppHeader-button"

    style="width:32px;height:32px;"

    data-hotkey="g n"
    data-target="notification-indicator.link"
    aria-label="Notifications"

      data-analytics-event="{&quot;category&quot;:&quot;SiteHeaderComponent&quot;,&quot;action&quot;:&quot;notifications&quot;,&quot;label&quot;:null}"
  >

    <span
      data-target="notification-indicator.badge"
      class="mail-status unread d-none" hidden>
    </span>

      <svg aria-hidden="true" height="16" viewBox="0 0 16 16" version="1.1" width="16" data-view-component="true" class="octicon octicon-inbox color-fg-muted mr-0">
    <path d="M2.8 2.06A1.75 1.75 0 0 1 4.41 1h7.18c.7 0 1.333.417 1.61 1.06l2.74 6.395c.04.093.06.194.06.295v4.5A1.75 1.75 0 0 1 14.25 15H1.75A1.75 1.75 0 0 1 0 13.25v-4.5c0-.101.02-.202.06-.295Zm1.61.44a.25.25 0 0 0-.23.152L1.887 8H4.75a.75.75 0 0 1 .6.3L6.625 10h2.75l1.275-1.7a.75.75 0 0 1 .6-.3h2.863L11.82 2.652a.25.25 0 0 0-.23-.152Zm10.09 7h-2.875l-1.275 1.7a.75.75 0 0 1-.6.3h-3.5a.75.75 0 0 1-.6-.3L4.375 9.5H1.5v3.75c0 .138.112.25.25.25h12.5a.25.25 0 0 0 .25-.25Z"></path>
</svg>
  </a>

    <tool-tip data-target="notification-indicator.tooltip" id="tooltip-e66826c4-9eae-41b7-88e9-77b2ba579234" for="AppHeader-notifications-button" data-direction="s" data-type="description" data-view-component="true" class="sr-only position-absolute">Notifications</tool-tip>
</notification-indicator>
        </div>

        

        <div class="AppHeader-user">
          <deferred-side-panel data-url="/_side-panels/user?memex_enabled=true&amp;repository=Car-Performance-Prediction-Project&amp;user=25-Shikhar-K&amp;user_can_create_organizations=true&amp;user_id=108523725">
  <include-fragment data-target="deferred-side-panel.fragment">
      <user-drawer-side-panel>
      <button aria-label="Open user account menu" data-action="click:deferred-side-panel#loadPanel click:deferred-side-panel#panelOpened" data-show-dialog-id="dialog-79101c51-cfe4-4ee5-b839-6017071af778" id="dialog-show-dialog-79101c51-cfe4-4ee5-b839-6017071af778" type="button" data-view-component="true" class="AppHeader-logo Button--invisible Button--medium Button Button--invisible-noVisuals color-bg-transparent p-0">    <span class="Button-content">
      <span class="Button-label"><img src="https://avatars.githubusercontent.com/u/108523725?v=4" alt="" size="32" height="32" width="32" data-view-component="true" class="avatar circle" /></span>
    </span>
</button>  

<div class="Overlay--hidden Overlay-backdrop--side Overlay-backdrop--placement-right" data-modal-dialog-overlay>
  <modal-dialog data-target="deferred-side-panel.panel" role="dialog" id="dialog-79101c51-cfe4-4ee5-b839-6017071af778" aria-modal="true" aria-disabled="true" aria-describedby="dialog-79101c51-cfe4-4ee5-b839-6017071af778-title dialog-79101c51-cfe4-4ee5-b839-6017071af778-description" data-view-component="true" class="Overlay Overlay-whenNarrow Overlay--size-small-portrait Overlay--motion-scaleFade SidePanel">
    <div styles="flex-direction: row;" data-view-component="true" class="Overlay-header">
  <div class="Overlay-headerContentWrap">
    <div class="Overlay-titleWrap">
      <h1 class="Overlay-title sr-only" id="dialog-79101c51-cfe4-4ee5-b839-6017071af778-title">
        Account menu
      </h1>
            <div data-view-component="true" class="d-flex">
      <div data-view-component="true" class="AppHeader-logo position-relative">
        <img src="https://avatars.githubusercontent.com/u/108523725?v=4" alt="" size="32" height="32" width="32" data-view-component="true" class="avatar circle" />
</div>        <div data-view-component="true" class="d-flex width-full">        <div data-view-component="true" class="lh-condensed d-flex flex-column flex-justify-center ml-2 f5 mr-auto">
          <span data-view-component="true" class="Truncate d-block text-bold">
    <span data-view-component="true" class="Truncate-text">
            25-Shikhar-K
</span>
</span>          <span data-view-component="true" class="Truncate d-block color-fg-subtle">
    <span data-view-component="true" class="Truncate-text">
            Shikhar Kumar
</span>
</span></div>
</div>
</div>
    </div>
    <div class="Overlay-actionWrap">
      <button data-close-dialog-id="dialog-79101c51-cfe4-4ee5-b839-6017071af778" aria-label="Close" type="button" data-view-component="true" class="close-button Overlay-closeButton"><svg aria-hidden="true" height="16" viewBox="0 0 16 16" version="1.1" width="16" data-view-component="true" class="octicon octicon-x">
    <path d="M3.72 3.72a.75.75 0 0 1 1.06 0L8 6.94l3.22-3.22a.749.749 0 0 1 1.275.326.749.749 0 0 1-.215.734L9.06 8l3.22 3.22a.749.749 0 0 1-.326 1.275.749.749 0 0 1-.734-.215L8 9.06l-3.22 3.22a.751.751 0 0 1-1.042-.018.751.751 0 0 1-.018-1.042L6.94 8 3.72 4.78a.75.75 0 0 1 0-1.06Z"></path>
</svg></button>
    </div>
  </div>
</div>
      <div data-view-component="true" class="Overlay-body d-flex flex-column height-full px-2">      <nav aria-label="User navigation" data-view-component="true" class="ActionList">
  
  <nav-list>
    <ul data-view-component="true" class="ActionListWrap">
        
          
<li data-item-id="" data-targets="nav-list.items" data-view-component="true" class="ActionListItem">
    
    <button id="item-0eced9e7-9f59-4767-9a27-c83afe3c4913" type="button" data-view-component="true" class="ActionListContent ActionListContent--visual16">
        <span class="ActionListItem-visual ActionListItem-visual--leading">
          <span data-view-component="true" class="d-flex flex-items-center">    <svg style="box-sizing: content-box; color: var(--color-icon-primary);" width="16" height="16" viewBox="0 0 16 16" fill="none" data-view-component="true" class="anim-rotate">
  <circle cx="8" cy="8" r="7" stroke="currentColor" stroke-opacity="0.25" stroke-width="2" vector-effect="non-scaling-stroke" />
  <path d="M15 8a7.002 7.002 0 00-7-7" stroke="currentColor" stroke-width="2" stroke-linecap="round" vector-effect="non-scaling-stroke" />
</svg>
</span>
        </span>
      
        <span data-view-component="true" class="ActionListItem-label">
          

  <span class="color-fg-muted">
    Loading...
  </span>

</span></button>
  
  
</li>

        
          <li role="presentation" aria-hidden="true" data-view-component="true" class="ActionList-sectionDivider"></li>
        
          
<li data-item-id="" data-targets="nav-list.items" data-view-component="true" class="ActionListItem">
    
    <a id="item-0e8c9fe0-e1b3-48f9-bbb5-df395dae2775" href="https://github.com/25-Shikhar-K" data-view-component="true" class="ActionListContent ActionListContent--visual16">
        <span class="ActionListItem-visual ActionListItem-visual--leading">
          <svg aria-hidden="true" height="16" viewBox="0 0 16 16" version="1.1" width="16" data-view-component="true" class="octicon octicon-person">
    <path d="M10.561 8.073a6.005 6.005 0 0 1 3.432 5.142.75.75 0 1 1-1.498.07 4.5 4.5 0 0 0-8.99 0 .75.75 0 0 1-1.498-.07 6.004 6.004 0 0 1 3.431-5.142 3.999 3.999 0 1 1 5.123 0ZM10.5 5a2.5 2.5 0 1 0-5 0 2.5 2.5 0 0 0 5 0Z"></path>
</svg>
        </span>
      
        <span data-view-component="true" class="ActionListItem-label">
          Your profile
</span></a>
  
  
</li>

        
          <li role="presentation" aria-hidden="true" data-view-component="true" class="ActionList-sectionDivider"></li>
        
          
<li data-item-id="" data-targets="nav-list.items" data-view-component="true" class="ActionListItem">
    
    <a id="item-b85e0db2-5a0b-4481-accb-177257f82bf7" href="/25-Shikhar-K?tab=repositories" data-view-component="true" class="ActionListContent ActionListContent--visual16">
        <span class="ActionListItem-visual ActionListItem-visual--leading">
          <svg aria-hidden="true" height="16" viewBox="0 0 16 16" version="1.1" width="16" data-view-component="true" class="octicon octicon-repo">
    <path d="M2 2.5A2.5 2.5 0 0 1 4.5 0h8.75a.75.75 0 0 1 .75.75v12.5a.75.75 0 0 1-.75.75h-2.5a.75.75 0 0 1 0-1.5h1.75v-2h-8a1 1 0 0 0-.714 1.7.75.75 0 1 1-1.072 1.05A2.495 2.495 0 0 1 2 11.5Zm10.5-1h-8a1 1 0 0 0-1 1v6.708A2.486 2.486 0 0 1 4.5 9h8ZM5 12.25a.25.25 0 0 1 .25-.25h3.5a.25.25 0 0 1 .25.25v3.25a.25.25 0 0 1-.4.2l-1.45-1.087a.249.249 0 0 0-.3 0L5.4 15.7a.25.25 0 0 1-.4-.2Z"></path>
</svg>
        </span>
      
        <span data-view-component="true" class="ActionListItem-label">
          Your repositories
</span></a>
  
  
</li>

        
          
<li data-item-id="" data-targets="nav-list.items" data-view-component="true" class="ActionListItem">
    
    <a id="item-f462a0a3-dc95-4ce3-b4bb-3c579a902053" href="/25-Shikhar-K?tab=projects" data-view-component="true" class="ActionListContent ActionListContent--visual16">
        <span class="ActionListItem-visual ActionListItem-visual--leading">
          <svg aria-hidden="true" height="16" viewBox="0 0 16 16" version="1.1" width="16" data-view-component="true" class="octicon octicon-project">
    <path d="M1.75 0h12.5C15.216 0 16 .784 16 1.75v12.5A1.75 1.75 0 0 1 14.25 16H1.75A1.75 1.75 0 0 1 0 14.25V1.75C0 .784.784 0 1.75 0ZM1.5 1.75v12.5c0 .138.112.25.25.25h12.5a.25.25 0 0 0 .25-.25V1.75a.25.25 0 0 0-.25-.25H1.75a.25.25 0 0 0-.25.25ZM11.75 3a.75.75 0 0 1 .75.75v7.5a.75.75 0 0 1-1.5 0v-7.5a.75.75 0 0 1 .75-.75Zm-8.25.75a.75.75 0 0 1 1.5 0v5.5a.75.75 0 0 1-1.5 0ZM8 3a.75.75 0 0 1 .75.75v3.5a.75.75 0 0 1-1.5 0v-3.5A.75.75 0 0 1 8 3Z"></path>
</svg>
        </span>
      
        <span data-view-component="true" class="ActionListItem-label">
          Your projects
</span></a>
  
  
</li>

        
          
<li data-item-id="" data-targets="nav-list.items" data-view-component="true" class="ActionListItem">
    
    <a id="item-4896009e-6346-4d17-9eef-222242eabf96" href="/codespaces" data-view-component="true" class="ActionListContent ActionListContent--visual16">
        <span class="ActionListItem-visual ActionListItem-visual--leading">
          <svg aria-hidden="true" height="16" viewBox="0 0 16 16" version="1.1" width="16" data-view-component="true" class="octicon octicon-codespaces">
    <path d="M0 11.25c0-.966.784-1.75 1.75-1.75h12.5c.966 0 1.75.784 1.75 1.75v3A1.75 1.75 0 0 1 14.25 16H1.75A1.75 1.75 0 0 1 0 14.25Zm2-9.5C2 .784 2.784 0 3.75 0h8.5C13.216 0 14 .784 14 1.75v5a1.75 1.75 0 0 1-1.75 1.75h-8.5A1.75 1.75 0 0 1 2 6.75Zm1.75-.25a.25.25 0 0 0-.25.25v5c0 .138.112.25.25.25h8.5a.25.25 0 0 0 .25-.25v-5a.25.25 0 0 0-.25-.25Zm-2 9.5a.25.25 0 0 0-.25.25v3c0 .138.112.25.25.25h12.5a.25.25 0 0 0 .25-.25v-3a.25.25 0 0 0-.25-.25Z"></path><path d="M7 12.75a.75.75 0 0 1 .75-.75h4.5a.75.75 0 0 1 0 1.5h-4.5a.75.75 0 0 1-.75-.75Zm-4 0a.75.75 0 0 1 .75-.75h.5a.75.75 0 0 1 0 1.5h-.5a.75.75 0 0 1-.75-.75Z"></path>
</svg>
        </span>
      
        <span data-view-component="true" class="ActionListItem-label">
          Your codespaces
</span></a>
  
  
</li>

        
          
<li data-item-id="" data-targets="nav-list.items" data-view-component="true" class="ActionListItem">
    
    <button id="item-afaf4dbe-12a7-45a2-83d8-60bffb63868e" type="button" data-view-component="true" class="ActionListContent ActionListContent--visual16">
        <span class="ActionListItem-visual ActionListItem-visual--leading">
          <span data-view-component="true" class="d-flex flex-items-center">    <svg style="box-sizing: content-box; color: var(--color-icon-primary);" width="16" height="16" viewBox="0 0 16 16" fill="none" data-view-component="true" class="anim-rotate">
  <circle cx="8" cy="8" r="7" stroke="currentColor" stroke-opacity="0.25" stroke-width="2" vector-effect="non-scaling-stroke" />
  <path d="M15 8a7.002 7.002 0 00-7-7" stroke="currentColor" stroke-width="2" stroke-linecap="round" vector-effect="non-scaling-stroke" />
</svg>
</span>
        </span>
      
        <span data-view-component="true" class="ActionListItem-label">
          

  <span class="color-fg-muted">
    Loading...
  </span>

</span></button>
  
  
</li>

        
          
<li data-item-id="" data-targets="nav-list.items" data-view-component="true" class="ActionListItem">
    
    <a id="item-9668ec3b-d3af-4798-b64d-8f6b7727de31" href="/25-Shikhar-K?tab=stars" data-view-component="true" class="ActionListContent ActionListContent--visual16">
        <span class="ActionListItem-visual ActionListItem-visual--leading">
          <svg aria-hidden="true" height="16" viewBox="0 0 16 16" version="1.1" width="16" data-view-component="true" class="octicon octicon-star">
    <path d="M8 .25a.75.75 0 0 1 .673.418l1.882 3.815 4.21.612a.75.75 0 0 1 .416 1.279l-3.046 2.97.719 4.192a.751.751 0 0 1-1.088.791L8 12.347l-3.766 1.98a.75.75 0 0 1-1.088-.79l.72-4.194L.818 6.374a.75.75 0 0 1 .416-1.28l4.21-.611L7.327.668A.75.75 0 0 1 8 .25Zm0 2.445L6.615 5.5a.75.75 0 0 1-.564.41l-3.097.45 2.24 2.184a.75.75 0 0 1 .216.664l-.528 3.084 2.769-1.456a.75.75 0 0 1 .698 0l2.77 1.456-.53-3.084a.75.75 0 0 1 .216-.664l2.24-2.183-3.096-.45a.75.75 0 0 1-.564-.41L8 2.694Z"></path>
</svg>
        </span>
      
        <span data-view-component="true" class="ActionListItem-label">
          Your stars
</span></a>
  
  
</li>

        
          
<li data-item-id="" data-targets="nav-list.items" data-view-component="true" class="ActionListItem">
    
    <a id="item-c0f5ccd9-8c47-4e28-9f2e-f9ec8a8bdd27" href="/sponsors/accounts" data-view-component="true" class="ActionListContent ActionListContent--visual16">
        <span class="ActionListItem-visual ActionListItem-visual--leading">
          <svg aria-hidden="true" height="16" viewBox="0 0 16 16" version="1.1" width="16" data-view-component="true" class="octicon octicon-heart">
    <path d="m8 14.25.345.666a.75.75 0 0 1-.69 0l-.008-.004-.018-.01a7.152 7.152 0 0 1-.31-.17 22.055 22.055 0 0 1-3.434-2.414C2.045 10.731 0 8.35 0 5.5 0 2.836 2.086 1 4.25 1 5.797 1 7.153 1.802 8 3.02 8.847 1.802 10.203 1 11.75 1 13.914 1 16 2.836 16 5.5c0 2.85-2.045 5.231-3.885 6.818a22.066 22.066 0 0 1-3.744 2.584l-.018.01-.006.003h-.002ZM4.25 2.5c-1.336 0-2.75 1.164-2.75 3 0 2.15 1.58 4.144 3.365 5.682A20.58 20.58 0 0 0 8 13.393a20.58 20.58 0 0 0 3.135-2.211C12.92 9.644 14.5 7.65 14.5 5.5c0-1.836-1.414-3-2.75-3-1.373 0-2.609.986-3.029 2.456a.749.749 0 0 1-1.442 0C6.859 3.486 5.623 2.5 4.25 2.5Z"></path>
</svg>
        </span>
      
        <span data-view-component="true" class="ActionListItem-label">
          Your sponsors
</span></a>
  
  
</li>

        
          
<li data-item-id="" data-targets="nav-list.items" data-view-component="true" class="ActionListItem">
    
    <a id="item-53c86757-efa5-47f3-bcc6-24806d713219" href="https://gist.github.com/mine" data-view-component="true" class="ActionListContent ActionListContent--visual16">
        <span class="ActionListItem-visual ActionListItem-visual--leading">
          <svg aria-hidden="true" height="16" viewBox="0 0 16 16" version="1.1" width="16" data-view-component="true" class="octicon octicon-code-square">
    <path d="M0 1.75C0 .784.784 0 1.75 0h12.5C15.216 0 16 .784 16 1.75v12.5A1.75 1.75 0 0 1 14.25 16H1.75A1.75 1.75 0 0 1 0 14.25Zm1.75-.25a.25.25 0 0 0-.25.25v12.5c0 .138.112.25.25.25h12.5a.25.25 0 0 0 .25-.25V1.75a.25.25 0 0 0-.25-.25Zm7.47 3.97a.75.75 0 0 1 1.06 0l2 2a.75.75 0 0 1 0 1.06l-2 2a.749.749 0 0 1-1.275-.326.749.749 0 0 1 .215-.734L10.69 8 9.22 6.53a.75.75 0 0 1 0-1.06ZM6.78 6.53 5.31 8l1.47 1.47a.749.749 0 0 1-.326 1.275.749.749 0 0 1-.734-.215l-2-2a.75.75 0 0 1 0-1.06l2-2a.751.751 0 0 1 1.042.018.751.751 0 0 1 .018 1.042Z"></path>
</svg>
        </span>
      
        <span data-view-component="true" class="ActionListItem-label">
          Your gists
</span></a>
  
  
</li>

        
          <li role="presentation" aria-hidden="true" data-view-component="true" class="ActionList-sectionDivider"></li>
        
          
<li data-item-id="" data-targets="nav-list.items" data-view-component="true" class="ActionListItem">
    
    <button id="item-5af83c9d-bd92-4741-8c41-73717cc3aa53" type="button" data-view-component="true" class="ActionListContent ActionListContent--visual16">
        <span class="ActionListItem-visual ActionListItem-visual--leading">
          <span data-view-component="true" class="d-flex flex-items-center">    <svg style="box-sizing: content-box; color: var(--color-icon-primary);" width="16" height="16" viewBox="0 0 16 16" fill="none" data-view-component="true" class="anim-rotate">
  <circle cx="8" cy="8" r="7" stroke="currentColor" stroke-opacity="0.25" stroke-width="2" vector-effect="non-scaling-stroke" />
  <path d="M15 8a7.002 7.002 0 00-7-7" stroke="currentColor" stroke-width="2" stroke-linecap="round" vector-effect="non-scaling-stroke" />
</svg>
</span>
        </span>
      
        <span data-view-component="true" class="ActionListItem-label">
          

  <span class="color-fg-muted">
    Loading...
  </span>

</span></button>
  
  
</li>

        
          
<li data-item-id="" data-targets="nav-list.items" data-view-component="true" class="ActionListItem">
    
    <button id="item-6141afef-0cc3-4786-a692-3d8a52c3ee1b" type="button" data-view-component="true" class="ActionListContent ActionListContent--visual16">
        <span class="ActionListItem-visual ActionListItem-visual--leading">
          <span data-view-component="true" class="d-flex flex-items-center">    <svg style="box-sizing: content-box; color: var(--color-icon-primary);" width="16" height="16" viewBox="0 0 16 16" fill="none" data-view-component="true" class="anim-rotate">
  <circle cx="8" cy="8" r="7" stroke="currentColor" stroke-opacity="0.25" stroke-width="2" vector-effect="non-scaling-stroke" />
  <path d="M15 8a7.002 7.002 0 00-7-7" stroke="currentColor" stroke-width="2" stroke-linecap="round" vector-effect="non-scaling-stroke" />
</svg>
</span>
        </span>
      
        <span data-view-component="true" class="ActionListItem-label">
          

  <span class="color-fg-muted">
    Loading...
  </span>

</span></button>
  
  
</li>

        
          
<li data-item-id="" data-targets="nav-list.items" data-view-component="true" class="ActionListItem">
    
    <button id="item-2188aacb-dc0f-45dc-aede-47550e45e266" type="button" data-view-component="true" class="ActionListContent ActionListContent--visual16">
        <span class="ActionListItem-visual ActionListItem-visual--leading">
          <span data-view-component="true" class="d-flex flex-items-center">    <svg style="box-sizing: content-box; color: var(--color-icon-primary);" width="16" height="16" viewBox="0 0 16 16" fill="none" data-view-component="true" class="anim-rotate">
  <circle cx="8" cy="8" r="7" stroke="currentColor" stroke-opacity="0.25" stroke-width="2" vector-effect="non-scaling-stroke" />
  <path d="M15 8a7.002 7.002 0 00-7-7" stroke="currentColor" stroke-width="2" stroke-linecap="round" vector-effect="non-scaling-stroke" />
</svg>
</span>
        </span>
      
        <span data-view-component="true" class="ActionListItem-label">
          

  <span class="color-fg-muted">
    Loading...
  </span>

</span></button>
  
  
</li>

        
          
<li data-item-id="" data-targets="nav-list.items" data-view-component="true" class="ActionListItem">
    
    <a id="item-30aa3ce1-1c37-4a20-8470-68d4db7c5ead" href="/settings/profile" data-view-component="true" class="ActionListContent ActionListContent--visual16">
        <span class="ActionListItem-visual ActionListItem-visual--leading">
          <svg aria-hidden="true" height="16" viewBox="0 0 16 16" version="1.1" width="16" data-view-component="true" class="octicon octicon-gear">
    <path d="M8 0a8.2 8.2 0 0 1 .701.031C9.444.095 9.99.645 10.16 1.29l.288 1.107c.018.066.079.158.212.224.231.114.454.243.668.386.123.082.233.09.299.071l1.103-.303c.644-.176 1.392.021 1.82.63.27.385.506.792.704 1.218.315.675.111 1.422-.364 1.891l-.814.806c-.049.048-.098.147-.088.294.016.257.016.515 0 .772-.01.147.038.246.088.294l.814.806c.475.469.679 1.216.364 1.891a7.977 7.977 0 0 1-.704 1.217c-.428.61-1.176.807-1.82.63l-1.102-.302c-.067-.019-.177-.011-.3.071a5.909 5.909 0 0 1-.668.386c-.133.066-.194.158-.211.224l-.29 1.106c-.168.646-.715 1.196-1.458 1.26a8.006 8.006 0 0 1-1.402 0c-.743-.064-1.289-.614-1.458-1.26l-.289-1.106c-.018-.066-.079-.158-.212-.224a5.738 5.738 0 0 1-.668-.386c-.123-.082-.233-.09-.299-.071l-1.103.303c-.644.176-1.392-.021-1.82-.63a8.12 8.12 0 0 1-.704-1.218c-.315-.675-.111-1.422.363-1.891l.815-.806c.05-.048.098-.147.088-.294a6.214 6.214 0 0 1 0-.772c.01-.147-.038-.246-.088-.294l-.815-.806C.635 6.045.431 5.298.746 4.623a7.92 7.92 0 0 1 .704-1.217c.428-.61 1.176-.807 1.82-.63l1.102.302c.067.019.177.011.3-.071.214-.143.437-.272.668-.386.133-.066.194-.158.211-.224l.29-1.106C6.009.645 6.556.095 7.299.03 7.53.01 7.764 0 8 0Zm-.571 1.525c-.036.003-.108.036-.137.146l-.289 1.105c-.147.561-.549.967-.998 1.189-.173.086-.34.183-.5.29-.417.278-.97.423-1.529.27l-1.103-.303c-.109-.03-.175.016-.195.045-.22.312-.412.644-.573.99-.014.031-.021.11.059.19l.815.806c.411.406.562.957.53 1.456a4.709 4.709 0 0 0 0 .582c.032.499-.119 1.05-.53 1.456l-.815.806c-.081.08-.073.159-.059.19.162.346.353.677.573.989.02.03.085.076.195.046l1.102-.303c.56-.153 1.113-.008 1.53.27.161.107.328.204.501.29.447.222.85.629.997 1.189l.289 1.105c.029.109.101.143.137.146a6.6 6.6 0 0 0 1.142 0c.036-.003.108-.036.137-.146l.289-1.105c.147-.561.549-.967.998-1.189.173-.086.34-.183.5-.29.417-.278.97-.423 1.529-.27l1.103.303c.109.029.175-.016.195-.045.22-.313.411-.644.573-.99.014-.031.021-.11-.059-.19l-.815-.806c-.411-.406-.562-.957-.53-1.456a4.709 4.709 0 0 0 0-.582c-.032-.499.119-1.05.53-1.456l.815-.806c.081-.08.073-.159.059-.19a6.464 6.464 0 0 0-.573-.989c-.02-.03-.085-.076-.195-.046l-1.102.303c-.56.153-1.113.008-1.53-.27a4.44 4.44 0 0 0-.501-.29c-.447-.222-.85-.629-.997-1.189l-.289-1.105c-.029-.11-.101-.143-.137-.146a6.6 6.6 0 0 0-1.142 0ZM11 8a3 3 0 1 1-6 0 3 3 0 0 1 6 0ZM9.5 8a1.5 1.5 0 1 0-3.001.001A1.5 1.5 0 0 0 9.5 8Z"></path>
</svg>
        </span>
      
        <span data-view-component="true" class="ActionListItem-label">
          Settings
</span></a>
  
  
</li>

        
          <li role="presentation" aria-hidden="true" data-view-component="true" class="ActionList-sectionDivider"></li>
        
          
<li data-item-id="" data-targets="nav-list.items" data-view-component="true" class="ActionListItem">
    
    <a id="item-03d422ff-46de-42a2-8b9a-1bf3445214b5" href="https://docs.github.com" data-view-component="true" class="ActionListContent ActionListContent--visual16">
        <span class="ActionListItem-visual ActionListItem-visual--leading">
          <svg aria-hidden="true" height="16" viewBox="0 0 16 16" version="1.1" width="16" data-view-component="true" class="octicon octicon-book">
    <path d="M0 1.75A.75.75 0 0 1 .75 1h4.253c1.227 0 2.317.59 3 1.501A3.743 3.743 0 0 1 11.006 1h4.245a.75.75 0 0 1 .75.75v10.5a.75.75 0 0 1-.75.75h-4.507a2.25 2.25 0 0 0-1.591.659l-.622.621a.75.75 0 0 1-1.06 0l-.622-.621A2.25 2.25 0 0 0 5.258 13H.75a.75.75 0 0 1-.75-.75Zm7.251 10.324.004-5.073-.002-2.253A2.25 2.25 0 0 0 5.003 2.5H1.5v9h3.757a3.75 3.75 0 0 1 1.994.574ZM8.755 4.75l-.004 7.322a3.752 3.752 0 0 1 1.992-.572H14.5v-9h-3.495a2.25 2.25 0 0 0-2.25 2.25Z"></path>
</svg>
        </span>
      
        <span data-view-component="true" class="ActionListItem-label">
          GitHub Docs
</span></a>
  
  
</li>

        
          
<li data-item-id="" data-targets="nav-list.items" data-view-component="true" class="ActionListItem">
    
    <a id="item-b7275a78-ccc3-4c57-ae23-9bbab492b4d5" href="https://support.github.com" data-view-component="true" class="ActionListContent ActionListContent--visual16">
        <span class="ActionListItem-visual ActionListItem-visual--leading">
          <svg aria-hidden="true" height="16" viewBox="0 0 16 16" version="1.1" width="16" data-view-component="true" class="octicon octicon-people">
    <path d="M2 5.5a3.5 3.5 0 1 1 5.898 2.549 5.508 5.508 0 0 1 3.034 4.084.75.75 0 1 1-1.482.235 4 4 0 0 0-7.9 0 .75.75 0 0 1-1.482-.236A5.507 5.507 0 0 1 3.102 8.05 3.493 3.493 0 0 1 2 5.5ZM11 4a3.001 3.001 0 0 1 2.22 5.018 5.01 5.01 0 0 1 2.56 3.012.749.749 0 0 1-.885.954.752.752 0 0 1-.549-.514 3.507 3.507 0 0 0-2.522-2.372.75.75 0 0 1-.574-.73v-.352a.75.75 0 0 1 .416-.672A1.5 1.5 0 0 0 11 5.5.75.75 0 0 1 11 4Zm-5.5-.5a2 2 0 1 0-.001 3.999A2 2 0 0 0 5.5 3.5Z"></path>
</svg>
        </span>
      
        <span data-view-component="true" class="ActionListItem-label">
          GitHub Support
</span></a>
  
  
</li>

        
          <li role="presentation" aria-hidden="true" data-view-component="true" class="ActionList-sectionDivider"></li>
        
          
<li data-item-id="" data-targets="nav-list.items" data-view-component="true" class="ActionListItem">
    
    <a id="item-16e5cc19-2a4c-4cf2-8087-cca04274a496" href="/logout" data-view-component="true" class="ActionListContent">
      
        <span data-view-component="true" class="ActionListItem-label">
          Sign out
</span></a>
  
  
</li>

</ul>  </nav-list>
</nav>


</div>
      
</modal-dialog></div>
  </user-drawer-side-panel>

  </include-fragment>
</deferred-side-panel>
        </div>
      </div>
    </div>


      <div class="AppHeader-localBar" >
        <nav data-pjax="#js-repo-pjax-container" aria-label="Repository" data-view-component="true" class="js-repo-nav js-sidenav-container-pjax js-responsive-underlinenav overflow-hidden UnderlineNav">

  <ul data-view-component="true" class="UnderlineNav-body list-style-none">
      <li data-view-component="true" class="d-inline-flex">
  <a id="code-tab" href="/Rixhi7/Car-Performance-Prediction-Project" data-tab-item="i0code-tab" data-selected-links="repo_source repo_downloads repo_commits repo_releases repo_tags repo_branches repo_packages repo_deployments /Rixhi7/Car-Performance-Prediction-Project" data-pjax="#repo-content-pjax-container" data-turbo-frame="repo-content-turbo-frame" data-hotkey="g c" data-analytics-event="{&quot;category&quot;:&quot;Underline navbar&quot;,&quot;action&quot;:&quot;Click tab&quot;,&quot;label&quot;:&quot;Code&quot;,&quot;target&quot;:&quot;UNDERLINE_NAV.TAB&quot;}" data-view-component="true" class="UnderlineNav-item no-wrap js-responsive-underlinenav-item js-selected-navigation-item">
    
              <svg aria-hidden="true" height="16" viewBox="0 0 16 16" version="1.1" width="16" data-view-component="true" class="octicon octicon-code UnderlineNav-octicon d-none d-sm-inline">
    <path d="m11.28 3.22 4.25 4.25a.75.75 0 0 1 0 1.06l-4.25 4.25a.749.749 0 0 1-1.275-.326.749.749 0 0 1 .215-.734L13.94 8l-3.72-3.72a.749.749 0 0 1 .326-1.275.749.749 0 0 1 .734.215Zm-6.56 0a.751.751 0 0 1 1.042.018.751.751 0 0 1 .018 1.042L2.06 8l3.72 3.72a.749.749 0 0 1-.326 1.275.749.749 0 0 1-.734-.215L.47 8.53a.75.75 0 0 1 0-1.06Z"></path>
</svg>
        <span data-content="Code">Code</span>
          <span id="code-repo-tab-count" data-pjax-replace="" data-turbo-replace="" title="Not available" data-view-component="true" class="Counter"></span>


    
</a></li>
      <li data-view-component="true" class="d-inline-flex">
  <a id="issues-tab" href="/Rixhi7/Car-Performance-Prediction-Project/issues" data-tab-item="i1issues-tab" data-selected-links="repo_issues repo_labels repo_milestones /Rixhi7/Car-Performance-Prediction-Project/issues" data-pjax="#repo-content-pjax-container" data-turbo-frame="repo-content-turbo-frame" data-hotkey="g i" data-analytics-event="{&quot;category&quot;:&quot;Underline navbar&quot;,&quot;action&quot;:&quot;Click tab&quot;,&quot;label&quot;:&quot;Issues&quot;,&quot;target&quot;:&quot;UNDERLINE_NAV.TAB&quot;}" data-view-component="true" class="UnderlineNav-item no-wrap js-responsive-underlinenav-item js-selected-navigation-item">
    
              <svg aria-hidden="true" height="16" viewBox="0 0 16 16" version="1.1" width="16" data-view-component="true" class="octicon octicon-issue-opened UnderlineNav-octicon d-none d-sm-inline">
    <path d="M8 9.5a1.5 1.5 0 1 0 0-3 1.5 1.5 0 0 0 0 3Z"></path><path d="M8 0a8 8 0 1 1 0 16A8 8 0 0 1 8 0ZM1.5 8a6.5 6.5 0 1 0 13 0 6.5 6.5 0 0 0-13 0Z"></path>
</svg>
        <span data-content="Issues">Issues</span>
          <span id="issues-repo-tab-count" data-pjax-replace="" data-turbo-replace="" title="0" hidden="hidden" data-view-component="true" class="Counter">0</span>


    
</a></li>
      <li data-view-component="true" class="d-inline-flex">
  <a id="pull-requests-tab" href="/Rixhi7/Car-Performance-Prediction-Project/pulls" data-tab-item="i2pull-requests-tab" data-selected-links="repo_pulls checks /Rixhi7/Car-Performance-Prediction-Project/pulls" data-pjax="#repo-content-pjax-container" data-turbo-frame="repo-content-turbo-frame" data-hotkey="g p" data-analytics-event="{&quot;category&quot;:&quot;Underline navbar&quot;,&quot;action&quot;:&quot;Click tab&quot;,&quot;label&quot;:&quot;Pull requests&quot;,&quot;target&quot;:&quot;UNDERLINE_NAV.TAB&quot;}" data-view-component="true" class="UnderlineNav-item no-wrap js-responsive-underlinenav-item js-selected-navigation-item">
    
              <svg aria-hidden="true" height="16" viewBox="0 0 16 16" version="1.1" width="16" data-view-component="true" class="octicon octicon-git-pull-request UnderlineNav-octicon d-none d-sm-inline">
    <path d="M1.5 3.25a2.25 2.25 0 1 1 3 2.122v5.256a2.251 2.251 0 1 1-1.5 0V5.372A2.25 2.25 0 0 1 1.5 3.25Zm5.677-.177L9.573.677A.25.25 0 0 1 10 .854V2.5h1A2.5 2.5 0 0 1 13.5 5v5.628a2.251 2.251 0 1 1-1.5 0V5a1 1 0 0 0-1-1h-1v1.646a.25.25 0 0 1-.427.177L7.177 3.427a.25.25 0 0 1 0-.354ZM3.75 2.5a.75.75 0 1 0 0 1.5.75.75 0 0 0 0-1.5Zm0 9.5a.75.75 0 1 0 0 1.5.75.75 0 0 0 0-1.5Zm8.25.75a.75.75 0 1 0 1.5 0 .75.75 0 0 0-1.5 0Z"></path>
</svg>
        <span data-content="Pull requests">Pull requests</span>
          <span id="pull-requests-repo-tab-count" data-pjax-replace="" data-turbo-replace="" title="0" hidden="hidden" data-view-component="true" class="Counter">0</span>


    
</a></li>
      <li data-view-component="true" class="d-inline-flex">
  <a id="actions-tab" href="/Rixhi7/Car-Performance-Prediction-Project/actions" data-tab-item="i3actions-tab" data-selected-links="repo_actions /Rixhi7/Car-Performance-Prediction-Project/actions" data-pjax="#repo-content-pjax-container" data-turbo-frame="repo-content-turbo-frame" data-hotkey="g a" data-analytics-event="{&quot;category&quot;:&quot;Underline navbar&quot;,&quot;action&quot;:&quot;Click tab&quot;,&quot;label&quot;:&quot;Actions&quot;,&quot;target&quot;:&quot;UNDERLINE_NAV.TAB&quot;}" data-view-component="true" class="UnderlineNav-item no-wrap js-responsive-underlinenav-item js-selected-navigation-item">
    
              <svg aria-hidden="true" height="16" viewBox="0 0 16 16" version="1.1" width="16" data-view-component="true" class="octicon octicon-play UnderlineNav-octicon d-none d-sm-inline">
    <path d="M8 0a8 8 0 1 1 0 16A8 8 0 0 1 8 0ZM1.5 8a6.5 6.5 0 1 0 13 0 6.5 6.5 0 0 0-13 0Zm4.879-2.773 4.264 2.559a.25.25 0 0 1 0 .428l-4.264 2.559A.25.25 0 0 1 6 10.559V5.442a.25.25 0 0 1 .379-.215Z"></path>
</svg>
        <span data-content="Actions">Actions</span>
          <span id="actions-repo-tab-count" data-pjax-replace="" data-turbo-replace="" title="Not available" data-view-component="true" class="Counter"></span>


    
</a></li>
      <li data-view-component="true" class="d-inline-flex">
  <a id="projects-tab" href="/Rixhi7/Car-Performance-Prediction-Project/projects" data-tab-item="i4projects-tab" data-selected-links="repo_projects new_repo_project repo_project /Rixhi7/Car-Performance-Prediction-Project/projects" data-pjax="#repo-content-pjax-container" data-turbo-frame="repo-content-turbo-frame" data-hotkey="g b" data-analytics-event="{&quot;category&quot;:&quot;Underline navbar&quot;,&quot;action&quot;:&quot;Click tab&quot;,&quot;label&quot;:&quot;Projects&quot;,&quot;target&quot;:&quot;UNDERLINE_NAV.TAB&quot;}" data-view-component="true" class="UnderlineNav-item no-wrap js-responsive-underlinenav-item js-selected-navigation-item">
    
              <svg aria-hidden="true" height="16" viewBox="0 0 16 16" version="1.1" width="16" data-view-component="true" class="octicon octicon-table UnderlineNav-octicon d-none d-sm-inline">
    <path d="M0 1.75C0 .784.784 0 1.75 0h12.5C15.216 0 16 .784 16 1.75v12.5A1.75 1.75 0 0 1 14.25 16H1.75A1.75 1.75 0 0 1 0 14.25ZM6.5 6.5v8h7.75a.25.25 0 0 0 .25-.25V6.5Zm8-1.5V1.75a.25.25 0 0 0-.25-.25H6.5V5Zm-13 1.5v7.75c0 .138.112.25.25.25H5v-8ZM5 5V1.5H1.75a.25.25 0 0 0-.25.25V5Z"></path>
</svg>
        <span data-content="Projects">Projects</span>
          <span id="projects-repo-tab-count" data-pjax-replace="" data-turbo-replace="" title="0" hidden="hidden" data-view-component="true" class="Counter">0</span>


    
</a></li>
      <li data-view-component="true" class="d-inline-flex">
  <a id="security-tab" href="/Rixhi7/Car-Performance-Prediction-Project/security" data-tab-item="i5security-tab" data-selected-links="security overview alerts policy token_scanning code_scanning /Rixhi7/Car-Performance-Prediction-Project/security" data-pjax="#repo-content-pjax-container" data-turbo-frame="repo-content-turbo-frame" data-hotkey="g s" data-analytics-event="{&quot;category&quot;:&quot;Underline navbar&quot;,&quot;action&quot;:&quot;Click tab&quot;,&quot;label&quot;:&quot;Security&quot;,&quot;target&quot;:&quot;UNDERLINE_NAV.TAB&quot;}" data-view-component="true" class="UnderlineNav-item no-wrap js-responsive-underlinenav-item js-selected-navigation-item">
    
              <svg aria-hidden="true" height="16" viewBox="0 0 16 16" version="1.1" width="16" data-view-component="true" class="octicon octicon-shield UnderlineNav-octicon d-none d-sm-inline">
    <path d="M7.467.133a1.748 1.748 0 0 1 1.066 0l5.25 1.68A1.75 1.75 0 0 1 15 3.48V7c0 1.566-.32 3.182-1.303 4.682-.983 1.498-2.585 2.813-5.032 3.855a1.697 1.697 0 0 1-1.33 0c-2.447-1.042-4.049-2.357-5.032-3.855C1.32 10.182 1 8.566 1 7V3.48a1.75 1.75 0 0 1 1.217-1.667Zm.61 1.429a.25.25 0 0 0-.153 0l-5.25 1.68a.25.25 0 0 0-.174.238V7c0 1.358.275 2.666 1.057 3.86.784 1.194 2.121 2.34 4.366 3.297a.196.196 0 0 0 .154 0c2.245-.956 3.582-2.104 4.366-3.298C13.225 9.666 13.5 8.36 13.5 7V3.48a.251.251 0 0 0-.174-.237l-5.25-1.68ZM8.75 4.75v3a.75.75 0 0 1-1.5 0v-3a.75.75 0 0 1 1.5 0ZM9 10.5a1 1 0 1 1-2 0 1 1 0 0 1 2 0Z"></path>
</svg>
        <span data-content="Security">Security</span>
          <include-fragment src="/Rixhi7/Car-Performance-Prediction-Project/security/overall-count" accept="text/fragment+html"></include-fragment>

    
</a></li>
      <li data-view-component="true" class="d-inline-flex">
  <a id="insights-tab" href="/Rixhi7/Car-Performance-Prediction-Project/pulse" data-tab-item="i6insights-tab" data-selected-links="repo_graphs repo_contributors dependency_graph dependabot_updates pulse people community /Rixhi7/Car-Performance-Prediction-Project/pulse" data-pjax="#repo-content-pjax-container" data-turbo-frame="repo-content-turbo-frame" data-analytics-event="{&quot;category&quot;:&quot;Underline navbar&quot;,&quot;action&quot;:&quot;Click tab&quot;,&quot;label&quot;:&quot;Insights&quot;,&quot;target&quot;:&quot;UNDERLINE_NAV.TAB&quot;}" data-view-component="true" class="UnderlineNav-item no-wrap js-responsive-underlinenav-item js-selected-navigation-item">
    
              <svg aria-hidden="true" height="16" viewBox="0 0 16 16" version="1.1" width="16" data-view-component="true" class="octicon octicon-graph UnderlineNav-octicon d-none d-sm-inline">
    <path d="M1.5 1.75V13.5h13.75a.75.75 0 0 1 0 1.5H.75a.75.75 0 0 1-.75-.75V1.75a.75.75 0 0 1 1.5 0Zm14.28 2.53-5.25 5.25a.75.75 0 0 1-1.06 0L7 7.06 4.28 9.78a.751.751 0 0 1-1.042-.018.751.751 0 0 1-.018-1.042l3.25-3.25a.75.75 0 0 1 1.06 0L10 7.94l4.72-4.72a.751.751 0 0 1 1.042.018.751.751 0 0 1 .018 1.042Z"></path>
</svg>
        <span data-content="Insights">Insights</span>
          <span id="insights-repo-tab-count" data-pjax-replace="" data-turbo-replace="" title="Not available" data-view-component="true" class="Counter"></span>


    
</a></li>
</ul>
    <div style="visibility:hidden;" data-view-component="true" class="UnderlineNav-actions js-responsive-underlinenav-overflow position-absolute pr-3 pr-md-4 pr-lg-5 right-0">        <details data-view-component="true" class="details-overlay details-reset position-relative">
    <summary role="button" data-view-component="true">          <div class="UnderlineNav-item mr-0 border-0">
            <svg aria-hidden="true" height="16" viewBox="0 0 16 16" version="1.1" width="16" data-view-component="true" class="octicon octicon-kebab-horizontal">
    <path d="M8 9a1.5 1.5 0 1 0 0-3 1.5 1.5 0 0 0 0 3ZM1.5 9a1.5 1.5 0 1 0 0-3 1.5 1.5 0 0 0 0 3Zm13 0a1.5 1.5 0 1 0 0-3 1.5 1.5 0 0 0 0 3Z"></path>
</svg>
            <span class="sr-only">More</span>
          </div>
</summary>
    <details-menu role="menu" data-view-component="true" class="dropdown-menu dropdown-menu-sw">          <ul>
              <li data-menu-item="i0code-tab" hidden>
                <a role="menuitem" class="js-selected-navigation-item dropdown-item" data-selected-links="repo_source repo_downloads repo_commits repo_releases repo_tags repo_branches repo_packages repo_deployments /Rixhi7/Car-Performance-Prediction-Project" href="/Rixhi7/Car-Performance-Prediction-Project">
                  Code
</a>              </li>
              <li data-menu-item="i1issues-tab" hidden>
                <a role="menuitem" class="js-selected-navigation-item dropdown-item" data-selected-links="repo_issues repo_labels repo_milestones /Rixhi7/Car-Performance-Prediction-Project/issues" href="/Rixhi7/Car-Performance-Prediction-Project/issues">
                  Issues
</a>              </li>
              <li data-menu-item="i2pull-requests-tab" hidden>
                <a role="menuitem" class="js-selected-navigation-item dropdown-item" data-selected-links="repo_pulls checks /Rixhi7/Car-Performance-Prediction-Project/pulls" href="/Rixhi7/Car-Performance-Prediction-Project/pulls">
                  Pull requests
</a>              </li>
              <li data-menu-item="i3actions-tab" hidden>
                <a role="menuitem" class="js-selected-navigation-item dropdown-item" data-selected-links="repo_actions /Rixhi7/Car-Performance-Prediction-Project/actions" href="/Rixhi7/Car-Performance-Prediction-Project/actions">
                  Actions
</a>              </li>
              <li data-menu-item="i4projects-tab" hidden>
                <a role="menuitem" class="js-selected-navigation-item dropdown-item" data-selected-links="repo_projects new_repo_project repo_project /Rixhi7/Car-Performance-Prediction-Project/projects" href="/Rixhi7/Car-Performance-Prediction-Project/projects">
                  Projects
</a>              </li>
              <li data-menu-item="i5security-tab" hidden>
                <a role="menuitem" class="js-selected-navigation-item dropdown-item" data-selected-links="security overview alerts policy token_scanning code_scanning /Rixhi7/Car-Performance-Prediction-Project/security" href="/Rixhi7/Car-Performance-Prediction-Project/security">
                  Security
</a>              </li>
              <li data-menu-item="i6insights-tab" hidden>
                <a role="menuitem" class="js-selected-navigation-item dropdown-item" data-selected-links="repo_graphs repo_contributors dependency_graph dependabot_updates pulse people community /Rixhi7/Car-Performance-Prediction-Project/pulse" href="/Rixhi7/Car-Performance-Prediction-Project/pulse">
                  Insights
</a>              </li>
          </ul>
</details-menu>
</details></div>
</nav>
      </div>
</header>


      <div hidden="hidden" data-view-component="true" class="js-stale-session-flash flash flash-warn mb-3">
  
        <svg aria-hidden="true" height="16" viewBox="0 0 16 16" version="1.1" width="16" data-view-component="true" class="octicon octicon-alert">
    <path d="M6.457 1.047c.659-1.234 2.427-1.234 3.086 0l6.082 11.378A1.75 1.75 0 0 1 14.082 15H1.918a1.75 1.75 0 0 1-1.543-2.575Zm1.763.707a.25.25 0 0 0-.44 0L1.698 13.132a.25.25 0 0 0 .22.368h12.164a.25.25 0 0 0 .22-.368Zm.53 3.996v2.5a.75.75 0 0 1-1.5 0v-2.5a.75.75 0 0 1 1.5 0ZM9 11a1 1 0 1 1-2 0 1 1 0 0 1 2 0Z"></path>
</svg>
        <span class="js-stale-session-flash-signed-in" hidden>You signed in with another tab or window. <a href="">Reload</a> to refresh your session.</span>
        <span class="js-stale-session-flash-signed-out" hidden>You signed out in another tab or window. <a href="">Reload</a> to refresh your session.</span>
        <span class="js-stale-session-flash-switched" hidden>You switched accounts on another tab or window. <a href="">Reload</a> to refresh your session.</span>

    <button class="flash-close js-flash-close" type="button" aria-label="Close">
      <svg aria-hidden="true" height="16" viewBox="0 0 16 16" version="1.1" width="16" data-view-component="true" class="octicon octicon-x">
    <path d="M3.72 3.72a.75.75 0 0 1 1.06 0L8 6.94l3.22-3.22a.749.749 0 0 1 1.275.326.749.749 0 0 1-.215.734L9.06 8l3.22 3.22a.749.749 0 0 1-.326 1.275.749.749 0 0 1-.734-.215L8 9.06l-3.22 3.22a.751.751 0 0 1-1.042-.018.751.751 0 0 1-.018-1.042L6.94 8 3.72 4.78a.75.75 0 0 1 0-1.06Z"></path>
</svg>
    </button>

  
</div>
          
    </div>

  <div id="start-of-content" class="show-on-focus"></div>








    <div id="js-flash-container" data-turbo-replace>





  <template class="js-flash-template">
    
<div class="flash flash-full   {{ className }}">
  <div class="px-2" >
    <button autofocus class="flash-close js-flash-close" type="button" aria-label="Dismiss this message">
      <svg aria-hidden="true" height="16" viewBox="0 0 16 16" version="1.1" width="16" data-view-component="true" class="octicon octicon-x">
    <path d="M3.72 3.72a.75.75 0 0 1 1.06 0L8 6.94l3.22-3.22a.749.749 0 0 1 1.275.326.749.749 0 0 1-.215.734L9.06 8l3.22 3.22a.749.749 0 0 1-.326 1.275.749.749 0 0 1-.734-.215L8 9.06l-3.22 3.22a.751.751 0 0 1-1.042-.018.751.751 0 0 1-.018-1.042L6.94 8 3.72 4.78a.75.75 0 0 1 0-1.06Z"></path>
</svg>
    </button>
    <div aria-atomic="true" role="alert" class="js-flash-alert">
      
      <div>{{ message }}</div>

    </div>
  </div>
</div>
  </template>
</div>


    
    <notification-shelf-watcher data-base-url="https://github.com/notifications/beta/shelf" data-channel="eyJjIjoibm90aWZpY2F0aW9uLWNoYW5nZWQ6MTA4NTIzNzI1IiwidCI6MTY4ODI0NTExNH0=--ff5afde1e014c7995d185c79b8940ab38a96bec79c5d06d944bbb9696d12e5c7" data-view-component="true" class="js-socket-channel"></notification-shelf-watcher>
  <div hidden data-initial data-target="notification-shelf-watcher.placeholder"></div>






      <details
  class="details-reset details-overlay details-overlay-dark js-command-palette-dialog"
  id="command-palette-pjax-container"
  data-turbo-replace
>
  <summary aria-label="command palette trigger" tabindex="-1"></summary>
  <details-dialog class="command-palette-details-dialog d-flex flex-column flex-justify-center height-fit" aria-label="command palette">
    <command-palette
      class="command-palette color-bg-default rounded-3 border color-shadow-small"
      return-to=/Rixhi7/Car-Performance-Prediction-Project/blob/main/Assignments/ADS_Assignment_2_20BBS0215.ipynb
      user-id="108523725"
      activation-hotkey="Mod+k,Mod+Alt+k"
      command-mode-hotkey="Mod+Shift+k"
      data-action="
        command-palette-input-ready:command-palette#inputReady
        command-palette-page-stack-updated:command-palette#updateInputScope
        itemsUpdated:command-palette#itemsUpdated
        keydown:command-palette#onKeydown
        loadingStateChanged:command-palette#loadingStateChanged
        selectedItemChanged:command-palette#selectedItemChanged
        pageFetchError:command-palette#pageFetchError
      ">

        <command-palette-mode
          data-char="#"
            data-scope-types="[&quot;&quot;]"
            data-placeholder="Search issues and pull requests"
        ></command-palette-mode>
        <command-palette-mode
          data-char="#"
            data-scope-types="[&quot;owner&quot;,&quot;repository&quot;]"
            data-placeholder="Search issues, pull requests, discussions, and projects"
        ></command-palette-mode>
        <command-palette-mode
          data-char="!"
            data-scope-types="[&quot;owner&quot;,&quot;repository&quot;]"
            data-placeholder="Search projects"
        ></command-palette-mode>
        <command-palette-mode
          data-char="@"
            data-scope-types="[&quot;&quot;]"
            data-placeholder="Search or jump to a user, organization, or repository"
        ></command-palette-mode>
        <command-palette-mode
          data-char="@"
            data-scope-types="[&quot;owner&quot;]"
            data-placeholder="Search or jump to a repository"
        ></command-palette-mode>
        <command-palette-mode
          data-char="/"
            data-scope-types="[&quot;repository&quot;]"
            data-placeholder="Search files"
        ></command-palette-mode>
        <command-palette-mode
          data-char="?"
        ></command-palette-mode>
        <command-palette-mode
          data-char="&gt;"
            data-placeholder="Run a command"
        ></command-palette-mode>
        <command-palette-mode
          data-char=""
            data-scope-types="[&quot;&quot;]"
            data-placeholder="Search or jump to..."
        ></command-palette-mode>
        <command-palette-mode
          data-char=""
            data-scope-types="[&quot;owner&quot;]"
            data-placeholder="Search or jump to..."
        ></command-palette-mode>
      <command-palette-mode
        class="js-command-palette-default-mode"
        data-char=""
        data-placeholder="Search or jump to..."
      ></command-palette-mode>

      <command-palette-input placeholder="Search or jump to..."

        data-action="
          command-palette-input:command-palette#onInput
          command-palette-select:command-palette#onSelect
          command-palette-descope:command-palette#onDescope
          command-palette-cleared:command-palette#onInputClear
        "
      >
        <div class="js-search-icon d-flex flex-items-center mr-2" style="height: 26px">
          <svg aria-hidden="true" height="16" viewBox="0 0 16 16" version="1.1" width="16" data-view-component="true" class="octicon octicon-search color-fg-muted">
    <path d="M10.68 11.74a6 6 0 0 1-7.922-8.982 6 6 0 0 1 8.982 7.922l3.04 3.04a.749.749 0 0 1-.326 1.275.749.749 0 0 1-.734-.215ZM11.5 7a4.499 4.499 0 1 0-8.997 0A4.499 4.499 0 0 0 11.5 7Z"></path>
</svg>
        </div>
        <div class="js-spinner d-flex flex-items-center mr-2 color-fg-muted" hidden>
          <svg aria-label="Loading" class="anim-rotate" viewBox="0 0 16 16" fill="none" width="16" height="16">
            <circle
              cx="8"
              cy="8"
              r="7"
              stroke="currentColor"
              stroke-opacity="0.25"
              stroke-width="2"
              vector-effect="non-scaling-stroke"
            ></circle>
            <path
              d="M15 8a7.002 7.002 0 00-7-7"
              stroke="currentColor"
              stroke-width="2"
              stroke-linecap="round"
              vector-effect="non-scaling-stroke"
            ></path>
          </svg>
        </div>
        <command-palette-scope >
          <div data-target="command-palette-scope.placeholder" hidden class="color-fg-subtle">/&nbsp;&nbsp;<span class="text-semibold color-fg-default">...</span>&nbsp;&nbsp;/&nbsp;&nbsp;</div>
              <command-palette-token
                data-text="Rixhi7"
                data-id="MDQ6VXNlcjc2Mjc2NTY0"
                data-type="owner"
                data-value="Rixhi7"
                data-targets="command-palette-scope.tokens"
                class="color-fg-default text-semibold"
                style="white-space:nowrap;line-height:20px;"
                >Rixhi7<span class="color-fg-subtle text-normal">&nbsp;&nbsp;/&nbsp;&nbsp;</span></command-palette-token>
              <command-palette-token
                data-text="Car-Performance-Prediction-Project"
                data-id="R_kgDOJ1uSrQ"
                data-type="repository"
                data-value="Car-Performance-Prediction-Project"
                data-targets="command-palette-scope.tokens"
                class="color-fg-default text-semibold"
                style="white-space:nowrap;line-height:20px;"
                >Car-Performance-P...<span class="color-fg-subtle text-normal">&nbsp;&nbsp;/&nbsp;&nbsp;</span></command-palette-token>
        </command-palette-scope>
        <div class="command-palette-input-group flex-1 form-control border-0 box-shadow-none" style="z-index: 0">
          <div class="command-palette-typeahead position-absolute d-flex flex-items-center Truncate">
            <span class="typeahead-segment input-mirror" data-target="command-palette-input.mirror"></span>
            <span class="Truncate-text" data-target="command-palette-input.typeaheadText"></span>
            <span class="typeahead-segment" data-target="command-palette-input.typeaheadPlaceholder"></span>
          </div>
          <input
            class="js-overlay-input typeahead-input d-none"
            disabled
            tabindex="-1"
            aria-label="Hidden input for typeahead"
          >
          <input
            type="text"
            autocomplete="off"
            autocorrect="off"
            autocapitalize="off"
            spellcheck="false"
            class="js-input typeahead-input form-control border-0 box-shadow-none input-block width-full no-focus-indicator"
            aria-label="Command palette input"
            aria-haspopup="listbox"
            aria-expanded="false"
            aria-autocomplete="list"
            aria-controls="command-palette-page-stack"
            role="combobox"
            data-action="
              input:command-palette-input#onInput
              keydown:command-palette-input#onKeydown
            "
          >
        </div>
          <div data-view-component="true" class="position-relative d-inline-block">
    <button aria-keyshortcuts="Control+Backspace" data-action="click:command-palette-input#onClear keypress:command-palette-input#onClear" data-target="command-palette-input.clearButton" id="command-palette-clear-button" hidden="hidden" type="button" data-view-component="true" class="btn-octicon command-palette-input-clear-button">      <svg aria-hidden="true" height="16" viewBox="0 0 16 16" version="1.1" width="16" data-view-component="true" class="octicon octicon-x-circle-fill">
    <path d="M2.343 13.657A8 8 0 1 1 13.658 2.343 8 8 0 0 1 2.343 13.657ZM6.03 4.97a.751.751 0 0 0-1.042.018.751.751 0 0 0-.018 1.042L6.94 8 4.97 9.97a.749.749 0 0 0 .326 1.275.749.749 0 0 0 .734-.215L8 9.06l1.97 1.97a.749.749 0 0 0 1.275-.326.749.749 0 0 0-.215-.734L9.06 8l1.97-1.97a.749.749 0 0 0-.326-1.275.749.749 0 0 0-.734.215L8 6.94Z"></path>
</svg>
</button>    <tool-tip id="tooltip-59f8bff5-bf27-4f8e-abad-8536fdf2e6e7" for="command-palette-clear-button" data-direction="w" data-type="label" data-view-component="true" class="sr-only position-absolute">Clear Command Palette</tool-tip>
</div>
      </command-palette-input>

      <command-palette-page-stack
        data-default-scope-id="R_kgDOJ1uSrQ"
        data-default-scope-type="Repository"
        data-action="command-palette-page-octicons-cached:command-palette-page-stack#cacheOcticons"
      >
          <command-palette-tip
            class="color-fg-muted f6 px-3 py-1 my-2"
              data-scope-types="[&quot;&quot;,&quot;owner&quot;,&quot;repository&quot;]"
            data-mode=""
            data-value="">
            <div class="d-flex flex-items-start flex-justify-between">
              <div>
                <span class="text-bold">Tip:</span>
                  Type <kbd class="hx_kbd">#</kbd> to search pull requests
              </div>
              <div class="ml-2 flex-shrink-0">
                Type <kbd class="hx_kbd">?</kbd> for help and tips
              </div>
            </div>
          </command-palette-tip>
          <command-palette-tip
            class="color-fg-muted f6 px-3 py-1 my-2"
              data-scope-types="[&quot;&quot;,&quot;owner&quot;,&quot;repository&quot;]"
            data-mode=""
            data-value="">
            <div class="d-flex flex-items-start flex-justify-between">
              <div>
                <span class="text-bold">Tip:</span>
                  Type <kbd class="hx_kbd">#</kbd> to search issues
              </div>
              <div class="ml-2 flex-shrink-0">
                Type <kbd class="hx_kbd">?</kbd> for help and tips
              </div>
            </div>
          </command-palette-tip>
          <command-palette-tip
            class="color-fg-muted f6 px-3 py-1 my-2"
              data-scope-types="[&quot;owner&quot;,&quot;repository&quot;]"
            data-mode=""
            data-value="">
            <div class="d-flex flex-items-start flex-justify-between">
              <div>
                <span class="text-bold">Tip:</span>
                  Type <kbd class="hx_kbd">#</kbd> to search discussions
              </div>
              <div class="ml-2 flex-shrink-0">
                Type <kbd class="hx_kbd">?</kbd> for help and tips
              </div>
            </div>
          </command-palette-tip>
          <command-palette-tip
            class="color-fg-muted f6 px-3 py-1 my-2"
              data-scope-types="[&quot;owner&quot;,&quot;repository&quot;]"
            data-mode=""
            data-value="">
            <div class="d-flex flex-items-start flex-justify-between">
              <div>
                <span class="text-bold">Tip:</span>
                  Type <kbd class="hx_kbd">!</kbd> to search projects
              </div>
              <div class="ml-2 flex-shrink-0">
                Type <kbd class="hx_kbd">?</kbd> for help and tips
              </div>
            </div>
          </command-palette-tip>
          <command-palette-tip
            class="color-fg-muted f6 px-3 py-1 my-2"
              data-scope-types="[&quot;owner&quot;]"
            data-mode=""
            data-value="">
            <div class="d-flex flex-items-start flex-justify-between">
              <div>
                <span class="text-bold">Tip:</span>
                  Type <kbd class="hx_kbd">@</kbd> to search teams
              </div>
              <div class="ml-2 flex-shrink-0">
                Type <kbd class="hx_kbd">?</kbd> for help and tips
              </div>
            </div>
          </command-palette-tip>
          <command-palette-tip
            class="color-fg-muted f6 px-3 py-1 my-2"
              data-scope-types="[&quot;&quot;]"
            data-mode=""
            data-value="">
            <div class="d-flex flex-items-start flex-justify-between">
              <div>
                <span class="text-bold">Tip:</span>
                  Type <kbd class="hx_kbd">@</kbd> to search people and organizations
              </div>
              <div class="ml-2 flex-shrink-0">
                Type <kbd class="hx_kbd">?</kbd> for help and tips
              </div>
            </div>
          </command-palette-tip>
          <command-palette-tip
            class="color-fg-muted f6 px-3 py-1 my-2"
              data-scope-types="[&quot;&quot;,&quot;owner&quot;,&quot;repository&quot;]"
            data-mode=""
            data-value="">
            <div class="d-flex flex-items-start flex-justify-between">
              <div>
                <span class="text-bold">Tip:</span>
                  Type <kbd class="hx_kbd">&gt;</kbd> to activate command mode
              </div>
              <div class="ml-2 flex-shrink-0">
                Type <kbd class="hx_kbd">?</kbd> for help and tips
              </div>
            </div>
          </command-palette-tip>
          <command-palette-tip
            class="color-fg-muted f6 px-3 py-1 my-2"
              data-scope-types="[&quot;&quot;,&quot;owner&quot;,&quot;repository&quot;]"
            data-mode=""
            data-value="">
            <div class="d-flex flex-items-start flex-justify-between">
              <div>
                <span class="text-bold">Tip:</span>
                  Go to your accessibility settings to change your keyboard shortcuts
              </div>
              <div class="ml-2 flex-shrink-0">
                Type <kbd class="hx_kbd">?</kbd> for help and tips
              </div>
            </div>
          </command-palette-tip>
          <command-palette-tip
            class="color-fg-muted f6 px-3 py-1 my-2"
              data-scope-types="[&quot;&quot;,&quot;owner&quot;,&quot;repository&quot;]"
            data-mode="#"
            data-value="">
            <div class="d-flex flex-items-start flex-justify-between">
              <div>
                <span class="text-bold">Tip:</span>
                  Type author:@me to search your content
              </div>
              <div class="ml-2 flex-shrink-0">
                Type <kbd class="hx_kbd">?</kbd> for help and tips
              </div>
            </div>
          </command-palette-tip>
          <command-palette-tip
            class="color-fg-muted f6 px-3 py-1 my-2"
              data-scope-types="[&quot;&quot;,&quot;owner&quot;,&quot;repository&quot;]"
            data-mode="#"
            data-value="">
            <div class="d-flex flex-items-start flex-justify-between">
              <div>
                <span class="text-bold">Tip:</span>
                  Type is:pr to filter to pull requests
              </div>
              <div class="ml-2 flex-shrink-0">
                Type <kbd class="hx_kbd">?</kbd> for help and tips
              </div>
            </div>
          </command-palette-tip>
          <command-palette-tip
            class="color-fg-muted f6 px-3 py-1 my-2"
              data-scope-types="[&quot;&quot;,&quot;owner&quot;,&quot;repository&quot;]"
            data-mode="#"
            data-value="">
            <div class="d-flex flex-items-start flex-justify-between">
              <div>
                <span class="text-bold">Tip:</span>
                  Type is:issue to filter to issues
              </div>
              <div class="ml-2 flex-shrink-0">
                Type <kbd class="hx_kbd">?</kbd> for help and tips
              </div>
            </div>
          </command-palette-tip>
          <command-palette-tip
            class="color-fg-muted f6 px-3 py-1 my-2"
              data-scope-types="[&quot;owner&quot;,&quot;repository&quot;]"
            data-mode="#"
            data-value="">
            <div class="d-flex flex-items-start flex-justify-between">
              <div>
                <span class="text-bold">Tip:</span>
                  Type is:project to filter to projects
              </div>
              <div class="ml-2 flex-shrink-0">
                Type <kbd class="hx_kbd">?</kbd> for help and tips
              </div>
            </div>
          </command-palette-tip>
          <command-palette-tip
            class="color-fg-muted f6 px-3 py-1 my-2"
              data-scope-types="[&quot;&quot;,&quot;owner&quot;,&quot;repository&quot;]"
            data-mode="#"
            data-value="">
            <div class="d-flex flex-items-start flex-justify-between">
              <div>
                <span class="text-bold">Tip:</span>
                  Type is:open to filter to open content
              </div>
              <div class="ml-2 flex-shrink-0">
                Type <kbd class="hx_kbd">?</kbd> for help and tips
              </div>
            </div>
          </command-palette-tip>
        <command-palette-tip class="mx-3 my-2 flash flash-error d-flex flex-items-center" data-scope-types="*" data-on-error>
          <div>
            <svg aria-hidden="true" height="16" viewBox="0 0 16 16" version="1.1" width="16" data-view-component="true" class="octicon octicon-alert">
    <path d="M6.457 1.047c.659-1.234 2.427-1.234 3.086 0l6.082 11.378A1.75 1.75 0 0 1 14.082 15H1.918a1.75 1.75 0 0 1-1.543-2.575Zm1.763.707a.25.25 0 0 0-.44 0L1.698 13.132a.25.25 0 0 0 .22.368h12.164a.25.25 0 0 0 .22-.368Zm.53 3.996v2.5a.75.75 0 0 1-1.5 0v-2.5a.75.75 0 0 1 1.5 0ZM9 11a1 1 0 1 1-2 0 1 1 0 0 1 2 0Z"></path>
</svg>
          </div>
          <div class="px-2">
            We’ve encountered an error and some results aren't available at this time. Type a new search or try again later.
          </div>
        </command-palette-tip>
        <command-palette-tip class="h4 color-fg-default pl-3 pb-2 pt-3" data-on-empty data-scope-types="*" data-match-mode="[^?]|^$">
          No results matched your search
        </command-palette-tip>

        <div hidden>

            <div data-targets="command-palette-page-stack.localOcticons" data-octicon-id="arrow-right-color-fg-muted">
              <svg height="16" class="octicon octicon-arrow-right color-fg-muted" viewBox="0 0 16 16" version="1.1" width="16" aria-hidden="true"><path d="M8.22 2.97a.75.75 0 0 1 1.06 0l4.25 4.25a.75.75 0 0 1 0 1.06l-4.25 4.25a.751.751 0 0 1-1.042-.018.751.751 0 0 1-.018-1.042l2.97-2.97H3.75a.75.75 0 0 1 0-1.5h7.44L8.22 4.03a.75.75 0 0 1 0-1.06Z"></path></svg>
            </div>
            <div data-targets="command-palette-page-stack.localOcticons" data-octicon-id="arrow-right-color-fg-default">
              <svg height="16" class="octicon octicon-arrow-right color-fg-default" viewBox="0 0 16 16" version="1.1" width="16" aria-hidden="true"><path d="M8.22 2.97a.75.75 0 0 1 1.06 0l4.25 4.25a.75.75 0 0 1 0 1.06l-4.25 4.25a.751.751 0 0 1-1.042-.018.751.751 0 0 1-.018-1.042l2.97-2.97H3.75a.75.75 0 0 1 0-1.5h7.44L8.22 4.03a.75.75 0 0 1 0-1.06Z"></path></svg>
            </div>
            <div data-targets="command-palette-page-stack.localOcticons" data-octicon-id="codespaces-color-fg-muted">
              <svg height="16" class="octicon octicon-codespaces color-fg-muted" viewBox="0 0 16 16" version="1.1" width="16" aria-hidden="true"><path d="M0 11.25c0-.966.784-1.75 1.75-1.75h12.5c.966 0 1.75.784 1.75 1.75v3A1.75 1.75 0 0 1 14.25 16H1.75A1.75 1.75 0 0 1 0 14.25Zm2-9.5C2 .784 2.784 0 3.75 0h8.5C13.216 0 14 .784 14 1.75v5a1.75 1.75 0 0 1-1.75 1.75h-8.5A1.75 1.75 0 0 1 2 6.75Zm1.75-.25a.25.25 0 0 0-.25.25v5c0 .138.112.25.25.25h8.5a.25.25 0 0 0 .25-.25v-5a.25.25 0 0 0-.25-.25Zm-2 9.5a.25.25 0 0 0-.25.25v3c0 .138.112.25.25.25h12.5a.25.25 0 0 0 .25-.25v-3a.25.25 0 0 0-.25-.25Z"></path><path d="M7 12.75a.75.75 0 0 1 .75-.75h4.5a.75.75 0 0 1 0 1.5h-4.5a.75.75 0 0 1-.75-.75Zm-4 0a.75.75 0 0 1 .75-.75h.5a.75.75 0 0 1 0 1.5h-.5a.75.75 0 0 1-.75-.75Z"></path></svg>
            </div>
            <div data-targets="command-palette-page-stack.localOcticons" data-octicon-id="copy-color-fg-muted">
              <svg height="16" class="octicon octicon-copy color-fg-muted" viewBox="0 0 16 16" version="1.1" width="16" aria-hidden="true"><path d="M0 6.75C0 5.784.784 5 1.75 5h1.5a.75.75 0 0 1 0 1.5h-1.5a.25.25 0 0 0-.25.25v7.5c0 .138.112.25.25.25h7.5a.25.25 0 0 0 .25-.25v-1.5a.75.75 0 0 1 1.5 0v1.5A1.75 1.75 0 0 1 9.25 16h-7.5A1.75 1.75 0 0 1 0 14.25Z"></path><path d="M5 1.75C5 .784 5.784 0 6.75 0h7.5C15.216 0 16 .784 16 1.75v7.5A1.75 1.75 0 0 1 14.25 11h-7.5A1.75 1.75 0 0 1 5 9.25Zm1.75-.25a.25.25 0 0 0-.25.25v7.5c0 .138.112.25.25.25h7.5a.25.25 0 0 0 .25-.25v-7.5a.25.25 0 0 0-.25-.25Z"></path></svg>
            </div>
            <div data-targets="command-palette-page-stack.localOcticons" data-octicon-id="dash-color-fg-muted">
              <svg height="16" class="octicon octicon-dash color-fg-muted" viewBox="0 0 16 16" version="1.1" width="16" aria-hidden="true"><path d="M2 7.75A.75.75 0 0 1 2.75 7h10a.75.75 0 0 1 0 1.5h-10A.75.75 0 0 1 2 7.75Z"></path></svg>
            </div>
            <div data-targets="command-palette-page-stack.localOcticons" data-octicon-id="file-color-fg-muted">
              <svg height="16" class="octicon octicon-file color-fg-muted" viewBox="0 0 16 16" version="1.1" width="16" aria-hidden="true"><path d="M2 1.75C2 .784 2.784 0 3.75 0h6.586c.464 0 .909.184 1.237.513l2.914 2.914c.329.328.513.773.513 1.237v9.586A1.75 1.75 0 0 1 13.25 16h-9.5A1.75 1.75 0 0 1 2 14.25Zm1.75-.25a.25.25 0 0 0-.25.25v12.5c0 .138.112.25.25.25h9.5a.25.25 0 0 0 .25-.25V6h-2.75A1.75 1.75 0 0 1 9 4.25V1.5Zm6.75.062V4.25c0 .138.112.25.25.25h2.688l-.011-.013-2.914-2.914-.013-.011Z"></path></svg>
            </div>
            <div data-targets="command-palette-page-stack.localOcticons" data-octicon-id="gear-color-fg-muted">
              <svg height="16" class="octicon octicon-gear color-fg-muted" viewBox="0 0 16 16" version="1.1" width="16" aria-hidden="true"><path d="M8 0a8.2 8.2 0 0 1 .701.031C9.444.095 9.99.645 10.16 1.29l.288 1.107c.018.066.079.158.212.224.231.114.454.243.668.386.123.082.233.09.299.071l1.103-.303c.644-.176 1.392.021 1.82.63.27.385.506.792.704 1.218.315.675.111 1.422-.364 1.891l-.814.806c-.049.048-.098.147-.088.294.016.257.016.515 0 .772-.01.147.038.246.088.294l.814.806c.475.469.679 1.216.364 1.891a7.977 7.977 0 0 1-.704 1.217c-.428.61-1.176.807-1.82.63l-1.102-.302c-.067-.019-.177-.011-.3.071a5.909 5.909 0 0 1-.668.386c-.133.066-.194.158-.211.224l-.29 1.106c-.168.646-.715 1.196-1.458 1.26a8.006 8.006 0 0 1-1.402 0c-.743-.064-1.289-.614-1.458-1.26l-.289-1.106c-.018-.066-.079-.158-.212-.224a5.738 5.738 0 0 1-.668-.386c-.123-.082-.233-.09-.299-.071l-1.103.303c-.644.176-1.392-.021-1.82-.63a8.12 8.12 0 0 1-.704-1.218c-.315-.675-.111-1.422.363-1.891l.815-.806c.05-.048.098-.147.088-.294a6.214 6.214 0 0 1 0-.772c.01-.147-.038-.246-.088-.294l-.815-.806C.635 6.045.431 5.298.746 4.623a7.92 7.92 0 0 1 .704-1.217c.428-.61 1.176-.807 1.82-.63l1.102.302c.067.019.177.011.3-.071.214-.143.437-.272.668-.386.133-.066.194-.158.211-.224l.29-1.106C6.009.645 6.556.095 7.299.03 7.53.01 7.764 0 8 0Zm-.571 1.525c-.036.003-.108.036-.137.146l-.289 1.105c-.147.561-.549.967-.998 1.189-.173.086-.34.183-.5.29-.417.278-.97.423-1.529.27l-1.103-.303c-.109-.03-.175.016-.195.045-.22.312-.412.644-.573.99-.014.031-.021.11.059.19l.815.806c.411.406.562.957.53 1.456a4.709 4.709 0 0 0 0 .582c.032.499-.119 1.05-.53 1.456l-.815.806c-.081.08-.073.159-.059.19.162.346.353.677.573.989.02.03.085.076.195.046l1.102-.303c.56-.153 1.113-.008 1.53.27.161.107.328.204.501.29.447.222.85.629.997 1.189l.289 1.105c.029.109.101.143.137.146a6.6 6.6 0 0 0 1.142 0c.036-.003.108-.036.137-.146l.289-1.105c.147-.561.549-.967.998-1.189.173-.086.34-.183.5-.29.417-.278.97-.423 1.529-.27l1.103.303c.109.029.175-.016.195-.045.22-.313.411-.644.573-.99.014-.031.021-.11-.059-.19l-.815-.806c-.411-.406-.562-.957-.53-1.456a4.709 4.709 0 0 0 0-.582c-.032-.499.119-1.05.53-1.456l.815-.806c.081-.08.073-.159.059-.19a6.464 6.464 0 0 0-.573-.989c-.02-.03-.085-.076-.195-.046l-1.102.303c-.56.153-1.113.008-1.53-.27a4.44 4.44 0 0 0-.501-.29c-.447-.222-.85-.629-.997-1.189l-.289-1.105c-.029-.11-.101-.143-.137-.146a6.6 6.6 0 0 0-1.142 0ZM11 8a3 3 0 1 1-6 0 3 3 0 0 1 6 0ZM9.5 8a1.5 1.5 0 1 0-3.001.001A1.5 1.5 0 0 0 9.5 8Z"></path></svg>
            </div>
            <div data-targets="command-palette-page-stack.localOcticons" data-octicon-id="lock-color-fg-muted">
              <svg height="16" class="octicon octicon-lock color-fg-muted" viewBox="0 0 16 16" version="1.1" width="16" aria-hidden="true"><path d="M4 4a4 4 0 0 1 8 0v2h.25c.966 0 1.75.784 1.75 1.75v5.5A1.75 1.75 0 0 1 12.25 15h-8.5A1.75 1.75 0 0 1 2 13.25v-5.5C2 6.784 2.784 6 3.75 6H4Zm8.25 3.5h-8.5a.25.25 0 0 0-.25.25v5.5c0 .138.112.25.25.25h8.5a.25.25 0 0 0 .25-.25v-5.5a.25.25 0 0 0-.25-.25ZM10.5 6V4a2.5 2.5 0 1 0-5 0v2Z"></path></svg>
            </div>
            <div data-targets="command-palette-page-stack.localOcticons" data-octicon-id="moon-color-fg-muted">
              <svg height="16" class="octicon octicon-moon color-fg-muted" viewBox="0 0 16 16" version="1.1" width="16" aria-hidden="true"><path d="M9.598 1.591a.749.749 0 0 1 .785-.175 7.001 7.001 0 1 1-8.967 8.967.75.75 0 0 1 .961-.96 5.5 5.5 0 0 0 7.046-7.046.75.75 0 0 1 .175-.786Zm1.616 1.945a7 7 0 0 1-7.678 7.678 5.499 5.499 0 1 0 7.678-7.678Z"></path></svg>
            </div>
            <div data-targets="command-palette-page-stack.localOcticons" data-octicon-id="person-color-fg-muted">
              <svg height="16" class="octicon octicon-person color-fg-muted" viewBox="0 0 16 16" version="1.1" width="16" aria-hidden="true"><path d="M10.561 8.073a6.005 6.005 0 0 1 3.432 5.142.75.75 0 1 1-1.498.07 4.5 4.5 0 0 0-8.99 0 .75.75 0 0 1-1.498-.07 6.004 6.004 0 0 1 3.431-5.142 3.999 3.999 0 1 1 5.123 0ZM10.5 5a2.5 2.5 0 1 0-5 0 2.5 2.5 0 0 0 5 0Z"></path></svg>
            </div>
            <div data-targets="command-palette-page-stack.localOcticons" data-octicon-id="pencil-color-fg-muted">
              <svg height="16" class="octicon octicon-pencil color-fg-muted" viewBox="0 0 16 16" version="1.1" width="16" aria-hidden="true"><path d="M11.013 1.427a1.75 1.75 0 0 1 2.474 0l1.086 1.086a1.75 1.75 0 0 1 0 2.474l-8.61 8.61c-.21.21-.47.364-.756.445l-3.251.93a.75.75 0 0 1-.927-.928l.929-3.25c.081-.286.235-.547.445-.758l8.61-8.61Zm.176 4.823L9.75 4.81l-6.286 6.287a.253.253 0 0 0-.064.108l-.558 1.953 1.953-.558a.253.253 0 0 0 .108-.064Zm1.238-3.763a.25.25 0 0 0-.354 0L10.811 3.75l1.439 1.44 1.263-1.263a.25.25 0 0 0 0-.354Z"></path></svg>
            </div>
            <div data-targets="command-palette-page-stack.localOcticons" data-octicon-id="issue-opened-open">
              <svg height="16" class="octicon octicon-issue-opened open" viewBox="0 0 16 16" version="1.1" width="16" aria-hidden="true"><path d="M8 9.5a1.5 1.5 0 1 0 0-3 1.5 1.5 0 0 0 0 3Z"></path><path d="M8 0a8 8 0 1 1 0 16A8 8 0 0 1 8 0ZM1.5 8a6.5 6.5 0 1 0 13 0 6.5 6.5 0 0 0-13 0Z"></path></svg>
            </div>
            <div data-targets="command-palette-page-stack.localOcticons" data-octicon-id="git-pull-request-draft-color-fg-muted">
              <svg height="16" class="octicon octicon-git-pull-request-draft color-fg-muted" viewBox="0 0 16 16" version="1.1" width="16" aria-hidden="true"><path d="M3.25 1A2.25 2.25 0 0 1 4 5.372v5.256a2.251 2.251 0 1 1-1.5 0V5.372A2.251 2.251 0 0 1 3.25 1Zm9.5 14a2.25 2.25 0 1 1 0-4.5 2.25 2.25 0 0 1 0 4.5ZM2.5 3.25a.75.75 0 1 0 1.5 0 .75.75 0 0 0-1.5 0ZM3.25 12a.75.75 0 1 0 0 1.5.75.75 0 0 0 0-1.5Zm9.5 0a.75.75 0 1 0 0 1.5.75.75 0 0 0 0-1.5ZM14 7.5a1.25 1.25 0 1 1-2.5 0 1.25 1.25 0 0 1 2.5 0Zm0-4.25a1.25 1.25 0 1 1-2.5 0 1.25 1.25 0 0 1 2.5 0Z"></path></svg>
            </div>
            <div data-targets="command-palette-page-stack.localOcticons" data-octicon-id="search-color-fg-muted">
              <svg height="16" class="octicon octicon-search color-fg-muted" viewBox="0 0 16 16" version="1.1" width="16" aria-hidden="true"><path d="M10.68 11.74a6 6 0 0 1-7.922-8.982 6 6 0 0 1 8.982 7.922l3.04 3.04a.749.749 0 0 1-.326 1.275.749.749 0 0 1-.734-.215ZM11.5 7a4.499 4.499 0 1 0-8.997 0A4.499 4.499 0 0 0 11.5 7Z"></path></svg>
            </div>
            <div data-targets="command-palette-page-stack.localOcticons" data-octicon-id="sun-color-fg-muted">
              <svg height="16" class="octicon octicon-sun color-fg-muted" viewBox="0 0 16 16" version="1.1" width="16" aria-hidden="true"><path d="M8 12a4 4 0 1 1 0-8 4 4 0 0 1 0 8Zm0-1.5a2.5 2.5 0 1 0 0-5 2.5 2.5 0 0 0 0 5Zm5.657-8.157a.75.75 0 0 1 0 1.061l-1.061 1.06a.749.749 0 0 1-1.275-.326.749.749 0 0 1 .215-.734l1.06-1.06a.75.75 0 0 1 1.06 0Zm-9.193 9.193a.75.75 0 0 1 0 1.06l-1.06 1.061a.75.75 0 1 1-1.061-1.06l1.06-1.061a.75.75 0 0 1 1.061 0ZM8 0a.75.75 0 0 1 .75.75v1.5a.75.75 0 0 1-1.5 0V.75A.75.75 0 0 1 8 0ZM3 8a.75.75 0 0 1-.75.75H.75a.75.75 0 0 1 0-1.5h1.5A.75.75 0 0 1 3 8Zm13 0a.75.75 0 0 1-.75.75h-1.5a.75.75 0 0 1 0-1.5h1.5A.75.75 0 0 1 16 8Zm-8 5a.75.75 0 0 1 .75.75v1.5a.75.75 0 0 1-1.5 0v-1.5A.75.75 0 0 1 8 13Zm3.536-1.464a.75.75 0 0 1 1.06 0l1.061 1.06a.75.75 0 0 1-1.06 1.061l-1.061-1.06a.75.75 0 0 1 0-1.061ZM2.343 2.343a.75.75 0 0 1 1.061 0l1.06 1.061a.751.751 0 0 1-.018 1.042.751.751 0 0 1-1.042.018l-1.06-1.06a.75.75 0 0 1 0-1.06Z"></path></svg>
            </div>
            <div data-targets="command-palette-page-stack.localOcticons" data-octicon-id="sync-color-fg-muted">
              <svg height="16" class="octicon octicon-sync color-fg-muted" viewBox="0 0 16 16" version="1.1" width="16" aria-hidden="true"><path d="M1.705 8.005a.75.75 0 0 1 .834.656 5.5 5.5 0 0 0 9.592 2.97l-1.204-1.204a.25.25 0 0 1 .177-.427h3.646a.25.25 0 0 1 .25.25v3.646a.25.25 0 0 1-.427.177l-1.38-1.38A7.002 7.002 0 0 1 1.05 8.84a.75.75 0 0 1 .656-.834ZM8 2.5a5.487 5.487 0 0 0-4.131 1.869l1.204 1.204A.25.25 0 0 1 4.896 6H1.25A.25.25 0 0 1 1 5.75V2.104a.25.25 0 0 1 .427-.177l1.38 1.38A7.002 7.002 0 0 1 14.95 7.16a.75.75 0 0 1-1.49.178A5.5 5.5 0 0 0 8 2.5Z"></path></svg>
            </div>
            <div data-targets="command-palette-page-stack.localOcticons" data-octicon-id="trash-color-fg-muted">
              <svg height="16" class="octicon octicon-trash color-fg-muted" viewBox="0 0 16 16" version="1.1" width="16" aria-hidden="true"><path d="M11 1.75V3h2.25a.75.75 0 0 1 0 1.5H2.75a.75.75 0 0 1 0-1.5H5V1.75C5 .784 5.784 0 6.75 0h2.5C10.216 0 11 .784 11 1.75ZM4.496 6.675l.66 6.6a.25.25 0 0 0 .249.225h5.19a.25.25 0 0 0 .249-.225l.66-6.6a.75.75 0 0 1 1.492.149l-.66 6.6A1.748 1.748 0 0 1 10.595 15h-5.19a1.75 1.75 0 0 1-1.741-1.575l-.66-6.6a.75.75 0 1 1 1.492-.15ZM6.5 1.75V3h3V1.75a.25.25 0 0 0-.25-.25h-2.5a.25.25 0 0 0-.25.25Z"></path></svg>
            </div>
            <div data-targets="command-palette-page-stack.localOcticons" data-octicon-id="key-color-fg-muted">
              <svg height="16" class="octicon octicon-key color-fg-muted" viewBox="0 0 16 16" version="1.1" width="16" aria-hidden="true"><path d="M10.5 0a5.499 5.499 0 1 1-1.288 10.848l-.932.932a.749.749 0 0 1-.53.22H7v.75a.749.749 0 0 1-.22.53l-.5.5a.749.749 0 0 1-.53.22H5v.75a.749.749 0 0 1-.22.53l-.5.5a.749.749 0 0 1-.53.22h-2A1.75 1.75 0 0 1 0 14.25v-2c0-.199.079-.389.22-.53l4.932-4.932A5.5 5.5 0 0 1 10.5 0Zm-4 5.5c-.001.431.069.86.205 1.269a.75.75 0 0 1-.181.768L1.5 12.56v1.69c0 .138.112.25.25.25h1.69l.06-.06v-1.19a.75.75 0 0 1 .75-.75h1.19l.06-.06v-1.19a.75.75 0 0 1 .75-.75h1.19l1.023-1.025a.75.75 0 0 1 .768-.18A4 4 0 1 0 6.5 5.5ZM11 6a1 1 0 1 1 0-2 1 1 0 0 1 0 2Z"></path></svg>
            </div>
            <div data-targets="command-palette-page-stack.localOcticons" data-octicon-id="comment-discussion-color-fg-muted">
              <svg height="16" class="octicon octicon-comment-discussion color-fg-muted" viewBox="0 0 16 16" version="1.1" width="16" aria-hidden="true"><path d="M1.75 1h8.5c.966 0 1.75.784 1.75 1.75v5.5A1.75 1.75 0 0 1 10.25 10H7.061l-2.574 2.573A1.458 1.458 0 0 1 2 11.543V10h-.25A1.75 1.75 0 0 1 0 8.25v-5.5C0 1.784.784 1 1.75 1ZM1.5 2.75v5.5c0 .138.112.25.25.25h1a.75.75 0 0 1 .75.75v2.19l2.72-2.72a.749.749 0 0 1 .53-.22h3.5a.25.25 0 0 0 .25-.25v-5.5a.25.25 0 0 0-.25-.25h-8.5a.25.25 0 0 0-.25.25Zm13 2a.25.25 0 0 0-.25-.25h-.5a.75.75 0 0 1 0-1.5h.5c.966 0 1.75.784 1.75 1.75v5.5A1.75 1.75 0 0 1 14.25 12H14v1.543a1.458 1.458 0 0 1-2.487 1.03L9.22 12.28a.749.749 0 0 1 .326-1.275.749.749 0 0 1 .734.215l2.22 2.22v-2.19a.75.75 0 0 1 .75-.75h1a.25.25 0 0 0 .25-.25Z"></path></svg>
            </div>
            <div data-targets="command-palette-page-stack.localOcticons" data-octicon-id="bell-color-fg-muted">
              <svg height="16" class="octicon octicon-bell color-fg-muted" viewBox="0 0 16 16" version="1.1" width="16" aria-hidden="true"><path d="M8 16a2 2 0 0 0 1.985-1.75c.017-.137-.097-.25-.235-.25h-3.5c-.138 0-.252.113-.235.25A2 2 0 0 0 8 16ZM3 5a5 5 0 0 1 10 0v2.947c0 .05.015.098.042.139l1.703 2.555A1.519 1.519 0 0 1 13.482 13H2.518a1.516 1.516 0 0 1-1.263-2.36l1.703-2.554A.255.255 0 0 0 3 7.947Zm5-3.5A3.5 3.5 0 0 0 4.5 5v2.947c0 .346-.102.683-.294.97l-1.703 2.556a.017.017 0 0 0-.003.01l.001.006c0 .002.002.004.004.006l.006.004.007.001h10.964l.007-.001.006-.004.004-.006.001-.007a.017.017 0 0 0-.003-.01l-1.703-2.554a1.745 1.745 0 0 1-.294-.97V5A3.5 3.5 0 0 0 8 1.5Z"></path></svg>
            </div>
            <div data-targets="command-palette-page-stack.localOcticons" data-octicon-id="bell-slash-color-fg-muted">
              <svg height="16" class="octicon octicon-bell-slash color-fg-muted" viewBox="0 0 16 16" version="1.1" width="16" aria-hidden="true"><path d="m4.182 4.31.016.011 10.104 7.316.013.01 1.375.996a.75.75 0 1 1-.88 1.214L13.626 13H2.518a1.516 1.516 0 0 1-1.263-2.36l1.703-2.554A.255.255 0 0 0 3 7.947V5.305L.31 3.357a.75.75 0 1 1 .88-1.214Zm7.373 7.19L4.5 6.391v1.556c0 .346-.102.683-.294.97l-1.703 2.556a.017.017 0 0 0-.003.01c0 .005.002.009.005.012l.006.004.007.001ZM8 1.5c-.997 0-1.895.416-2.534 1.086A.75.75 0 1 1 4.38 1.55 5 5 0 0 1 13 5v2.373a.75.75 0 0 1-1.5 0V5A3.5 3.5 0 0 0 8 1.5ZM8 16a2 2 0 0 1-1.985-1.75c-.017-.137.097-.25.235-.25h3.5c.138 0 .252.113.235.25A2 2 0 0 1 8 16Z"></path></svg>
            </div>
            <div data-targets="command-palette-page-stack.localOcticons" data-octicon-id="paintbrush-color-fg-muted">
              <svg height="16" class="octicon octicon-paintbrush color-fg-muted" viewBox="0 0 16 16" version="1.1" width="16" aria-hidden="true"><path d="M11.134 1.535c.7-.509 1.416-.942 2.076-1.155.649-.21 1.463-.267 2.069.34.603.601.568 1.411.368 2.07-.202.668-.624 1.39-1.125 2.096-1.011 1.424-2.496 2.987-3.775 4.249-1.098 1.084-2.132 1.839-3.04 2.3a3.744 3.744 0 0 1-1.055 3.217c-.431.431-1.065.691-1.657.861-.614.177-1.294.287-1.914.357A21.151 21.151 0 0 1 .797 16H.743l.007-.75H.749L.742 16a.75.75 0 0 1-.743-.742l.743-.008-.742.007v-.054a21.25 21.25 0 0 1 .13-2.284c.067-.647.187-1.287.358-1.914.17-.591.43-1.226.86-1.657a3.746 3.746 0 0 1 3.227-1.054c.466-.893 1.225-1.907 2.314-2.982 1.271-1.255 2.833-2.75 4.245-3.777ZM1.62 13.089c-.051.464-.086.929-.104 1.395.466-.018.932-.053 1.396-.104a10.511 10.511 0 0 0 1.668-.309c.526-.151.856-.325 1.011-.48a2.25 2.25 0 1 0-3.182-3.182c-.155.155-.329.485-.48 1.01a10.515 10.515 0 0 0-.309 1.67Zm10.396-10.34c-1.224.89-2.605 2.189-3.822 3.384l1.718 1.718c1.21-1.205 2.51-2.597 3.387-3.833.47-.662.78-1.227.912-1.662.134-.444.032-.551.009-.575h-.001V1.78c-.014-.014-.113-.113-.548.027-.432.14-.995.462-1.655.942Zm-4.832 7.266-.001.001a9.859 9.859 0 0 0 1.63-1.142L7.155 7.216a9.7 9.7 0 0 0-1.161 1.607c.482.302.889.71 1.19 1.192Z"></path></svg>
            </div>

            <command-palette-item-group
              data-group-id="top"
              data-group-title="Top result"
              data-group-hint=""
              data-group-limits="{}"
              data-default-priority="0"
            >
            </command-palette-item-group>
            <command-palette-item-group
              data-group-id="commands"
              data-group-title="Commands"
              data-group-hint="Type &gt; to filter"
              data-group-limits="{&quot;static_items_page&quot;:50,&quot;issue&quot;:50,&quot;pull_request&quot;:50,&quot;discussion&quot;:50}"
              data-default-priority="1"
            >
            </command-palette-item-group>
            <command-palette-item-group
              data-group-id="global_commands"
              data-group-title="Global Commands"
              data-group-hint="Type &gt; to filter"
              data-group-limits="{&quot;issue&quot;:0,&quot;pull_request&quot;:0,&quot;discussion&quot;:0}"
              data-default-priority="2"
            >
            </command-palette-item-group>
            <command-palette-item-group
              data-group-id="this_page"
              data-group-title="This Page"
              data-group-hint=""
              data-group-limits="{}"
              data-default-priority="3"
            >
            </command-palette-item-group>
            <command-palette-item-group
              data-group-id="files"
              data-group-title="Files"
              data-group-hint=""
              data-group-limits="{}"
              data-default-priority="4"
            >
            </command-palette-item-group>
            <command-palette-item-group
              data-group-id="default"
              data-group-title="Default"
              data-group-hint=""
              data-group-limits="{&quot;static_items_page&quot;:50}"
              data-default-priority="5"
            >
            </command-palette-item-group>
            <command-palette-item-group
              data-group-id="pages"
              data-group-title="Pages"
              data-group-hint=""
              data-group-limits="{&quot;repository&quot;:10}"
              data-default-priority="6"
            >
            </command-palette-item-group>
            <command-palette-item-group
              data-group-id="access_policies"
              data-group-title="Access Policies"
              data-group-hint=""
              data-group-limits="{}"
              data-default-priority="7"
            >
            </command-palette-item-group>
            <command-palette-item-group
              data-group-id="organizations"
              data-group-title="Organizations"
              data-group-hint=""
              data-group-limits="{}"
              data-default-priority="8"
            >
            </command-palette-item-group>
            <command-palette-item-group
              data-group-id="repositories"
              data-group-title="Repositories"
              data-group-hint=""
              data-group-limits="{}"
              data-default-priority="9"
            >
            </command-palette-item-group>
            <command-palette-item-group
              data-group-id="references"
              data-group-title="Issues, pull requests, and discussions"
              data-group-hint="Type # to filter"
              data-group-limits="{}"
              data-default-priority="10"
            >
            </command-palette-item-group>
            <command-palette-item-group
              data-group-id="teams"
              data-group-title="Teams"
              data-group-hint=""
              data-group-limits="{}"
              data-default-priority="11"
            >
            </command-palette-item-group>
            <command-palette-item-group
              data-group-id="users"
              data-group-title="Users"
              data-group-hint=""
              data-group-limits="{}"
              data-default-priority="12"
            >
            </command-palette-item-group>
            <command-palette-item-group
              data-group-id="memex_projects"
              data-group-title="Projects"
              data-group-hint=""
              data-group-limits="{}"
              data-default-priority="13"
            >
            </command-palette-item-group>
            <command-palette-item-group
              data-group-id="projects"
              data-group-title="Projects (classic)"
              data-group-hint=""
              data-group-limits="{}"
              data-default-priority="14"
            >
            </command-palette-item-group>
            <command-palette-item-group
              data-group-id="footer"
              data-group-title="Footer"
              data-group-hint=""
              data-group-limits="{}"
              data-default-priority="15"
            >
            </command-palette-item-group>
            <command-palette-item-group
              data-group-id="modes_help"
              data-group-title="Modes"
              data-group-hint=""
              data-group-limits="{}"
              data-default-priority="16"
            >
            </command-palette-item-group>
            <command-palette-item-group
              data-group-id="filters_help"
              data-group-title="Use filters in issues, pull requests, discussions, and projects"
              data-group-hint=""
              data-group-limits="{}"
              data-default-priority="17"
            >
            </command-palette-item-group>

            <command-palette-page
              data-page-title="Rixhi7"
              data-scope-id="MDQ6VXNlcjc2Mjc2NTY0"
              data-scope-type="owner"
              data-targets="command-palette-page-stack.defaultPages"
              hidden
            >
            </command-palette-page>
            <command-palette-page
              data-page-title="Car-Performance-Prediction-Project"
              data-scope-id="R_kgDOJ1uSrQ"
              data-scope-type="repository"
              data-targets="command-palette-page-stack.defaultPages"
              hidden
            >
            </command-palette-page>
        </div>

        <command-palette-page data-is-root>
        </command-palette-page>
          <command-palette-page
            data-page-title="Rixhi7"
            data-scope-id="MDQ6VXNlcjc2Mjc2NTY0"
            data-scope-type="owner"
          >
          </command-palette-page>
          <command-palette-page
            data-page-title="Car-Performance-Prediction-Project"
            data-scope-id="R_kgDOJ1uSrQ"
            data-scope-type="repository"
          >
          </command-palette-page>
      </command-palette-page-stack>

      <server-defined-provider data-type="search-links" data-targets="command-palette.serverDefinedProviderElements"></server-defined-provider>
      <server-defined-provider data-type="help" data-targets="command-palette.serverDefinedProviderElements">
          <command-palette-help
            data-group="modes_help"
              data-prefix="#"
              data-scope-types="[&quot;&quot;]"
          >
            <span data-target="command-palette-help.titleElement">Search for <strong>issues</strong> and <strong>pull requests</strong></span>
              <span data-target="command-palette-help.hintElement">
                <kbd class="hx_kbd">#</kbd>
              </span>
          </command-palette-help>
          <command-palette-help
            data-group="modes_help"
              data-prefix="#"
              data-scope-types="[&quot;owner&quot;,&quot;repository&quot;]"
          >
            <span data-target="command-palette-help.titleElement">Search for <strong>issues, pull requests, discussions,</strong> and <strong>projects</strong></span>
              <span data-target="command-palette-help.hintElement">
                <kbd class="hx_kbd">#</kbd>
              </span>
          </command-palette-help>
          <command-palette-help
            data-group="modes_help"
              data-prefix="@"
              data-scope-types="[&quot;&quot;]"
          >
            <span data-target="command-palette-help.titleElement">Search for <strong>organizations, repositories,</strong> and <strong>users</strong></span>
              <span data-target="command-palette-help.hintElement">
                <kbd class="hx_kbd">@</kbd>
              </span>
          </command-palette-help>
          <command-palette-help
            data-group="modes_help"
              data-prefix="!"
              data-scope-types="[&quot;owner&quot;,&quot;repository&quot;]"
          >
            <span data-target="command-palette-help.titleElement">Search for <strong>projects</strong></span>
              <span data-target="command-palette-help.hintElement">
                <kbd class="hx_kbd">!</kbd>
              </span>
          </command-palette-help>
          <command-palette-help
            data-group="modes_help"
              data-prefix="/"
              data-scope-types="[&quot;repository&quot;]"
          >
            <span data-target="command-palette-help.titleElement">Search for <strong>files</strong></span>
              <span data-target="command-palette-help.hintElement">
                <kbd class="hx_kbd">/</kbd>
              </span>
          </command-palette-help>
          <command-palette-help
            data-group="modes_help"
              data-prefix="&gt;"
          >
            <span data-target="command-palette-help.titleElement">Activate <strong>command mode</strong></span>
              <span data-target="command-palette-help.hintElement">
                <kbd class="hx_kbd">&gt;</kbd>
              </span>
          </command-palette-help>
          <command-palette-help
            data-group="filters_help"
              data-prefix="# author:@me"
          >
            <span data-target="command-palette-help.titleElement">Search your issues, pull requests, and discussions</span>
              <span data-target="command-palette-help.hintElement">
                <kbd class="hx_kbd"># author:@me</kbd>
              </span>
          </command-palette-help>
          <command-palette-help
            data-group="filters_help"
              data-prefix="# author:@me"
          >
            <span data-target="command-palette-help.titleElement">Search your issues, pull requests, and discussions</span>
              <span data-target="command-palette-help.hintElement">
                <kbd class="hx_kbd"># author:@me</kbd>
              </span>
          </command-palette-help>
          <command-palette-help
            data-group="filters_help"
              data-prefix="# is:pr"
          >
            <span data-target="command-palette-help.titleElement">Filter to pull requests</span>
              <span data-target="command-palette-help.hintElement">
                <kbd class="hx_kbd"># is:pr</kbd>
              </span>
          </command-palette-help>
          <command-palette-help
            data-group="filters_help"
              data-prefix="# is:issue"
          >
            <span data-target="command-palette-help.titleElement">Filter to issues</span>
              <span data-target="command-palette-help.hintElement">
                <kbd class="hx_kbd"># is:issue</kbd>
              </span>
          </command-palette-help>
          <command-palette-help
            data-group="filters_help"
              data-prefix="# is:discussion"
              data-scope-types="[&quot;owner&quot;,&quot;repository&quot;]"
          >
            <span data-target="command-palette-help.titleElement">Filter to discussions</span>
              <span data-target="command-palette-help.hintElement">
                <kbd class="hx_kbd"># is:discussion</kbd>
              </span>
          </command-palette-help>
          <command-palette-help
            data-group="filters_help"
              data-prefix="# is:project"
              data-scope-types="[&quot;owner&quot;,&quot;repository&quot;]"
          >
            <span data-target="command-palette-help.titleElement">Filter to projects</span>
              <span data-target="command-palette-help.hintElement">
                <kbd class="hx_kbd"># is:project</kbd>
              </span>
          </command-palette-help>
          <command-palette-help
            data-group="filters_help"
              data-prefix="# is:open"
          >
            <span data-target="command-palette-help.titleElement">Filter to open issues, pull requests, and discussions</span>
              <span data-target="command-palette-help.hintElement">
                <kbd class="hx_kbd"># is:open</kbd>
              </span>
          </command-palette-help>
      </server-defined-provider>

        <server-defined-provider
          data-type="commands"
          data-fetch-debounce="0"
            data-src="/command_palette/commands"
          data-supported-modes="[]"
            data-supports-commands
          
          data-targets="command-palette.serverDefinedProviderElements"
          ></server-defined-provider>
        <server-defined-provider
          data-type="prefetched"
          data-fetch-debounce="0"
            data-src="/command_palette/jump_to_page_navigation"
          data-supported-modes="[&quot;&quot;]"
            data-supported-scope-types="[&quot;&quot;,&quot;owner&quot;,&quot;repository&quot;]"
          
          data-targets="command-palette.serverDefinedProviderElements"
          ></server-defined-provider>
        <server-defined-provider
          data-type="remote"
          data-fetch-debounce="200"
            data-src="/command_palette/issues"
          data-supported-modes="[&quot;#&quot;,&quot;#&quot;]"
            data-supported-scope-types="[&quot;owner&quot;,&quot;repository&quot;,&quot;&quot;]"
          
          data-targets="command-palette.serverDefinedProviderElements"
          ></server-defined-provider>
        <server-defined-provider
          data-type="remote"
          data-fetch-debounce="200"
            data-src="/command_palette/jump_to"
          data-supported-modes="[&quot;@&quot;,&quot;@&quot;]"
            data-supported-scope-types="[&quot;&quot;,&quot;owner&quot;]"
          
          data-targets="command-palette.serverDefinedProviderElements"
          ></server-defined-provider>
        <server-defined-provider
          data-type="remote"
          data-fetch-debounce="200"
            data-src="/command_palette/jump_to_members_only"
          data-supported-modes="[&quot;@&quot;,&quot;@&quot;,&quot;&quot;,&quot;&quot;]"
            data-supported-scope-types="[&quot;&quot;,&quot;owner&quot;]"
          
          data-targets="command-palette.serverDefinedProviderElements"
          ></server-defined-provider>
        <server-defined-provider
          data-type="prefetched"
          data-fetch-debounce="0"
            data-src="/command_palette/jump_to_members_only_prefetched"
          data-supported-modes="[&quot;@&quot;,&quot;@&quot;,&quot;&quot;,&quot;&quot;]"
            data-supported-scope-types="[&quot;&quot;,&quot;owner&quot;]"
          
          data-targets="command-palette.serverDefinedProviderElements"
          ></server-defined-provider>
        <server-defined-provider
          data-type="files"
          data-fetch-debounce="0"
            data-src="/command_palette/files"
          data-supported-modes="[&quot;/&quot;]"
            data-supported-scope-types="[&quot;repository&quot;]"
          
          data-targets="command-palette.serverDefinedProviderElements"
          ></server-defined-provider>
        <server-defined-provider
          data-type="remote"
          data-fetch-debounce="200"
            data-src="/command_palette/discussions"
          data-supported-modes="[&quot;#&quot;]"
            data-supported-scope-types="[&quot;owner&quot;,&quot;repository&quot;]"
          
          data-targets="command-palette.serverDefinedProviderElements"
          ></server-defined-provider>
        <server-defined-provider
          data-type="remote"
          data-fetch-debounce="200"
            data-src="/command_palette/projects"
          data-supported-modes="[&quot;#&quot;,&quot;!&quot;]"
            data-supported-scope-types="[&quot;owner&quot;,&quot;repository&quot;]"
          
          data-targets="command-palette.serverDefinedProviderElements"
          ></server-defined-provider>
        <server-defined-provider
          data-type="prefetched"
          data-fetch-debounce="0"
            data-src="/command_palette/recent_issues"
          data-supported-modes="[&quot;#&quot;,&quot;#&quot;]"
            data-supported-scope-types="[&quot;owner&quot;,&quot;repository&quot;,&quot;&quot;]"
          
          data-targets="command-palette.serverDefinedProviderElements"
          ></server-defined-provider>
        <server-defined-provider
          data-type="remote"
          data-fetch-debounce="200"
            data-src="/command_palette/teams"
          data-supported-modes="[&quot;@&quot;,&quot;&quot;]"
            data-supported-scope-types="[&quot;owner&quot;]"
          
          data-targets="command-palette.serverDefinedProviderElements"
          ></server-defined-provider>
        <server-defined-provider
          data-type="remote"
          data-fetch-debounce="200"
            data-src="/command_palette/name_with_owner_repository"
          data-supported-modes="[&quot;@&quot;,&quot;@&quot;,&quot;&quot;,&quot;&quot;]"
            data-supported-scope-types="[&quot;&quot;,&quot;owner&quot;]"
          
          data-targets="command-palette.serverDefinedProviderElements"
          ></server-defined-provider>
    </command-palette>
  </details-dialog>
</details>

<div class="position-fixed bottom-0 left-0 ml-5 mb-5 js-command-palette-toasts" style="z-index: 1000">
  <div hidden class="Toast Toast--loading">
    <span class="Toast-icon">
      <svg class="Toast--spinner" viewBox="0 0 32 32" width="18" height="18" aria-hidden="true">
        <path
          fill="#959da5"
          d="M16 0 A16 16 0 0 0 16 32 A16 16 0 0 0 16 0 M16 4 A12 12 0 0 1 16 28 A12 12 0 0 1 16 4"
        />
        <path fill="#ffffff" d="M16 0 A16 16 0 0 1 32 16 L28 16 A12 12 0 0 0 16 4z"></path>
      </svg>
    </span>
    <span class="Toast-content"></span>
  </div>

  <div hidden class="anim-fade-in fast Toast Toast--error">
    <span class="Toast-icon">
      <svg aria-hidden="true" height="16" viewBox="0 0 16 16" version="1.1" width="16" data-view-component="true" class="octicon octicon-stop">
    <path d="M4.47.22A.749.749 0 0 1 5 0h6c.199 0 .389.079.53.22l4.25 4.25c.141.14.22.331.22.53v6a.749.749 0 0 1-.22.53l-4.25 4.25A.749.749 0 0 1 11 16H5a.749.749 0 0 1-.53-.22L.22 11.53A.749.749 0 0 1 0 11V5c0-.199.079-.389.22-.53Zm.84 1.28L1.5 5.31v5.38l3.81 3.81h5.38l3.81-3.81V5.31L10.69 1.5ZM8 4a.75.75 0 0 1 .75.75v3.5a.75.75 0 0 1-1.5 0v-3.5A.75.75 0 0 1 8 4Zm0 8a1 1 0 1 1 0-2 1 1 0 0 1 0 2Z"></path>
</svg>
    </span>
    <span class="Toast-content"></span>
  </div>

  <div hidden class="anim-fade-in fast Toast Toast--warning">
    <span class="Toast-icon">
      <svg aria-hidden="true" height="16" viewBox="0 0 16 16" version="1.1" width="16" data-view-component="true" class="octicon octicon-alert">
    <path d="M6.457 1.047c.659-1.234 2.427-1.234 3.086 0l6.082 11.378A1.75 1.75 0 0 1 14.082 15H1.918a1.75 1.75 0 0 1-1.543-2.575Zm1.763.707a.25.25 0 0 0-.44 0L1.698 13.132a.25.25 0 0 0 .22.368h12.164a.25.25 0 0 0 .22-.368Zm.53 3.996v2.5a.75.75 0 0 1-1.5 0v-2.5a.75.75 0 0 1 1.5 0ZM9 11a1 1 0 1 1-2 0 1 1 0 0 1 2 0Z"></path>
</svg>
    </span>
    <span class="Toast-content"></span>
  </div>


  <div hidden class="anim-fade-in fast Toast Toast--success">
    <span class="Toast-icon">
      <svg aria-hidden="true" height="16" viewBox="0 0 16 16" version="1.1" width="16" data-view-component="true" class="octicon octicon-check">
    <path d="M13.78 4.22a.75.75 0 0 1 0 1.06l-7.25 7.25a.75.75 0 0 1-1.06 0L2.22 9.28a.751.751 0 0 1 .018-1.042.751.751 0 0 1 1.042-.018L6 10.94l6.72-6.72a.75.75 0 0 1 1.06 0Z"></path>
</svg>
    </span>
    <span class="Toast-content"></span>
  </div>

  <div hidden class="anim-fade-in fast Toast">
    <span class="Toast-icon">
      <svg aria-hidden="true" height="16" viewBox="0 0 16 16" version="1.1" width="16" data-view-component="true" class="octicon octicon-info">
    <path d="M0 8a8 8 0 1 1 16 0A8 8 0 0 1 0 8Zm8-6.5a6.5 6.5 0 1 0 0 13 6.5 6.5 0 0 0 0-13ZM6.5 7.75A.75.75 0 0 1 7.25 7h1a.75.75 0 0 1 .75.75v2.75h.25a.75.75 0 0 1 0 1.5h-2a.75.75 0 0 1 0-1.5h.25v-2h-.25a.75.75 0 0 1-.75-.75ZM8 6a1 1 0 1 1 0-2 1 1 0 0 1 0 2Z"></path>
</svg>
    </span>
    <span class="Toast-content"></span>
  </div>
</div>


  <div
    class="application-main "
    data-commit-hovercards-enabled
    data-discussion-hovercards-enabled
    data-issue-and-pr-hovercards-enabled
  >
        <div itemscope itemtype="http://schema.org/SoftwareSourceCode" class="">
    <main id="js-repo-pjax-container" >
      
      






    
  <div id="repository-container-header" data-turbo-replace hidden></div>




<turbo-frame id="repo-content-turbo-frame" target="_top" data-turbo-action="advance" class="">
    <div id="repo-content-pjax-container" class="repository-content " >
      <a href="https://github.dev/" class="d-none js-github-dev-shortcut" data-hotkey=".">Open in github.dev</a>
  <a href="https://github.dev/" class="d-none js-github-dev-new-tab-shortcut" data-hotkey="Shift+.,Shift+&gt;,&gt;" target="_blank">Open in a new github.dev tab</a>
    <a class="d-none" data-hotkey="," target="_blank" href="/codespaces/new/Rixhi7/Car-Performance-Prediction-Project/tree/main?resume=1">Open in codespace</a>



    
      
    





<react-app
  app-name="react-code-view"
  initial-path="/Rixhi7/Car-Performance-Prediction-Project/blob/main/Assignments/ADS_Assignment_2_20BBS0215.ipynb"
  style="min-height: calc(100vh - 62px)"
  data-ssr="false"
  data-lazy="false"
  data-alternate="false"
>
  
  <script type="application/json" data-target="react-app.embeddedData">{"payload":{"allShortcutsEnabled":true,"fileTree":{"Assignments":{"items":[{"name":"ADS_Assignment_1_20BBS0212.ipynb","path":"Assignments/ADS_Assignment_1_20BBS0212.ipynb","contentType":"file"},{"name":"ADS_Assignment_1_20BBS0215.ipynb","path":"Assignments/ADS_Assignment_1_20BBS0215.ipynb","contentType":"file"},{"name":"ADS_Assignment_1_20BCE0462.ipynb","path":"Assignments/ADS_Assignment_1_20BCE0462.ipynb","contentType":"file"},{"name":"ADS_Assignment_1_20BCE2763.ipynb","path":"Assignments/ADS_Assignment_1_20BCE2763.ipynb","contentType":"file"},{"name":"ADS_Assignment_2_20BBS0212.ipynb","path":"Assignments/ADS_Assignment_2_20BBS0212.ipynb","contentType":"file"},{"name":"ADS_Assignment_2_20BBS0215.ipynb","path":"Assignments/ADS_Assignment_2_20BBS0215.ipynb","contentType":"file"},{"name":"ADS_Assignment_2_20BCE0462.ipynb","path":"Assignments/ADS_Assignment_2_20BCE0462.ipynb","contentType":"file"},{"name":"ADS_Assignment_2_20BCE2763.ipynb","path":"Assignments/ADS_Assignment_2_20BCE2763.ipynb","contentType":"file"},{"name":"ADS_Assignment_3_20BBS0212.ipynb","path":"Assignments/ADS_Assignment_3_20BBS0212.ipynb","contentType":"file"},{"name":"ADS_Assignment_3_20BBS0215.ipynb","path":"Assignments/ADS_Assignment_3_20BBS0215.ipynb","contentType":"file"},{"name":"ADS_Assignment_3_20BCE0462.ipynb","path":"Assignments/ADS_Assignment_3_20BCE0462.ipynb","contentType":"file"},{"name":"ADS_Assignment_3_20BCE2763.ipynb","path":"Assignments/ADS_Assignment_3_20BCE2763.ipynb","contentType":"file"}],"totalCount":12},"":{"items":[{"name":"Assignments","path":"Assignments","contentType":"directory"},{"name":"Car_Performance_Prediction.ipynb","path":"Car_Performance_Prediction.ipynb","contentType":"file"},{"name":"PROJECT_REPORT.pdf","path":"PROJECT_REPORT.pdf","contentType":"file"},{"name":"Project_Demo_Video.pdf","path":"Project_Demo_Video.pdf","contentType":"file"},{"name":"README.md","path":"README.md","contentType":"file"},{"name":"app.py","path":"app.py","contentType":"file"},{"name":"finalweb.html","path":"finalweb.html","contentType":"file"},{"name":"model.pkl","path":"model.pkl","contentType":"file"}],"totalCount":8}},"fileTreeProcessingTime":4.79877,"foldersToFetch":[],"reducedMotionEnabled":"system","repo":{"id":660312749,"defaultBranch":"main","name":"Car-Performance-Prediction-Project","ownerLogin":"Rixhi7","currentUserCanPush":false,"isFork":false,"isEmpty":false,"createdAt":"2023-06-29T23:46:21.000+05:30","ownerAvatar":"https://avatars.githubusercontent.com/u/76276564?v=4","public":true,"private":false,"isOrgOwned":false},"refInfo":{"name":"main","listCacheKey":"v0:1688067265.0","canEdit":true,"refType":"branch","currentOid":"baf81fb0f965e3116d936eded7fe104fc1636d3c"},"path":"Assignments/ADS_Assignment_2_20BBS0215.ipynb","currentUser":{"id":108523725,"login":"25-Shikhar-K","userEmail":"shikhar.kumar2020@vitstudent.ac.in"},"blob":{"rawBlob":"{\n \"cells\": [\n  {\n   \"cell_type\": \"markdown\",\n   \"id\": \"ee9093a0\",\n   \"metadata\": {},\n   \"source\": [\n    \"# Assignment-2\\n\",\n    \"# Shikhar Kumar\\n\",\n    \"# 20BBS0215\"\n   ]\n  },\n  {\n   \"cell_type\": \"code\",\n   \"execution_count\": null,\n   \"id\": \"73fd6a3a\",\n   \"metadata\": {},\n   \"outputs\": [],\n   \"source\": []\n  },\n  {\n   \"cell_type\": \"markdown\",\n   \"id\": \"84b56626\",\n   \"metadata\": {},\n   \"source\": [\n    \"# Importing libraries\"\n   ]\n  },\n  {\n   \"cell_type\": \"code\",\n   \"execution_count\": 1,\n   \"id\": \"b196ae3f\",\n   \"metadata\": {},\n   \"outputs\": [],\n   \"source\": [\n    \"import pandas as pd\\n\",\n    \"import numpy as np\\n\",\n    \"import seaborn as sns\\n\",\n    \"import matplotlib.pyplot as plt\\n\"\n   ]\n  },\n  {\n   \"cell_type\": \"markdown\",\n   \"id\": \"91416916\",\n   \"metadata\": {},\n   \"source\": [\n    \"# Load dataset\"\n   ]\n  },\n  {\n   \"cell_type\": \"code\",\n   \"execution_count\": 2,\n   \"id\": \"2ab3b6df\",\n   \"metadata\": {},\n   \"outputs\": [],\n   \"source\": [\n    \"data = pd.read_csv(\\\"titanic.csv\\\")\"\n   ]\n  },\n  {\n   \"cell_type\": \"code\",\n   \"execution_count\": 3,\n   \"id\": \"82a52e54\",\n   \"metadata\": {},\n   \"outputs\": [\n    {\n     \"data\": {\n      \"text/html\": [\n       \"\u003cdiv\u003e\\n\",\n       \"\u003cstyle scoped\u003e\\n\",\n       \"    .dataframe tbody tr th:only-of-type {\\n\",\n       \"        vertical-align: middle;\\n\",\n       \"    }\\n\",\n       \"\\n\",\n       \"    .dataframe tbody tr th {\\n\",\n       \"        vertical-align: top;\\n\",\n       \"    }\\n\",\n       \"\\n\",\n       \"    .dataframe thead th {\\n\",\n       \"        text-align: right;\\n\",\n       \"    }\\n\",\n       \"\u003c/style\u003e\\n\",\n       \"\u003ctable border=\\\"1\\\" class=\\\"dataframe\\\"\u003e\\n\",\n       \"  \u003cthead\u003e\\n\",\n       \"    \u003ctr style=\\\"text-align: right;\\\"\u003e\\n\",\n       \"      \u003cth\u003e\u003c/th\u003e\\n\",\n       \"      \u003cth\u003esurvived\u003c/th\u003e\\n\",\n       \"      \u003cth\u003epclass\u003c/th\u003e\\n\",\n       \"      \u003cth\u003esex\u003c/th\u003e\\n\",\n       \"      \u003cth\u003eage\u003c/th\u003e\\n\",\n       \"      \u003cth\u003esibsp\u003c/th\u003e\\n\",\n       \"      \u003cth\u003eparch\u003c/th\u003e\\n\",\n       \"      \u003cth\u003efare\u003c/th\u003e\\n\",\n       \"      \u003cth\u003eembarked\u003c/th\u003e\\n\",\n       \"      \u003cth\u003eclass\u003c/th\u003e\\n\",\n       \"      \u003cth\u003ewho\u003c/th\u003e\\n\",\n       \"      \u003cth\u003eadult_male\u003c/th\u003e\\n\",\n       \"      \u003cth\u003edeck\u003c/th\u003e\\n\",\n       \"      \u003cth\u003eembark_town\u003c/th\u003e\\n\",\n       \"      \u003cth\u003ealive\u003c/th\u003e\\n\",\n       \"      \u003cth\u003ealone\u003c/th\u003e\\n\",\n       \"    \u003c/tr\u003e\\n\",\n       \"  \u003c/thead\u003e\\n\",\n       \"  \u003ctbody\u003e\\n\",\n       \"    \u003ctr\u003e\\n\",\n       \"      \u003cth\u003e0\u003c/th\u003e\\n\",\n       \"      \u003ctd\u003e0\u003c/td\u003e\\n\",\n       \"      \u003ctd\u003e3\u003c/td\u003e\\n\",\n       \"      \u003ctd\u003emale\u003c/td\u003e\\n\",\n       \"      \u003ctd\u003e22.0\u003c/td\u003e\\n\",\n       \"      \u003ctd\u003e1\u003c/td\u003e\\n\",\n       \"      \u003ctd\u003e0\u003c/td\u003e\\n\",\n       \"      \u003ctd\u003e7.2500\u003c/td\u003e\\n\",\n       \"      \u003ctd\u003eS\u003c/td\u003e\\n\",\n       \"      \u003ctd\u003eThird\u003c/td\u003e\\n\",\n       \"      \u003ctd\u003eman\u003c/td\u003e\\n\",\n       \"      \u003ctd\u003eTrue\u003c/td\u003e\\n\",\n       \"      \u003ctd\u003eNaN\u003c/td\u003e\\n\",\n       \"      \u003ctd\u003eSouthampton\u003c/td\u003e\\n\",\n       \"      \u003ctd\u003eno\u003c/td\u003e\\n\",\n       \"      \u003ctd\u003eFalse\u003c/td\u003e\\n\",\n       \"    \u003c/tr\u003e\\n\",\n       \"    \u003ctr\u003e\\n\",\n       \"      \u003cth\u003e1\u003c/th\u003e\\n\",\n       \"      \u003ctd\u003e1\u003c/td\u003e\\n\",\n       \"      \u003ctd\u003e1\u003c/td\u003e\\n\",\n       \"      \u003ctd\u003efemale\u003c/td\u003e\\n\",\n       \"      \u003ctd\u003e38.0\u003c/td\u003e\\n\",\n       \"      \u003ctd\u003e1\u003c/td\u003e\\n\",\n       \"      \u003ctd\u003e0\u003c/td\u003e\\n\",\n       \"      \u003ctd\u003e71.2833\u003c/td\u003e\\n\",\n       \"      \u003ctd\u003eC\u003c/td\u003e\\n\",\n       \"      \u003ctd\u003eFirst\u003c/td\u003e\\n\",\n       \"      \u003ctd\u003ewoman\u003c/td\u003e\\n\",\n       \"      \u003ctd\u003eFalse\u003c/td\u003e\\n\",\n       \"      \u003ctd\u003eC\u003c/td\u003e\\n\",\n       \"      \u003ctd\u003eCherbourg\u003c/td\u003e\\n\",\n       \"      \u003ctd\u003eyes\u003c/td\u003e\\n\",\n       \"      \u003ctd\u003eFalse\u003c/td\u003e\\n\",\n       \"    \u003c/tr\u003e\\n\",\n       \"    \u003ctr\u003e\\n\",\n       \"      \u003cth\u003e2\u003c/th\u003e\\n\",\n       \"      \u003ctd\u003e1\u003c/td\u003e\\n\",\n       \"      \u003ctd\u003e3\u003c/td\u003e\\n\",\n       \"      \u003ctd\u003efemale\u003c/td\u003e\\n\",\n       \"      \u003ctd\u003e26.0\u003c/td\u003e\\n\",\n       \"      \u003ctd\u003e0\u003c/td\u003e\\n\",\n       \"      \u003ctd\u003e0\u003c/td\u003e\\n\",\n       \"      \u003ctd\u003e7.9250\u003c/td\u003e\\n\",\n       \"      \u003ctd\u003eS\u003c/td\u003e\\n\",\n       \"      \u003ctd\u003eThird\u003c/td\u003e\\n\",\n       \"      \u003ctd\u003ewoman\u003c/td\u003e\\n\",\n       \"      \u003ctd\u003eFalse\u003c/td\u003e\\n\",\n       \"      \u003ctd\u003eNaN\u003c/td\u003e\\n\",\n       \"      \u003ctd\u003eSouthampton\u003c/td\u003e\\n\",\n       \"      \u003ctd\u003eyes\u003c/td\u003e\\n\",\n       \"      \u003ctd\u003eTrue\u003c/td\u003e\\n\",\n       \"    \u003c/tr\u003e\\n\",\n       \"    \u003ctr\u003e\\n\",\n       \"      \u003cth\u003e3\u003c/th\u003e\\n\",\n       \"      \u003ctd\u003e1\u003c/td\u003e\\n\",\n       \"      \u003ctd\u003e1\u003c/td\u003e\\n\",\n       \"      \u003ctd\u003efemale\u003c/td\u003e\\n\",\n       \"      \u003ctd\u003e35.0\u003c/td\u003e\\n\",\n       \"      \u003ctd\u003e1\u003c/td\u003e\\n\",\n       \"      \u003ctd\u003e0\u003c/td\u003e\\n\",\n       \"      \u003ctd\u003e53.1000\u003c/td\u003e\\n\",\n       \"      \u003ctd\u003eS\u003c/td\u003e\\n\",\n       \"      \u003ctd\u003eFirst\u003c/td\u003e\\n\",\n       \"      \u003ctd\u003ewoman\u003c/td\u003e\\n\",\n       \"      \u003ctd\u003eFalse\u003c/td\u003e\\n\",\n       \"      \u003ctd\u003eC\u003c/td\u003e\\n\",\n       \"      \u003ctd\u003eSouthampton\u003c/td\u003e\\n\",\n       \"      \u003ctd\u003eyes\u003c/td\u003e\\n\",\n       \"      \u003ctd\u003eFalse\u003c/td\u003e\\n\",\n       \"    \u003c/tr\u003e\\n\",\n       \"    \u003ctr\u003e\\n\",\n       \"      \u003cth\u003e4\u003c/th\u003e\\n\",\n       \"      \u003ctd\u003e0\u003c/td\u003e\\n\",\n       \"      \u003ctd\u003e3\u003c/td\u003e\\n\",\n       \"      \u003ctd\u003emale\u003c/td\u003e\\n\",\n       \"      \u003ctd\u003e35.0\u003c/td\u003e\\n\",\n       \"      \u003ctd\u003e0\u003c/td\u003e\\n\",\n       \"      \u003ctd\u003e0\u003c/td\u003e\\n\",\n       \"      \u003ctd\u003e8.0500\u003c/td\u003e\\n\",\n       \"      \u003ctd\u003eS\u003c/td\u003e\\n\",\n       \"      \u003ctd\u003eThird\u003c/td\u003e\\n\",\n       \"      \u003ctd\u003eman\u003c/td\u003e\\n\",\n       \"      \u003ctd\u003eTrue\u003c/td\u003e\\n\",\n       \"      \u003ctd\u003eNaN\u003c/td\u003e\\n\",\n       \"      \u003ctd\u003eSouthampton\u003c/td\u003e\\n\",\n       \"      \u003ctd\u003eno\u003c/td\u003e\\n\",\n       \"      \u003ctd\u003eTrue\u003c/td\u003e\\n\",\n       \"    \u003c/tr\u003e\\n\",\n       \"  \u003c/tbody\u003e\\n\",\n       \"\u003c/table\u003e\\n\",\n       \"\u003c/div\u003e\"\n      ],\n      \"text/plain\": [\n       \"   survived  pclass     sex   age  sibsp  parch     fare embarked  class  \\\\\\n\",\n       \"0         0       3    male  22.0      1      0   7.2500        S  Third   \\n\",\n       \"1         1       1  female  38.0      1      0  71.2833        C  First   \\n\",\n       \"2         1       3  female  26.0      0      0   7.9250        S  Third   \\n\",\n       \"3         1       1  female  35.0      1      0  53.1000        S  First   \\n\",\n       \"4         0       3    male  35.0      0      0   8.0500        S  Third   \\n\",\n       \"\\n\",\n       \"     who  adult_male deck  embark_town alive  alone  \\n\",\n       \"0    man        True  NaN  Southampton    no  False  \\n\",\n       \"1  woman       False    C    Cherbourg   yes  False  \\n\",\n       \"2  woman       False  NaN  Southampton   yes   True  \\n\",\n       \"3  woman       False    C  Southampton   yes  False  \\n\",\n       \"4    man        True  NaN  Southampton    no   True  \"\n      ]\n     },\n     \"execution_count\": 3,\n     \"metadata\": {},\n     \"output_type\": \"execute_result\"\n    }\n   ],\n   \"source\": [\n    \"data.head()\"\n   ]\n  },\n  {\n   \"cell_type\": \"code\",\n   \"execution_count\": 4,\n   \"id\": \"f6991de1\",\n   \"metadata\": {},\n   \"outputs\": [\n    {\n     \"data\": {\n      \"text/html\": [\n       \"\u003cdiv\u003e\\n\",\n       \"\u003cstyle scoped\u003e\\n\",\n       \"    .dataframe tbody tr th:only-of-type {\\n\",\n       \"        vertical-align: middle;\\n\",\n       \"    }\\n\",\n       \"\\n\",\n       \"    .dataframe tbody tr th {\\n\",\n       \"        vertical-align: top;\\n\",\n       \"    }\\n\",\n       \"\\n\",\n       \"    .dataframe thead th {\\n\",\n       \"        text-align: right;\\n\",\n       \"    }\\n\",\n       \"\u003c/style\u003e\\n\",\n       \"\u003ctable border=\\\"1\\\" class=\\\"dataframe\\\"\u003e\\n\",\n       \"  \u003cthead\u003e\\n\",\n       \"    \u003ctr style=\\\"text-align: right;\\\"\u003e\\n\",\n       \"      \u003cth\u003e\u003c/th\u003e\\n\",\n       \"      \u003cth\u003esurvived\u003c/th\u003e\\n\",\n       \"      \u003cth\u003epclass\u003c/th\u003e\\n\",\n       \"      \u003cth\u003eage\u003c/th\u003e\\n\",\n       \"      \u003cth\u003esibsp\u003c/th\u003e\\n\",\n       \"      \u003cth\u003eparch\u003c/th\u003e\\n\",\n       \"      \u003cth\u003efare\u003c/th\u003e\\n\",\n       \"    \u003c/tr\u003e\\n\",\n       \"  \u003c/thead\u003e\\n\",\n       \"  \u003ctbody\u003e\\n\",\n       \"    \u003ctr\u003e\\n\",\n       \"      \u003cth\u003ecount\u003c/th\u003e\\n\",\n       \"      \u003ctd\u003e891.000000\u003c/td\u003e\\n\",\n       \"      \u003ctd\u003e891.000000\u003c/td\u003e\\n\",\n       \"      \u003ctd\u003e714.000000\u003c/td\u003e\\n\",\n       \"      \u003ctd\u003e891.000000\u003c/td\u003e\\n\",\n       \"      \u003ctd\u003e891.000000\u003c/td\u003e\\n\",\n       \"      \u003ctd\u003e891.000000\u003c/td\u003e\\n\",\n       \"    \u003c/tr\u003e\\n\",\n       \"    \u003ctr\u003e\\n\",\n       \"      \u003cth\u003emean\u003c/th\u003e\\n\",\n       \"      \u003ctd\u003e0.383838\u003c/td\u003e\\n\",\n       \"      \u003ctd\u003e2.308642\u003c/td\u003e\\n\",\n       \"      \u003ctd\u003e29.699118\u003c/td\u003e\\n\",\n       \"      \u003ctd\u003e0.523008\u003c/td\u003e\\n\",\n       \"      \u003ctd\u003e0.381594\u003c/td\u003e\\n\",\n       \"      \u003ctd\u003e32.204208\u003c/td\u003e\\n\",\n       \"    \u003c/tr\u003e\\n\",\n       \"    \u003ctr\u003e\\n\",\n       \"      \u003cth\u003estd\u003c/th\u003e\\n\",\n       \"      \u003ctd\u003e0.486592\u003c/td\u003e\\n\",\n       \"      \u003ctd\u003e0.836071\u003c/td\u003e\\n\",\n       \"      \u003ctd\u003e14.526497\u003c/td\u003e\\n\",\n       \"      \u003ctd\u003e1.102743\u003c/td\u003e\\n\",\n       \"      \u003ctd\u003e0.806057\u003c/td\u003e\\n\",\n       \"      \u003ctd\u003e49.693429\u003c/td\u003e\\n\",\n       \"    \u003c/tr\u003e\\n\",\n       \"    \u003ctr\u003e\\n\",\n       \"      \u003cth\u003emin\u003c/th\u003e\\n\",\n       \"      \u003ctd\u003e0.000000\u003c/td\u003e\\n\",\n       \"      \u003ctd\u003e1.000000\u003c/td\u003e\\n\",\n       \"      \u003ctd\u003e0.420000\u003c/td\u003e\\n\",\n       \"      \u003ctd\u003e0.000000\u003c/td\u003e\\n\",\n       \"      \u003ctd\u003e0.000000\u003c/td\u003e\\n\",\n       \"      \u003ctd\u003e0.000000\u003c/td\u003e\\n\",\n       \"    \u003c/tr\u003e\\n\",\n       \"    \u003ctr\u003e\\n\",\n       \"      \u003cth\u003e25%\u003c/th\u003e\\n\",\n       \"      \u003ctd\u003e0.000000\u003c/td\u003e\\n\",\n       \"      \u003ctd\u003e2.000000\u003c/td\u003e\\n\",\n       \"      \u003ctd\u003e20.125000\u003c/td\u003e\\n\",\n       \"      \u003ctd\u003e0.000000\u003c/td\u003e\\n\",\n       \"      \u003ctd\u003e0.000000\u003c/td\u003e\\n\",\n       \"      \u003ctd\u003e7.910400\u003c/td\u003e\\n\",\n       \"    \u003c/tr\u003e\\n\",\n       \"    \u003ctr\u003e\\n\",\n       \"      \u003cth\u003e50%\u003c/th\u003e\\n\",\n       \"      \u003ctd\u003e0.000000\u003c/td\u003e\\n\",\n       \"      \u003ctd\u003e3.000000\u003c/td\u003e\\n\",\n       \"      \u003ctd\u003e28.000000\u003c/td\u003e\\n\",\n       \"      \u003ctd\u003e0.000000\u003c/td\u003e\\n\",\n       \"      \u003ctd\u003e0.000000\u003c/td\u003e\\n\",\n       \"      \u003ctd\u003e14.454200\u003c/td\u003e\\n\",\n       \"    \u003c/tr\u003e\\n\",\n       \"    \u003ctr\u003e\\n\",\n       \"      \u003cth\u003e75%\u003c/th\u003e\\n\",\n       \"      \u003ctd\u003e1.000000\u003c/td\u003e\\n\",\n       \"      \u003ctd\u003e3.000000\u003c/td\u003e\\n\",\n       \"      \u003ctd\u003e38.000000\u003c/td\u003e\\n\",\n       \"      \u003ctd\u003e1.000000\u003c/td\u003e\\n\",\n       \"      \u003ctd\u003e0.000000\u003c/td\u003e\\n\",\n       \"      \u003ctd\u003e31.000000\u003c/td\u003e\\n\",\n       \"    \u003c/tr\u003e\\n\",\n       \"    \u003ctr\u003e\\n\",\n       \"      \u003cth\u003emax\u003c/th\u003e\\n\",\n       \"      \u003ctd\u003e1.000000\u003c/td\u003e\\n\",\n       \"      \u003ctd\u003e3.000000\u003c/td\u003e\\n\",\n       \"      \u003ctd\u003e80.000000\u003c/td\u003e\\n\",\n       \"      \u003ctd\u003e8.000000\u003c/td\u003e\\n\",\n       \"      \u003ctd\u003e6.000000\u003c/td\u003e\\n\",\n       \"      \u003ctd\u003e512.329200\u003c/td\u003e\\n\",\n       \"    \u003c/tr\u003e\\n\",\n       \"  \u003c/tbody\u003e\\n\",\n       \"\u003c/table\u003e\\n\",\n       \"\u003c/div\u003e\"\n      ],\n      \"text/plain\": [\n       \"         survived      pclass         age       sibsp       parch        fare\\n\",\n       \"count  891.000000  891.000000  714.000000  891.000000  891.000000  891.000000\\n\",\n       \"mean     0.383838    2.308642   29.699118    0.523008    0.381594   32.204208\\n\",\n       \"std      0.486592    0.836071   14.526497    1.102743    0.806057   49.693429\\n\",\n       \"min      0.000000    1.000000    0.420000    0.000000    0.000000    0.000000\\n\",\n       \"25%      0.000000    2.000000   20.125000    0.000000    0.000000    7.910400\\n\",\n       \"50%      0.000000    3.000000   28.000000    0.000000    0.000000   14.454200\\n\",\n       \"75%      1.000000    3.000000   38.000000    1.000000    0.000000   31.000000\\n\",\n       \"max      1.000000    3.000000   80.000000    8.000000    6.000000  512.329200\"\n      ]\n     },\n     \"execution_count\": 4,\n     \"metadata\": {},\n     \"output_type\": \"execute_result\"\n    }\n   ],\n   \"source\": [\n    \"data.describe()\"\n   ]\n  },\n  {\n   \"cell_type\": \"markdown\",\n   \"id\": \"db540ec3\",\n   \"metadata\": {},\n   \"source\": [\n    \"# Perform Visualizations\"\n   ]\n  },\n  {\n   \"cell_type\": \"markdown\",\n   \"id\": \"1ff10f42\",\n   \"metadata\": {},\n   \"source\": [\n    \"## Univariate Analysis\\n\"\n   ]\n  },\n  {\n   \"cell_type\": \"code\",\n   \"execution_count\": 5,\n   \"id\": \"34620f1c\",\n   \"metadata\": {},\n   \"outputs\": [\n    {\n     \"data\": {\n      \"text/plain\": [\n       \"\u003cAxesSubplot:xlabel='sex', ylabel='Count'\u003e\"\n      ]\n     },\n     \"execution_count\": 5,\n     \"metadata\": {},\n     \"output_type\": \"execute_result\"\n    },\n    {\n     \"data\": {\n      \"image/png\": \"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\\n\",\n      \"text/plain\": [\n       \"\u003cFigure size 432x288 with 1 Axes\u003e\"\n      ]\n     },\n     \"metadata\": {\n      \"needs_background\": \"light\"\n     },\n     \"output_type\": \"display_data\"\n    }\n   ],\n   \"source\": [\n    \"sns.histplot(data.sex)\"\n   ]\n  },\n  {\n   \"cell_type\": \"code\",\n   \"execution_count\": 6,\n   \"id\": \"bc8f6208\",\n   \"metadata\": {},\n   \"outputs\": [\n    {\n     \"data\": {\n      \"text/plain\": [\n       \"Text(0, 0.5, 'Count')\"\n      ]\n     },\n     \"execution_count\": 6,\n     \"metadata\": {},\n     \"output_type\": \"execute_result\"\n    },\n    {\n     \"data\": {\n      \"image/png\": \"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\\n\",\n      \"text/plain\": [\n       \"\u003cFigure size 576x432 with 1 Axes\u003e\"\n      ]\n     },\n     \"metadata\": {\n      \"needs_background\": \"light\"\n     },\n     \"output_type\": \"display_data\"\n    }\n   ],\n   \"source\": [\n    \"plt.figure(figsize=(8,6))\\n\",\n    \"\\n\",\n    \"sns.histplot(data[\\\"age\\\"].dropna(),bins=20,kde= True)\\n\",\n    \"\\n\",\n    \"plt.title(\\\"Histogram of Age\\\")\\n\",\n    \"plt.xlabel(\\\"Age\\\")\\n\",\n    \"plt.ylabel(\\\"Count\\\")\"\n   ]\n  },\n  {\n   \"cell_type\": \"code\",\n   \"execution_count\": 7,\n   \"id\": \"9242c322\",\n   \"metadata\": {},\n   \"outputs\": [\n    {\n     \"name\": \"stderr\",\n     \"output_type\": \"stream\",\n     \"text\": [\n      \"E:\\\\VIT\\\\Softwares\\\\Anaconda\\\\lib\\\\site-packages\\\\seaborn\\\\_decorators.py:36: FutureWarning: Pass the following variable as a keyword arg: x. From version 0.12, the only valid positional argument will be `data`, and passing other arguments without an explicit keyword will result in an error or misinterpretation.\\n\",\n      \"  warnings.warn(\\n\"\n     ]\n    },\n    {\n     \"data\": {\n      \"text/plain\": [\n       \"Text(0, 0.5, 'Count')\"\n      ]\n     },\n     \"execution_count\": 7,\n     \"metadata\": {},\n     \"output_type\": \"execute_result\"\n    },\n    {\n     \"data\": {\n      \"image/png\": \"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\\n\",\n      \"text/plain\": [\n       \"\u003cFigure size 432x432 with 1 Axes\u003e\"\n      ]\n     },\n     \"metadata\": {\n      \"needs_background\": \"light\"\n     },\n     \"output_type\": \"display_data\"\n    }\n   ],\n   \"source\": [\n    \"plt.figure(figsize=(6, 6))\\n\",\n    \"\\n\",\n    \"\\n\",\n    \"sns.countplot(data['survived'])\\n\",\n    \"\\n\",\n    \"plt.title(\\\"Survival Count\\\")\\n\",\n    \"plt.xlabel(\\\"Survived\\\")\\n\",\n    \"plt.ylabel(\\\"Count\\\")\"\n   ]\n  },\n  {\n   \"cell_type\": \"code\",\n   \"execution_count\": null,\n   \"id\": \"1e74786f\",\n   \"metadata\": {},\n   \"outputs\": [],\n   \"source\": []\n  },\n  {\n   \"cell_type\": \"markdown\",\n   \"id\": \"2eee2239\",\n   \"metadata\": {},\n   \"source\": [\n    \"# Bivariate Analysis\"\n   ]\n  },\n  {\n   \"cell_type\": \"code\",\n   \"execution_count\": 8,\n   \"id\": \"6f34a926\",\n   \"metadata\": {\n    \"scrolled\": true\n   },\n   \"outputs\": [\n    {\n     \"name\": \"stderr\",\n     \"output_type\": \"stream\",\n     \"text\": [\n      \"E:\\\\VIT\\\\Softwares\\\\Anaconda\\\\lib\\\\site-packages\\\\seaborn\\\\_decorators.py:36: FutureWarning: Pass the following variable as a keyword arg: x. From version 0.12, the only valid positional argument will be `data`, and passing other arguments without an explicit keyword will result in an error or misinterpretation.\\n\",\n      \"  warnings.warn(\\n\"\n     ]\n    },\n    {\n     \"data\": {\n      \"image/png\": \"iVBORw0KGgoAAAANSUhEUgAAAYUAAAGDCAYAAADEegxVAAAAOXRFWHRTb2Z0d2FyZQBNYXRwbG90bGliIHZlcnNpb24zLjQuMywgaHR0cHM6Ly9tYXRwbG90bGliLm9yZy/MnkTPAAAACXBIWXMAAAsTAAALEwEAmpwYAAAckUlEQVR4nO3df7xVdZ3v8dcHRNERf6DkRbHgFioikSPaiD0qMy6aP2iasTAtfGh5m7ilk2mi2aiJ0+OO15rsWoPpBc1fUKlMmmkmORUjQsoPRRMT9QQpoqLQiICf+8defN3AAQ569tkHzuv5ePDYa33Xd639Wcfjep/vWmuvHZmJJEkA3ZpdgCSp8zAUJEmFoSBJKgwFSVJhKEiSCkNBklQYCtrqRcQPIuLCdtjOxIi4tD1q6mgRsTAiPtrsOrT1MxTUEBHxgYj4XUQsi4gXI+K3EXFoI94rM7+Qmd9sxLbrRUTfiLgmIhZHxKsR8VhEXBwRf9Xg970oIn7UyPdY7/3Oj4inImJ5RLRExC0d9d5qPkNB7S4idgF+BlwJ9Ab2AS4GVr6FbUVENP33NCJ6A9OBHYHDM7MXMALYDXh3E0trVxExBvgM8NHM3BkYBtzb3KrUkZr+P5u2SfsBZOZNmbkmM/8rM+/OzDmw4V++EdE/IjIitqvmp0XE+Ij4LfAX4PyImFn/BhHxjxExtZoup30iYn5EHFfXb7uIeCEi/rqanxIRf65GMPdHxOA27tNXgFeBUzJzYbV/z2bmmXX7NTwiHqy2/WBEDK+rY53TO/U/g7r9HxMRz1T1XlAtOxo4H/hU9Zf77E3UeGhEPBoRL0XE/4uIntU25kXE8XXv3aN6j/e1tg3gF5n5ZLWPf87MCXXr7lo3WvpTRFwaEd0jYvuIeDgivlT1616NDr/Rxp+vOglDQY3wB2BNREyKiGMiYve3sI3PAGcAvaiNOPaPiIF1yz8N3NjKejcBJ9XNjwReyMzfV/M/BwYC7wB+D9zQxno+Cvw0M99obWE1krgD+C6wB3AFcEdE7NHG7QN8ANgfOAr4RkQMysy7gMuAWzJz58wcuon1T6a2v++mFsxfr9qvA06p6/cxYHFmPtzKNv4T+GxEnBMRwyKi+3rLJwGrgfcABwP/A/hcZr5evcclETEIOA/oDoxv266rszAU1O4y8xVqB7gErgaWRMTUiNhrCzYzMTMfyczVmbkMuJ3qYF+FwwHA1FbWuxE4ISJ2qubXCY/MvDYzX83MlcBFwNCI2LUN9ewBLN7E8mOBJzLz+qrmm4DHgOM3sc76Lq5GVbOB2cCmAqA136tGLy9SOxivDccfAR+rTutBLXCvb20Dmfkj4EvUwuXXwPMRcR5A9d/vGOCszFyRmc8D3wZGV+vOAy4FbgW+CnwmM9ds4T6oyQwFNURmzs/MUzOzH3AQsDfwnS3YxLPrzd/Imwe5TwO3ZeZfWnnfBcB84PgqGE6o1l17SuNbEfFkRLwCLKxW27MN9SwF+m5i+d7A0+u1PU3tekpb/blu+i/AzluwLqz7M3u6qonMXAT8Fvi7iNiN2oF9oyOkzLwhMz9K7XrJF6j99T8SeBfQA1gcES9HxMvAv1Ebda01CegP3JmZT2xh/eoEDAU1XGY+BkykFg4AK4Cd6rr8t9ZWW2/+bmDP6jz4SbR+6mittaeQRgGPVkEBtTAZRe1U0K7UDl4A0Ybd+CXwt5u46L2I2kGz3juBP1XTbdnnjWnro4z3Xe+9F9XNT6J2eudEYHpm/onNyMxVmTkFmEPtv92z1G4W2DMzd6v+7ZKZ9ddlrqJ2k8HIiPhAG+tWJ2IoqN1FxAERcXZE9Kvm96V2kP7PqsvDwAcj4p3VqZtxm9tmZq4Gfgz8C7U7mu7ZRPebqZ3r/gfWDY9e1A5qS6kdoC/bgt26AtgFmBQR7wKIiH0i4oqIeC9wJ7BfRHy6urj9KeBAagdIqO3z6Ooi7zDg77fgvZ8D+rfhLqyxEdGvur5xPlB/K+ltwF8DZ1K7xtCqiDg1Io6NiF4R0S0ijgEGAw9k5mJq4fx/ImKXavm7I+JD1bqfAQ4BTgW+TO1ntaWjHTWZoaBGeBV4P/BARKygFgbzgLMBMvMeagesOcAs3jxwbs6N1P7Kn1KFRKuqg9d0YDjrHhivo3Za5U/Ao7wZUptVnacfDqyq9utVardqLgMWZOZS4Dhq+7gUOBc4LjNfqDZxIbULwC9Ruz13UyOd9U2pXpdGxO830e9GagftP1b/ygfxMvO/gJ8AA4CfbmIbr1ALlGeAl4H/DfxDZv6mWv5ZYHtqP7+XqAV134h4J7XTg5/NzOWZeSMwk9o1B21Fwi/ZkbqG6vbQ/TLzlM12Vpe1XbMLkNR41Sml06ndeSRtlKePpG1cRHye2kXin2fm/c2uR52bp48kSYUjBUlSYShIkoqt+kLznnvumf379292GZK0VZk1a9YLmdmntWVbdSj079+fmTNnbr6jJKmIiPUfyVJ4+kiSVBgKkqTCUJAkFVv1NQVJWmvVqlW0tLTw2muvNbuUTqNnz57069ePHj16tHkdQ0HSNqGlpYVevXrRv39/ItryNPRtW2aydOlSWlpaGDBgQJvX8/SRpG3Ca6+9xh577GEgVCKCPfbYY4tHToaCpG2GgbCut/LzMBQkSYWhIEkqDAVJ2kIrVqzg2GOPZejQoRx00EHccsstzJo1iw996EMccsghjBw5ksWLF7Ns2TL2339/Hn/8cQBOOukkrr766iZXv2nefSRJW+iuu+5i77335o477gBg2bJlHHPMMdx+++306dOHW265hQsuuIBrr72W733ve5x66qmceeaZvPTSS3z+859vcvWbZihI0hYaMmQIX/3qV/na177Gcccdx+677868efMYMWIEAGvWrKFv374AjBgxgilTpjB27Fhmz57dzLLbxFCQpC203377MWvWLO68807GjRvHiBEjGDx4MNOnT9+g7xtvvMH8+fPZcccdefHFF+nXr18TKm67Lh8Kh5xzXbNL6DRm/ctnm12CtFVYtGgRvXv35pRTTmHnnXdmwoQJLFmyhOnTp3P44YezatUq/vCHPzB48GC+/e1vM2jQIC677DJOO+00pk+fvkWfMO5oXT4UJGlLzZ07l3POOYdu3brRo0cPvv/977Pddtvx5S9/mWXLlrF69WrOOussevTowQ9/+ENmzJhBr169+OAHP8ill17KxRdf3Oxd2ChDQZK20MiRIxk5cuQG7ffff/8GbfPnzy/TV1xxRUPrag/ekipJKgwFSVJhKEiSCkNBklQYCpKkwlCQJBWGgiR1AtOmTeO4445rdhl+TkHStqm9n1bQVT7x70hBktrJwoULOeCAA/jc5z7HQQcdxMknn8wvf/lLjjjiCAYOHMiMGTOYMWMGw4cP5+CDD2b48OHlsdr1VqxYwWmnncahhx7KwQcfzO23395h+2AoSFI7WrBgAWeeeSZz5szhscce48Ybb+Q3v/kNl19+OZdddhkHHHAA999/Pw899BCXXHIJ559//gbbGD9+PB/5yEd48MEHue+++zjnnHNYsWJFh9Tv6SNJakcDBgxgyJAhAAwePJijjjqKiGDIkCEsXLiQZcuWMWbMGJ544gkiglWrVm2wjbvvvpupU6dy+eWXA/Daa6/xzDPPMGjQoIbXbyhIUjvaYYcdynS3bt3KfLdu3Vi9ejUXXnghRx55JLfeeisLFy7kwx/+8AbbyEx+8pOfsP/++3dU2YWnjySpAy1btox99tkHgIkTJ7baZ+TIkVx55ZVkJgAPPfRQR5VnKEhSRzr33HMZN24cRxxxBGvWrGm1z4UXXsiqVat473vfy0EHHcSFF17YYfXF2iTaGg0bNixnzpz5trbhl+y8qavccqdt0/z58zvknPvWprWfS0TMysxhrfV3pCBJKgwFSVJhKEiSCkNBklQYCpKkwlCQJBWGgiS1k+9+97sMGjSIk08+uSHbv+iii8qjLxrFx1xI2iY9c8mQdt3eO78xd7N9rrrqKn7+858zYMCAdn3vjmQoSFI7+MIXvsAf//hHTjjhBEaPHs2TTz7J3LlzWb16NRdddBGjRo1i4sSJ3HbbbaxZs4Z58+Zx9tln8/rrr3P99dezww47cOedd9K7d2+uvvpqJkyYwOuvv8573vMerr/+enbaaad13u/JJ59k7NixLFmyhJ122omrr76aAw444G3vh6ePJKkd/OAHP2DvvffmvvvuY8WKFRt99PW8efO48cYbmTFjBhdccAE77bQTDz30EIcffjjXXVd7wsInPvEJHnzwQWbPns2gQYO45pprNni/M844gyuvvJJZs2Zx+eWX88UvfrFd9sORgiS1s409+hrgyCOPpFevXvTq1Ytdd92V448/HoAhQ4YwZ84coBYcX//613n55ZdZvnw5I0eOXGf7y5cv53e/+x0nnnhiaVu5cmW71G4oSFI729ijrx944IHNPlob4NRTT+W2225j6NChTJw4kWnTpq2znTfeeIPddtuNhx9+uN1r9/SRJLWzt/vo61dffZW+ffuyatUqbrjhhg2W77LLLgwYMIApU6YAtRCaPXv22y8cQ0GS2t3bffT1N7/5Td7//vczYsSIjV48vuGGG7jmmmsYOnQogwcPbrfvcfbR2T46u/DR2dqa+ejs1vnobEnSW2YoSJIKQ0GSVBgKkrYZW/M10kZ4Kz8PQ0HSNqFnz54sXbrUYKhkJkuXLqVnz55btJ4fXpO0TejXrx8tLS0sWbKk2aV0Gj179qRfv35btI6hIGmb0KNHj6366aSdhaePJEmFoSBJKhoeChHRPSIeioifVfO9I+KeiHiiet29ru+4iFgQEY9HxMiNb1WS1AgdMVI4E5hfN38ecG9mDgTureaJiAOB0cBg4Gjgqojo3gH1SZIqDQ2FiOgHHAv8sK55FDCpmp4EfLyu/ebMXJmZTwELgMMaWZ8kaV2NHil8BzgXeKOuba/MXAxQvb6jat8HeLauX0vVto6IOCMiZkbETG89k6T21bBQiIjjgOczc1ZbV2mlbYNPoWTmhMwclpnD+vTp87ZqlCStq5GfUzgCOCEiPgb0BHaJiB8Bz0VE38xcHBF9geer/i3AvnXr9wMWNbA+SdJ6GjZSyMxxmdkvM/tTu4D8q8w8BZgKjKm6jQHWfjPEVGB0ROwQEQOAgcCMRtUnSdpQMz7R/C1gckScDjwDnAiQmY9ExGTgUWA1MDYz1zShPknqsjokFDJzGjCtml4KHLWRfuOB8R1RkyRpQ36iWZJUGAqSpMJQkCQVhoIkqTAUJEmFoSBJKgwFSVJhKEiSCkNBklQYCpKkwlCQJBWGgiSpMBQkSYWhIEkqDAVJUmEoSJIKQ0GSVBgKkqTCUJAkFYaCJKkwFCRJhaEgSSoMBUlSYShIkgpDQZJUGAqSpMJQkCQVhoIkqTAUJEmFoSBJKgwFSVJhKEiSCkNBklQYCpKkwlCQJBWGgiSpMBQkSYWhIEkqDAVJUmEoSJIKQ0GSVBgKkqTCUJAkFYaCJKkwFCRJhaEgSSoMBUlSYShIkgpDQZJUGAqSpMJQkCQVhoIkqTAUJEmFoSBJKgwFSVJhKEiSCkNBklQ0LBQiomdEzIiI2RHxSERcXLX3joh7IuKJ6nX3unXGRcSCiHg8IkY2qjZJUusaOVJYCXwkM4cC7wOOjoi/Ac4D7s3MgcC91TwRcSAwGhgMHA1cFRHdG1ifJGk9DQuFrFlezfao/iUwCphUtU8CPl5NjwJuzsyVmfkUsAA4rFH1SZI21NBrChHRPSIeBp4H7snMB4C9MnMxQPX6jqr7PsCzdau3VG2SpA7S0FDIzDWZ+T6gH3BYRBy0ie7R2iY26BRxRkTMjIiZS5YsaadKJUnQQXcfZebLwDRq1wqei4i+ANXr81W3FmDfutX6AYta2daEzByWmcP69OnTyLIlqctp5N1HfSJit2p6R+CjwGPAVGBM1W0McHs1PRUYHRE7RMQAYCAwo1H1SZI2tF0Dt90XmFTdQdQNmJyZP4uI6cDkiDgdeAY4ESAzH4mIycCjwGpgbGauaWB9kqT1NCwUMnMOcHAr7UuBozayznhgfKNqkiRtmp9oliQVhoIkqTAUJEmFoSBJKgwFSVJhKEiSCkNBklQYCpKkwlCQJBWGgiSpMBQkSYWhIEkqDAVJUmEoSJIKQ0GSVBgKkqTCUJAkFYaCJKloUyhExBFtaZMkbd3aOlK4so1tkqSt2HabWhgRhwPDgT4R8ZW6RbsA3RtZmCSp420yFIDtgZ2rfr3q2l8B/r5RRUmSmmOToZCZvwZ+HRETM/PpDqpJktQkmxsprLVDREwA+tevk5kfaURRkqTmaGsoTAF+APwQWNO4ciRJzdTWUFidmd9vaCWSpKZr6y2p/x4RX4yIvhHRe+2/hlYmSepwbR0pjKlez6lrS+C/t285kqRmalMoZOaARhciSWq+NoVCRHy2tfbMvK59y5EkNVNbTx8dWjfdEzgK+D1gKEjSNqStp4++VD8fEbsC1zekIklS07zVR2f/BRjYnoVIkpqvrdcU/p3a3UZQexDeIGByo4qSJDVHW68pXF43vRp4OjNbGlCPJKmJ2nT6qHow3mPUnpS6O/B6I4uSJDVHW7957ZPADOBE4JPAAxHho7MlaRvT1tNHFwCHZubzABHRB/gl8ONGFSZJ6nhtvfuo29pAqCzdgnUlSVuJto4U7oqIXwA3VfOfAu5sTEmStK5nLhnS7BI6jXd+Y25Dt7+572h+D7BXZp4TEZ8APgAEMB24oaGVSZI63OZOAX0HeBUgM3+amV/JzH+kNkr4TmNLkyR1tM2FQv/MnLN+Y2bOpPbVnJKkbcjmQqHnJpbt2J6FSJKab3Oh8GBEfH79xog4HZjVmJIkSc2yubuPzgJujYiTeTMEhgHbA3/bwLokSU2wyVDIzOeA4RFxJHBQ1XxHZv6q4ZVJkjpcW79P4T7gvgbXIklqMj+VLEkqDAVJUmEoSJIKQ0GSVBgKkqTCUJAkFYaCJKkwFCRJhaEgSSoMBUlS0bBQiIh9I+K+iJgfEY9ExJlVe++IuCcinqhed69bZ1xELIiIxyNiZKNqkyS1rpEjhdXA2Zk5CPgbYGxEHAicB9ybmQOBe6t5qmWjgcHA0cBVEdG9gfVJktbTsFDIzMWZ+ftq+lVgPrAPMAqYVHWbBHy8mh4F3JyZKzPzKWABcFij6pMkbahDrilERH/gYOABYK/MXAy14ADeUXXbB3i2brWWqm39bZ0RETMjYuaSJUsaWrckdTUND4WI2Bn4CXBWZr6yqa6ttOUGDZkTMnNYZg7r06dPe5UpSaLBoRARPagFwg2Z+dOq+bmI6Fst7ws8X7W3APvWrd4PWNTI+iRJ62rk3UcBXAPMz8wr6hZNBcZU02OA2+vaR0fEDhExABgIzGhUfZKkDbXpm9feoiOAzwBzI+Lhqu184FvA5Ig4HXgGOBEgMx+JiMnAo9TuXBqbmWsaWJ8kaT0NC4XM/A2tXycAOGoj64wHxjeqJknSpvmJZklSYShIkgpDQZJUGAqSpMJQkCQVhoIkqTAUJEmFoSBJKgwFSVJhKEiSCkNBklQYCpKkwlCQJBWGgiSpMBQkSYWhIEkqDAVJUmEoSJIKQ0GSVBgKkqTCUJAkFYaCJKkwFCRJhaEgSSoMBUlSYShIkgpDQZJUGAqSpMJQkCQVhoIkqTAUJEmFoSBJKgwFSVJhKEiSCkNBklQYCpKkwlCQJBWGgiSpMBQkSYWhIEkqDAVJUmEoSJIKQ0GSVBgKkqTCUJAkFYaCJKkwFCRJhaEgSSoMBUlSYShIkgpDQZJUGAqSpMJQkCQVhoIkqdiu2QVIat0h51zX7BI6jVt7NbuCrsORgiSpMBQkSUXDQiEiro2I5yNiXl1b74i4JyKeqF53r1s2LiIWRMTjETGyUXVJkjaukSOFicDR67WdB9ybmQOBe6t5IuJAYDQwuFrnqojo3sDaJEmtaFgoZOb9wIvrNY8CJlXTk4CP17XfnJkrM/MpYAFwWKNqkyS1rqOvKeyVmYsBqtd3VO37AM/W9Wup2jYQEWdExMyImLlkyZKGFitJXU1nudAcrbRlax0zc0JmDsvMYX369GlwWZLUtXR0KDwXEX0Bqtfnq/YWYN+6fv2ARR1cmyR1eR0dClOBMdX0GOD2uvbREbFDRAwABgIzOrg2SeryGvaJ5oi4CfgwsGdEtAD/BHwLmBwRpwPPACcCZOYjETEZeBRYDYzNzDWNqk2S1LqGhUJmnrSRRUdtpP94YHyj6pEkbV5nudAsSeoEDAVJUmEoSJIKQ0GSVBgKkqTCUJAkFYaCJKnw6zhVPHPJkGaX0Gm88xtzm12C1BSOFCRJhaEgSSoMBUlSYShIkgpDQZJUGAqSpMJQkCQVhoIkqTAUJEmFoSBJKgwFSVJhKEiSCkNBklQYCpKkwlCQJBWGgiSpMBQkSYWhIEkqDAVJUmEoSJIKQ0GSVBgKkqTCUJAkFYaCJKkwFCRJhaEgSSoMBUlSYShIkgpDQZJUGAqSpMJQkCQVhoIkqTAUJEmFoSBJKgwFSVJhKEiSCkNBklQYCpKkwlCQJBWGgiSpMBQkSYWhIEkqDAVJUmEoSJIKQ0GSVBgKkqTCUJAkFYaCJKkwFCRJRacLhYg4OiIej4gFEXFes+uRpK6kU4VCRHQH/i9wDHAgcFJEHNjcqiSp6+hUoQAcBizIzD9m5uvAzcCoJtckSV1GZwuFfYBn6+ZbqjZJUgfYrtkFrCdaact1OkScAZxRzS6PiMcbXlUX8S7YE3ih2XV0Cv/U2q+imsXfzTrt87v5ro0t6Gyh0ALsWzffD1hU3yEzJwATOrKoriIiZmbmsGbXIa3P382O09lOHz0IDIyIARGxPTAamNrkmiSpy+hUI4XMXB0R/wv4BdAduDYzH2lyWZLUZXSqUADIzDuBO5tdRxflaTl1Vv5udpDIzM33kiR1CZ3tmoIkqYkMBfloEXVaEXFtRDwfEfOaXUtXYSh0cT5aRJ3cRODoZhfRlRgK8tEi6rQy837gxWbX0ZUYCvLRIpIKQ0GbfbSIpK7DUNBmHy0iqeswFOSjRSQVhkIXl5mrgbWPFpkPTPbRIuosIuImYDqwf0S0RMTpza5pW+cnmiVJhSMFSVJhKEiSCkNBklQYCpKkwlCQJBWGggRExAUR8UhEzImIhyPi/e2wzRPa66mzEbG8PbYjbY63pKrLi4jDgSuAD2fmyojYE9g+Mzf7ye6I2K76rEeja1yemTs3+n0kRwoS9AVeyMyVAJn5QmYuioiFVUAQEcMiYlo1fVFETIiIu4HrIuKBiBi8dmMRMS0iDomIUyPiexGxa7WtbtXynSLi2YjoERHvjoi7ImJWRPxHRBxQ9RkQEdMj4sGI+GYH/zzUhRkKEtwN7BsRf4iIqyLiQ21Y5xBgVGZ+mtrjxj8JEBF9gb0zc9bajpm5DJgNrN3u8cAvMnMVte8e/lJmHgJ8Fbiq6vOvwPcz81Dgz297D6U2MhTU5WXmcmoH+TOAJcAtEXHqZlabmpn/VU1PBk6spj8JTGml/y3Ap6rp0dV77AwMB6ZExMPAv1EbtQAcAdxUTV+/JfsjvR3bNbsAqTPIzDXANGBaRMwFxgCrefMPp57rrbKibt0/RcTSiHgvtQP//2zlLaYC/xwRvakF0K+AvwJezsz3bayst7Y30lvnSEFdXkTsHxED65reBzwNLKR2AAf4u81s5mbgXGDXzJy7/sJqNDKD2mmhn2Xmmsx8BXgqIk6s6oiIGFqt8ltqIwqAk7d4p6S3yFCQYGdgUkQ8GhFzqH1X9UXAxcC/RsR/AGs2s40fUzuIT95En1uAU6rXtU4GTo+I2cAjvPlVqGcCYyPiQWDXLdsd6a3zllRJUuFIQZJUGAqSpMJQkCQVhoIkqTAUJEmFoSBJKgwFSVJhKEiSiv8Phn+rkqKbPeQAAAAASUVORK5CYII=\\n\",\n      \"text/plain\": [\n       \"\u003cFigure size 432x432 with 1 Axes\u003e\"\n      ]\n     },\n     \"metadata\": {\n      \"needs_background\": \"light\"\n     },\n     \"output_type\": \"display_data\"\n    }\n   ],\n   \"source\": [\n    \"plt.figure(figsize=(6, 6))\\n\",\n    \"sns.countplot(data['survived'], hue=data['sex'])\\n\",\n    \"plt.title(\\\"Survival Count by Sex\\\")\\n\",\n    \"plt.xlabel(\\\"Survived\\\")\\n\",\n    \"plt.ylabel(\\\"Count\\\")\\n\",\n    \"plt.show()\"\n   ]\n  },\n  {\n   \"cell_type\": \"markdown\",\n   \"id\": \"cc869524\",\n   \"metadata\": {},\n   \"source\": [\n    \"# Multivariate Analysis\"\n   ]\n  },\n  {\n   \"cell_type\": \"code\",\n   \"execution_count\": 9,\n   \"id\": \"c9cab16f\",\n   \"metadata\": {},\n   \"outputs\": [\n    {\n     \"data\": {\n      \"text/plain\": [\n       \"\u003cAxesSubplot:xlabel='age', ylabel='fare'\u003e\"\n      ]\n     },\n     \"execution_count\": 9,\n     \"metadata\": {},\n     \"output_type\": \"execute_result\"\n    },\n    {\n     \"data\": {\n      \"image/png\": \"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\\n\",\n      \"text/plain\": [\n       \"\u003cFigure size 432x288 with 1 Axes\u003e\"\n      ]\n     },\n     \"metadata\": {\n      \"needs_background\": \"light\"\n     },\n     \"output_type\": \"display_data\"\n    }\n   ],\n   \"source\": [\n    \"data.plot.scatter('age', 'fare')\"\n   ]\n  },\n  {\n   \"cell_type\": \"markdown\",\n   \"id\": \"f1773cf4\",\n   \"metadata\": {},\n   \"source\": [\n    \"# Calculate descriptive statistics\"\n   ]\n  },\n  {\n   \"cell_type\": \"code\",\n   \"execution_count\": 10,\n   \"id\": \"b5317584\",\n   \"metadata\": {},\n   \"outputs\": [\n    {\n     \"data\": {\n      \"text/html\": [\n       \"\u003cdiv\u003e\\n\",\n       \"\u003cstyle scoped\u003e\\n\",\n       \"    .dataframe tbody tr th:only-of-type {\\n\",\n       \"        vertical-align: middle;\\n\",\n       \"    }\\n\",\n       \"\\n\",\n       \"    .dataframe tbody tr th {\\n\",\n       \"        vertical-align: top;\\n\",\n       \"    }\\n\",\n       \"\\n\",\n       \"    .dataframe thead th {\\n\",\n       \"        text-align: right;\\n\",\n       \"    }\\n\",\n       \"\u003c/style\u003e\\n\",\n       \"\u003ctable border=\\\"1\\\" class=\\\"dataframe\\\"\u003e\\n\",\n       \"  \u003cthead\u003e\\n\",\n       \"    \u003ctr style=\\\"text-align: right;\\\"\u003e\\n\",\n       \"      \u003cth\u003e\u003c/th\u003e\\n\",\n       \"      \u003cth\u003esurvived\u003c/th\u003e\\n\",\n       \"      \u003cth\u003epclass\u003c/th\u003e\\n\",\n       \"      \u003cth\u003eage\u003c/th\u003e\\n\",\n       \"      \u003cth\u003esibsp\u003c/th\u003e\\n\",\n       \"      \u003cth\u003eparch\u003c/th\u003e\\n\",\n       \"      \u003cth\u003efare\u003c/th\u003e\\n\",\n       \"    \u003c/tr\u003e\\n\",\n       \"  \u003c/thead\u003e\\n\",\n       \"  \u003ctbody\u003e\\n\",\n       \"    \u003ctr\u003e\\n\",\n       \"      \u003cth\u003ecount\u003c/th\u003e\\n\",\n       \"      \u003ctd\u003e891.000000\u003c/td\u003e\\n\",\n       \"      \u003ctd\u003e891.000000\u003c/td\u003e\\n\",\n       \"      \u003ctd\u003e714.000000\u003c/td\u003e\\n\",\n       \"      \u003ctd\u003e891.000000\u003c/td\u003e\\n\",\n       \"      \u003ctd\u003e891.000000\u003c/td\u003e\\n\",\n       \"      \u003ctd\u003e891.000000\u003c/td\u003e\\n\",\n       \"    \u003c/tr\u003e\\n\",\n       \"    \u003ctr\u003e\\n\",\n       \"      \u003cth\u003emean\u003c/th\u003e\\n\",\n       \"      \u003ctd\u003e0.383838\u003c/td\u003e\\n\",\n       \"      \u003ctd\u003e2.308642\u003c/td\u003e\\n\",\n       \"      \u003ctd\u003e29.699118\u003c/td\u003e\\n\",\n       \"      \u003ctd\u003e0.523008\u003c/td\u003e\\n\",\n       \"      \u003ctd\u003e0.381594\u003c/td\u003e\\n\",\n       \"      \u003ctd\u003e32.204208\u003c/td\u003e\\n\",\n       \"    \u003c/tr\u003e\\n\",\n       \"    \u003ctr\u003e\\n\",\n       \"      \u003cth\u003estd\u003c/th\u003e\\n\",\n       \"      \u003ctd\u003e0.486592\u003c/td\u003e\\n\",\n       \"      \u003ctd\u003e0.836071\u003c/td\u003e\\n\",\n       \"      \u003ctd\u003e14.526497\u003c/td\u003e\\n\",\n       \"      \u003ctd\u003e1.102743\u003c/td\u003e\\n\",\n       \"      \u003ctd\u003e0.806057\u003c/td\u003e\\n\",\n       \"      \u003ctd\u003e49.693429\u003c/td\u003e\\n\",\n       \"    \u003c/tr\u003e\\n\",\n       \"    \u003ctr\u003e\\n\",\n       \"      \u003cth\u003emin\u003c/th\u003e\\n\",\n       \"      \u003ctd\u003e0.000000\u003c/td\u003e\\n\",\n       \"      \u003ctd\u003e1.000000\u003c/td\u003e\\n\",\n       \"      \u003ctd\u003e0.420000\u003c/td\u003e\\n\",\n       \"      \u003ctd\u003e0.000000\u003c/td\u003e\\n\",\n       \"      \u003ctd\u003e0.000000\u003c/td\u003e\\n\",\n       \"      \u003ctd\u003e0.000000\u003c/td\u003e\\n\",\n       \"    \u003c/tr\u003e\\n\",\n       \"    \u003ctr\u003e\\n\",\n       \"      \u003cth\u003e25%\u003c/th\u003e\\n\",\n       \"      \u003ctd\u003e0.000000\u003c/td\u003e\\n\",\n       \"      \u003ctd\u003e2.000000\u003c/td\u003e\\n\",\n       \"      \u003ctd\u003e20.125000\u003c/td\u003e\\n\",\n       \"      \u003ctd\u003e0.000000\u003c/td\u003e\\n\",\n       \"      \u003ctd\u003e0.000000\u003c/td\u003e\\n\",\n       \"      \u003ctd\u003e7.910400\u003c/td\u003e\\n\",\n       \"    \u003c/tr\u003e\\n\",\n       \"    \u003ctr\u003e\\n\",\n       \"      \u003cth\u003e50%\u003c/th\u003e\\n\",\n       \"      \u003ctd\u003e0.000000\u003c/td\u003e\\n\",\n       \"      \u003ctd\u003e3.000000\u003c/td\u003e\\n\",\n       \"      \u003ctd\u003e28.000000\u003c/td\u003e\\n\",\n       \"      \u003ctd\u003e0.000000\u003c/td\u003e\\n\",\n       \"      \u003ctd\u003e0.000000\u003c/td\u003e\\n\",\n       \"      \u003ctd\u003e14.454200\u003c/td\u003e\\n\",\n       \"    \u003c/tr\u003e\\n\",\n       \"    \u003ctr\u003e\\n\",\n       \"      \u003cth\u003e75%\u003c/th\u003e\\n\",\n       \"      \u003ctd\u003e1.000000\u003c/td\u003e\\n\",\n       \"      \u003ctd\u003e3.000000\u003c/td\u003e\\n\",\n       \"      \u003ctd\u003e38.000000\u003c/td\u003e\\n\",\n       \"      \u003ctd\u003e1.000000\u003c/td\u003e\\n\",\n       \"      \u003ctd\u003e0.000000\u003c/td\u003e\\n\",\n       \"      \u003ctd\u003e31.000000\u003c/td\u003e\\n\",\n       \"    \u003c/tr\u003e\\n\",\n       \"    \u003ctr\u003e\\n\",\n       \"      \u003cth\u003emax\u003c/th\u003e\\n\",\n       \"      \u003ctd\u003e1.000000\u003c/td\u003e\\n\",\n       \"      \u003ctd\u003e3.000000\u003c/td\u003e\\n\",\n       \"      \u003ctd\u003e80.000000\u003c/td\u003e\\n\",\n       \"      \u003ctd\u003e8.000000\u003c/td\u003e\\n\",\n       \"      \u003ctd\u003e6.000000\u003c/td\u003e\\n\",\n       \"      \u003ctd\u003e512.329200\u003c/td\u003e\\n\",\n       \"    \u003c/tr\u003e\\n\",\n       \"  \u003c/tbody\u003e\\n\",\n       \"\u003c/table\u003e\\n\",\n       \"\u003c/div\u003e\"\n      ],\n      \"text/plain\": [\n       \"         survived      pclass         age       sibsp       parch        fare\\n\",\n       \"count  891.000000  891.000000  714.000000  891.000000  891.000000  891.000000\\n\",\n       \"mean     0.383838    2.308642   29.699118    0.523008    0.381594   32.204208\\n\",\n       \"std      0.486592    0.836071   14.526497    1.102743    0.806057   49.693429\\n\",\n       \"min      0.000000    1.000000    0.420000    0.000000    0.000000    0.000000\\n\",\n       \"25%      0.000000    2.000000   20.125000    0.000000    0.000000    7.910400\\n\",\n       \"50%      0.000000    3.000000   28.000000    0.000000    0.000000   14.454200\\n\",\n       \"75%      1.000000    3.000000   38.000000    1.000000    0.000000   31.000000\\n\",\n       \"max      1.000000    3.000000   80.000000    8.000000    6.000000  512.329200\"\n      ]\n     },\n     \"execution_count\": 10,\n     \"metadata\": {},\n     \"output_type\": \"execute_result\"\n    }\n   ],\n   \"source\": [\n    \"data.describe()\"\n   ]\n  },\n  {\n   \"cell_type\": \"code\",\n   \"execution_count\": 11,\n   \"id\": \"56c5bb9d\",\n   \"metadata\": {},\n   \"outputs\": [\n    {\n     \"name\": \"stderr\",\n     \"output_type\": \"stream\",\n     \"text\": [\n      \"C:\\\\Users\\\\KIIT\\\\AppData\\\\Local\\\\Temp/ipykernel_19000/321897587.py:2: FutureWarning: Dropping of nuisance columns in DataFrame reductions (with 'numeric_only=None') is deprecated; in a future version this will raise TypeError.  Select only valid columns before calling the reduction.\\n\",\n      \"  data.median()\\n\"\n     ]\n    },\n    {\n     \"data\": {\n      \"text/plain\": [\n       \"survived       0.0000\\n\",\n       \"pclass         3.0000\\n\",\n       \"age           28.0000\\n\",\n       \"sibsp          0.0000\\n\",\n       \"parch          0.0000\\n\",\n       \"fare          14.4542\\n\",\n       \"adult_male     1.0000\\n\",\n       \"alone          1.0000\\n\",\n       \"dtype: float64\"\n      ]\n     },\n     \"execution_count\": 11,\n     \"metadata\": {},\n     \"output_type\": \"execute_result\"\n    }\n   ],\n   \"source\": [\n    \"#Median: Calculate the median (50th percentile) of each column\\n\",\n    \"data.median()\"\n   ]\n  },\n  {\n   \"cell_type\": \"code\",\n   \"execution_count\": 12,\n   \"id\": \"98b01581\",\n   \"metadata\": {},\n   \"outputs\": [\n    {\n     \"data\": {\n      \"text/html\": [\n       \"\u003cdiv\u003e\\n\",\n       \"\u003cstyle scoped\u003e\\n\",\n       \"    .dataframe tbody tr th:only-of-type {\\n\",\n       \"        vertical-align: middle;\\n\",\n       \"    }\\n\",\n       \"\\n\",\n       \"    .dataframe tbody tr th {\\n\",\n       \"        vertical-align: top;\\n\",\n       \"    }\\n\",\n       \"\\n\",\n       \"    .dataframe thead th {\\n\",\n       \"        text-align: right;\\n\",\n       \"    }\\n\",\n       \"\u003c/style\u003e\\n\",\n       \"\u003ctable border=\\\"1\\\" class=\\\"dataframe\\\"\u003e\\n\",\n       \"  \u003cthead\u003e\\n\",\n       \"    \u003ctr style=\\\"text-align: right;\\\"\u003e\\n\",\n       \"      \u003cth\u003e\u003c/th\u003e\\n\",\n       \"      \u003cth\u003esurvived\u003c/th\u003e\\n\",\n       \"      \u003cth\u003epclass\u003c/th\u003e\\n\",\n       \"      \u003cth\u003esex\u003c/th\u003e\\n\",\n       \"      \u003cth\u003eage\u003c/th\u003e\\n\",\n       \"      \u003cth\u003esibsp\u003c/th\u003e\\n\",\n       \"      \u003cth\u003eparch\u003c/th\u003e\\n\",\n       \"      \u003cth\u003efare\u003c/th\u003e\\n\",\n       \"      \u003cth\u003eembarked\u003c/th\u003e\\n\",\n       \"      \u003cth\u003eclass\u003c/th\u003e\\n\",\n       \"      \u003cth\u003ewho\u003c/th\u003e\\n\",\n       \"      \u003cth\u003eadult_male\u003c/th\u003e\\n\",\n       \"      \u003cth\u003edeck\u003c/th\u003e\\n\",\n       \"      \u003cth\u003eembark_town\u003c/th\u003e\\n\",\n       \"      \u003cth\u003ealive\u003c/th\u003e\\n\",\n       \"      \u003cth\u003ealone\u003c/th\u003e\\n\",\n       \"    \u003c/tr\u003e\\n\",\n       \"  \u003c/thead\u003e\\n\",\n       \"  \u003ctbody\u003e\\n\",\n       \"    \u003ctr\u003e\\n\",\n       \"      \u003cth\u003e0\u003c/th\u003e\\n\",\n       \"      \u003ctd\u003e0\u003c/td\u003e\\n\",\n       \"      \u003ctd\u003e3\u003c/td\u003e\\n\",\n       \"      \u003ctd\u003emale\u003c/td\u003e\\n\",\n       \"      \u003ctd\u003e24.0\u003c/td\u003e\\n\",\n       \"      \u003ctd\u003e0\u003c/td\u003e\\n\",\n       \"      \u003ctd\u003e0\u003c/td\u003e\\n\",\n       \"      \u003ctd\u003e8.05\u003c/td\u003e\\n\",\n       \"      \u003ctd\u003eS\u003c/td\u003e\\n\",\n       \"      \u003ctd\u003eThird\u003c/td\u003e\\n\",\n       \"      \u003ctd\u003eman\u003c/td\u003e\\n\",\n       \"      \u003ctd\u003eTrue\u003c/td\u003e\\n\",\n       \"      \u003ctd\u003eC\u003c/td\u003e\\n\",\n       \"      \u003ctd\u003eSouthampton\u003c/td\u003e\\n\",\n       \"      \u003ctd\u003eno\u003c/td\u003e\\n\",\n       \"      \u003ctd\u003eTrue\u003c/td\u003e\\n\",\n       \"    \u003c/tr\u003e\\n\",\n       \"  \u003c/tbody\u003e\\n\",\n       \"\u003c/table\u003e\\n\",\n       \"\u003c/div\u003e\"\n      ],\n      \"text/plain\": [\n       \"   survived  pclass   sex   age  sibsp  parch  fare embarked  class  who  \\\\\\n\",\n       \"0         0       3  male  24.0      0      0  8.05        S  Third  man   \\n\",\n       \"\\n\",\n       \"   adult_male deck  embark_town alive  alone  \\n\",\n       \"0        True    C  Southampton    no   True  \"\n      ]\n     },\n     \"execution_count\": 12,\n     \"metadata\": {},\n     \"output_type\": \"execute_result\"\n    }\n   ],\n   \"source\": [\n    \"#Mode: Calculate the mode (most frequent value) of each column\\n\",\n    \"data.mode()\"\n   ]\n  },\n  {\n   \"cell_type\": \"code\",\n   \"execution_count\": 13,\n   \"id\": \"482dd17b\",\n   \"metadata\": {},\n   \"outputs\": [\n    {\n     \"name\": \"stderr\",\n     \"output_type\": \"stream\",\n     \"text\": [\n      \"C:\\\\Users\\\\KIIT\\\\AppData\\\\Local\\\\Temp/ipykernel_19000/3636309961.py:2: FutureWarning: Dropping of nuisance columns in DataFrame reductions (with 'numeric_only=None') is deprecated; in a future version this will raise TypeError.  Select only valid columns before calling the reduction.\\n\",\n      \"  data.var()\\n\"\n     ]\n    },\n    {\n     \"data\": {\n      \"text/plain\": [\n       \"survived         0.236772\\n\",\n       \"pclass           0.699015\\n\",\n       \"age            211.019125\\n\",\n       \"sibsp            1.216043\\n\",\n       \"parch            0.649728\\n\",\n       \"fare          2469.436846\\n\",\n       \"adult_male       0.239723\\n\",\n       \"alone            0.239723\\n\",\n       \"dtype: float64\"\n      ]\n     },\n     \"execution_count\": 13,\n     \"metadata\": {},\n     \"output_type\": \"execute_result\"\n    }\n   ],\n   \"source\": [\n    \"#Variance: Calculate the variance of each column\\n\",\n    \"data.var()\"\n   ]\n  },\n  {\n   \"cell_type\": \"markdown\",\n   \"id\": \"33f6156e\",\n   \"metadata\": {},\n   \"source\": [\n    \"# Handle the Missing values.\"\n   ]\n  },\n  {\n   \"cell_type\": \"code\",\n   \"execution_count\": 14,\n   \"id\": \"ecf3e0ae\",\n   \"metadata\": {},\n   \"outputs\": [\n    {\n     \"name\": \"stdout\",\n     \"output_type\": \"stream\",\n     \"text\": [\n      \"Missing Values:\\n\",\n      \" survived         0\\n\",\n      \"pclass           0\\n\",\n      \"sex              0\\n\",\n      \"age            177\\n\",\n      \"sibsp            0\\n\",\n      \"parch            0\\n\",\n      \"fare             0\\n\",\n      \"embarked         2\\n\",\n      \"class            0\\n\",\n      \"who              0\\n\",\n      \"adult_male       0\\n\",\n      \"deck           688\\n\",\n      \"embark_town      2\\n\",\n      \"alive            0\\n\",\n      \"alone            0\\n\",\n      \"dtype: int64\\n\"\n     ]\n    }\n   ],\n   \"source\": [\n    \"# Check for missing values\\n\",\n    \"missing_values = data.isnull().sum()\\n\",\n    \"print(\\\"Missing Values:\\\\n\\\",missing_values)\"\n   ]\n  },\n  {\n   \"cell_type\": \"code\",\n   \"execution_count\": 15,\n   \"id\": \"eabbcf3c\",\n   \"metadata\": {},\n   \"outputs\": [],\n   \"source\": [\n    \"median_age = data['age'].median()\\n\",\n    \"data['age'].fillna(median_age, inplace=True)\\n\"\n   ]\n  },\n  {\n   \"cell_type\": \"code\",\n   \"execution_count\": 16,\n   \"id\": \"2975f983\",\n   \"metadata\": {},\n   \"outputs\": [],\n   \"source\": [\n    \"data['embark_town'].fillna(round,inplace=True)\\n\"\n   ]\n  },\n  {\n   \"cell_type\": \"code\",\n   \"execution_count\": 17,\n   \"id\": \"d5ee77e3\",\n   \"metadata\": {},\n   \"outputs\": [],\n   \"source\": [\n    \"data['embarked'].fillna('S',inplace=True)\"\n   ]\n  },\n  {\n   \"cell_type\": \"code\",\n   \"execution_count\": 18,\n   \"id\": \"1a99f3c8\",\n   \"metadata\": {},\n   \"outputs\": [],\n   \"source\": [\n    \"data['deck'].fillna('C',inplace=True)\"\n   ]\n  },\n  {\n   \"cell_type\": \"code\",\n   \"execution_count\": 19,\n   \"id\": \"5ef6e4d6\",\n   \"metadata\": {},\n   \"outputs\": [\n    {\n     \"name\": \"stdout\",\n     \"output_type\": \"stream\",\n     \"text\": [\n      \"Missing Values after imputation:\\n\",\n      \" survived       0\\n\",\n      \"pclass         0\\n\",\n      \"sex            0\\n\",\n      \"age            0\\n\",\n      \"sibsp          0\\n\",\n      \"parch          0\\n\",\n      \"fare           0\\n\",\n      \"embarked       0\\n\",\n      \"class          0\\n\",\n      \"who            0\\n\",\n      \"adult_male     0\\n\",\n      \"deck           0\\n\",\n      \"embark_town    0\\n\",\n      \"alive          0\\n\",\n      \"alone          0\\n\",\n      \"dtype: int64\\n\"\n     ]\n    }\n   ],\n   \"source\": [\n    \"# Verify if missing values have been handled\\n\",\n    \"missing_values = data.isnull().sum()\\n\",\n    \"print(\\\"Missing Values after imputation:\\\\n\\\", missing_values)\"\n   ]\n  },\n  {\n   \"cell_type\": \"markdown\",\n   \"id\": \"80a041a6\",\n   \"metadata\": {},\n   \"source\": [\n    \"# Find the outliers and replace the outliers\"\n   ]\n  },\n  {\n   \"cell_type\": \"code\",\n   \"execution_count\": 20,\n   \"id\": \"54104415\",\n   \"metadata\": {},\n   \"outputs\": [\n    {\n     \"name\": \"stderr\",\n     \"output_type\": \"stream\",\n     \"text\": [\n      \"E:\\\\VIT\\\\Softwares\\\\Anaconda\\\\lib\\\\site-packages\\\\seaborn\\\\_decorators.py:36: FutureWarning: Pass the following variable as a keyword arg: x. From version 0.12, the only valid positional argument will be `data`, and passing other arguments without an explicit keyword will result in an error or misinterpretation.\\n\",\n      \"  warnings.warn(\\n\"\n     ]\n    },\n    {\n     \"data\": {\n      \"text/plain\": [\n       \"\u003cAxesSubplot:xlabel='age'\u003e\"\n      ]\n     },\n     \"execution_count\": 20,\n     \"metadata\": {},\n     \"output_type\": \"execute_result\"\n    },\n    {\n     \"data\": {\n      \"image/png\": \"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\\n\",\n      \"text/plain\": [\n       \"\u003cFigure size 432x288 with 1 Axes\u003e\"\n      ]\n     },\n     \"metadata\": {\n      \"needs_background\": \"light\"\n     },\n     \"output_type\": \"display_data\"\n    }\n   ],\n   \"source\": [\n    \"sns.boxplot(data['age'])\"\n   ]\n  },\n  {\n   \"cell_type\": \"code\",\n   \"execution_count\": 21,\n   \"id\": \"561267e5\",\n   \"metadata\": {},\n   \"outputs\": [],\n   \"source\": [\n    \"# Calculate the quartiles and IQR\\n\",\n    \"Q1 = data['age'].quantile(0.25)\\n\",\n    \"Q3 = data['age'].quantile(0.75)\\n\",\n    \"IQR = Q3 - Q1\\n\"\n   ]\n  },\n  {\n   \"cell_type\": \"code\",\n   \"execution_count\": 22,\n   \"id\": \"e66e89d2\",\n   \"metadata\": {},\n   \"outputs\": [\n    {\n     \"data\": {\n      \"text/plain\": [\n       \"13.0\"\n      ]\n     },\n     \"execution_count\": 22,\n     \"metadata\": {},\n     \"output_type\": \"execute_result\"\n    }\n   ],\n   \"source\": [\n    \"IQR\"\n   ]\n  },\n  {\n   \"cell_type\": \"code\",\n   \"execution_count\": 23,\n   \"id\": \"a44705da\",\n   \"metadata\": {},\n   \"outputs\": [],\n   \"source\": [\n    \"# Define the lower and upper bounds for outliers\\n\",\n    \"lower_bound = Q1 - 1.5 * IQR\\n\",\n    \"upper_bound = Q3 + 1.5 * IQR\\n\"\n   ]\n  },\n  {\n   \"cell_type\": \"code\",\n   \"execution_count\": 24,\n   \"id\": \"2fec12a0\",\n   \"metadata\": {},\n   \"outputs\": [],\n   \"source\": [\n    \"# Find outliers in the 'Age' column\\n\",\n    \"outliers = data[(data['age'] \u003c lower_bound) | (data['age'] \u003e upper_bound)]\\n\"\n   ]\n  },\n  {\n   \"cell_type\": \"code\",\n   \"execution_count\": 25,\n   \"id\": \"38743f75\",\n   \"metadata\": {},\n   \"outputs\": [],\n   \"source\": [\n    \"# Replace outliers with the median age\\n\",\n    \"median_age = data['age'].median()\\n\",\n    \"data.loc[(data['age'] \u003c lower_bound) | (data['age'] \u003e upper_bound), 'age'] = median_age\\n\"\n   ]\n  },\n  {\n   \"cell_type\": \"code\",\n   \"execution_count\": 26,\n   \"id\": \"93589425\",\n   \"metadata\": {},\n   \"outputs\": [\n    {\n     \"name\": \"stdout\",\n     \"output_type\": \"stream\",\n     \"text\": [\n      \"Outliers replaced: Empty DataFrame\\n\",\n      \"Columns: [survived, pclass, sex, age, sibsp, parch, fare, embarked, class, who, adult_male, deck, embark_town, alive, alone]\\n\",\n      \"Index: []\\n\"\n     ]\n    }\n   ],\n   \"source\": [\n    \"# Verify if outliers have been replaced\\n\",\n    \"outliers_replaced = data[(data['age'] \u003c lower_bound) | (data['age'] \u003e upper_bound)]\\n\",\n    \"print(\\\"Outliers replaced:\\\", outliers_replaced)\\n\"\n   ]\n  },\n  {\n   \"cell_type\": \"code\",\n   \"execution_count\": 27,\n   \"id\": \"2c1193e0\",\n   \"metadata\": {},\n   \"outputs\": [\n    {\n     \"name\": \"stderr\",\n     \"output_type\": \"stream\",\n     \"text\": [\n      \"E:\\\\VIT\\\\Softwares\\\\Anaconda\\\\lib\\\\site-packages\\\\seaborn\\\\_decorators.py:36: FutureWarning: Pass the following variable as a keyword arg: x. From version 0.12, the only valid positional argument will be `data`, and passing other arguments without an explicit keyword will result in an error or misinterpretation.\\n\",\n      \"  warnings.warn(\\n\"\n     ]\n    },\n    {\n     \"data\": {\n      \"text/plain\": [\n       \"\u003cAxesSubplot:xlabel='age'\u003e\"\n      ]\n     },\n     \"execution_count\": 27,\n     \"metadata\": {},\n     \"output_type\": \"execute_result\"\n    },\n    {\n     \"data\": {\n      \"image/png\": \"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\\n\",\n      \"text/plain\": [\n       \"\u003cFigure size 432x288 with 1 Axes\u003e\"\n      ]\n     },\n     \"metadata\": {\n      \"needs_background\": \"light\"\n     },\n     \"output_type\": \"display_data\"\n    }\n   ],\n   \"source\": [\n    \"sns.boxplot(data.age)\"\n   ]\n  },\n  {\n   \"cell_type\": \"code\",\n   \"execution_count\": 28,\n   \"id\": \"c2575f2c\",\n   \"metadata\": {},\n   \"outputs\": [\n    {\n     \"name\": \"stderr\",\n     \"output_type\": \"stream\",\n     \"text\": [\n      \"E:\\\\VIT\\\\Softwares\\\\Anaconda\\\\lib\\\\site-packages\\\\seaborn\\\\_decorators.py:36: FutureWarning: Pass the following variable as a keyword arg: x. From version 0.12, the only valid positional argument will be `data`, and passing other arguments without an explicit keyword will result in an error or misinterpretation.\\n\",\n      \"  warnings.warn(\\n\"\n     ]\n    },\n    {\n     \"data\": {\n      \"text/plain\": [\n       \"\u003cAxesSubplot:xlabel='fare'\u003e\"\n      ]\n     },\n     \"execution_count\": 28,\n     \"metadata\": {},\n     \"output_type\": \"execute_result\"\n    },\n    {\n     \"data\": {\n      \"image/png\": \"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\\n\",\n      \"text/plain\": [\n       \"\u003cFigure size 432x288 with 1 Axes\u003e\"\n      ]\n     },\n     \"metadata\": {\n      \"needs_background\": \"light\"\n     },\n     \"output_type\": \"display_data\"\n    }\n   ],\n   \"source\": [\n    \"sns.boxplot(data.fare)\"\n   ]\n  },\n  {\n   \"cell_type\": \"markdown\",\n   \"id\": \"ddb1f2ae\",\n   \"metadata\": {},\n   \"source\": [\n    \"# Check for Categorical columns and perform encoding.\"\n   ]\n  },\n  {\n   \"cell_type\": \"code\",\n   \"execution_count\": 29,\n   \"id\": \"34537a63\",\n   \"metadata\": {},\n   \"outputs\": [],\n   \"source\": [\n    \"data_types = data.dtypes\\n\",\n    \"categorical_columns = data_types[data_types == 'object'].index.tolist()\\n\"\n   ]\n  },\n  {\n   \"cell_type\": \"code\",\n   \"execution_count\": 30,\n   \"id\": \"473fddde\",\n   \"metadata\": {},\n   \"outputs\": [],\n   \"source\": [\n    \"datas = pd.get_dummies(data, columns=categorical_columns)\\n\"\n   ]\n  },\n  {\n   \"cell_type\": \"code\",\n   \"execution_count\": 31,\n   \"id\": \"28d71fdd\",\n   \"metadata\": {},\n   \"outputs\": [\n    {\n     \"name\": \"stdout\",\n     \"output_type\": \"stream\",\n     \"text\": [\n      \"   survived  pclass   age  sibsp  parch     fare  adult_male  alone  \\\\\\n\",\n      \"0         0       3  22.0      1      0   7.2500        True  False   \\n\",\n      \"1         1       1  38.0      1      0  71.2833       False  False   \\n\",\n      \"2         1       3  26.0      0      0   7.9250       False   True   \\n\",\n      \"3         1       1  35.0      1      0  53.1000       False  False   \\n\",\n      \"4         0       3  35.0      0      0   8.0500        True   True   \\n\",\n      \"\\n\",\n      \"   sex_female  sex_male  ...  deck_D  deck_E  deck_F  deck_G  \\\\\\n\",\n      \"0           0         1  ...       0       0       0       0   \\n\",\n      \"1           1         0  ...       0       0       0       0   \\n\",\n      \"2           1         0  ...       0       0       0       0   \\n\",\n      \"3           1         0  ...       0       0       0       0   \\n\",\n      \"4           0         1  ...       0       0       0       0   \\n\",\n      \"\\n\",\n      \"   embark_town_\u003cbuilt-in function round\u003e  embark_town_Cherbourg  \\\\\\n\",\n      \"0                                      0                      0   \\n\",\n      \"1                                      0                      1   \\n\",\n      \"2                                      0                      0   \\n\",\n      \"3                                      0                      0   \\n\",\n      \"4                                      0                      0   \\n\",\n      \"\\n\",\n      \"   embark_town_Queenstown  embark_town_Southampton  alive_no  alive_yes  \\n\",\n      \"0                       0                        1         1          0  \\n\",\n      \"1                       0                        0         0          1  \\n\",\n      \"2                       0                        1         0          1  \\n\",\n      \"3                       0                        1         0          1  \\n\",\n      \"4                       0                        1         1          0  \\n\",\n      \"\\n\",\n      \"[5 rows x 32 columns]\\n\"\n     ]\n    }\n   ],\n   \"source\": [\n    \"print(datas.head())\"\n   ]\n  },\n  {\n   \"cell_type\": \"markdown\",\n   \"id\": \"922e43f8\",\n   \"metadata\": {},\n   \"source\": [\n    \"# Split the data into dependent and independent variables\"\n   ]\n  },\n  {\n   \"cell_type\": \"code\",\n   \"execution_count\": 32,\n   \"id\": \"8888612d\",\n   \"metadata\": {},\n   \"outputs\": [],\n   \"source\": [\n    \"X = datas.drop(\\\"survived\\\", axis=1) \\n\",\n    \"y = datas[\\\"survived\\\"]  \\n\"\n   ]\n  },\n  {\n   \"cell_type\": \"code\",\n   \"execution_count\": 33,\n   \"id\": \"f88b5a1f\",\n   \"metadata\": {},\n   \"outputs\": [\n    {\n     \"name\": \"stdout\",\n     \"output_type\": \"stream\",\n     \"text\": [\n      \"Independent Variables (Features):\\n\",\n      \"    pclass   age  sibsp  parch     fare  adult_male  alone  sex_female  \\\\\\n\",\n      \"0       3  22.0      1      0   7.2500        True  False           0   \\n\",\n      \"1       1  38.0      1      0  71.2833       False  False           1   \\n\",\n      \"2       3  26.0      0      0   7.9250       False   True           1   \\n\",\n      \"3       1  35.0      1      0  53.1000       False  False           1   \\n\",\n      \"4       3  35.0      0      0   8.0500        True   True           0   \\n\",\n      \"\\n\",\n      \"   sex_male  embarked_C  ...  deck_D  deck_E  deck_F  deck_G  \\\\\\n\",\n      \"0         1           0  ...       0       0       0       0   \\n\",\n      \"1         0           1  ...       0       0       0       0   \\n\",\n      \"2         0           0  ...       0       0       0       0   \\n\",\n      \"3         0           0  ...       0       0       0       0   \\n\",\n      \"4         1           0  ...       0       0       0       0   \\n\",\n      \"\\n\",\n      \"   embark_town_\u003cbuilt-in function round\u003e  embark_town_Cherbourg  \\\\\\n\",\n      \"0                                      0                      0   \\n\",\n      \"1                                      0                      1   \\n\",\n      \"2                                      0                      0   \\n\",\n      \"3                                      0                      0   \\n\",\n      \"4                                      0                      0   \\n\",\n      \"\\n\",\n      \"   embark_town_Queenstown  embark_town_Southampton  alive_no  alive_yes  \\n\",\n      \"0                       0                        1         1          0  \\n\",\n      \"1                       0                        0         0          1  \\n\",\n      \"2                       0                        1         0          1  \\n\",\n      \"3                       0                        1         0          1  \\n\",\n      \"4                       0                        1         1          0  \\n\",\n      \"\\n\",\n      \"[5 rows x 31 columns]\\n\"\n     ]\n    }\n   ],\n   \"source\": [\n    \"print(\\\"Independent Variables (Features):\\\\n\\\", X.head())\"\n   ]\n  },\n  {\n   \"cell_type\": \"code\",\n   \"execution_count\": 34,\n   \"id\": \"72bce444\",\n   \"metadata\": {},\n   \"outputs\": [\n    {\n     \"name\": \"stdout\",\n     \"output_type\": \"stream\",\n     \"text\": [\n      \"\\n\",\n      \"Dependent Variable (Target):\\n\",\n      \" 0    0\\n\",\n      \"1    1\\n\",\n      \"2    1\\n\",\n      \"3    1\\n\",\n      \"4    0\\n\",\n      \"Name: survived, dtype: int64\\n\"\n     ]\n    }\n   ],\n   \"source\": [\n    \"print(\\\"\\\\nDependent Variable (Target):\\\\n\\\", y.head())\"\n   ]\n  },\n  {\n   \"cell_type\": \"code\",\n   \"execution_count\": 35,\n   \"id\": \"44275fcb\",\n   \"metadata\": {},\n   \"outputs\": [\n    {\n     \"data\": {\n      \"text/html\": [\n       \"\u003cdiv\u003e\\n\",\n       \"\u003cstyle scoped\u003e\\n\",\n       \"    .dataframe tbody tr th:only-of-type {\\n\",\n       \"        vertical-align: middle;\\n\",\n       \"    }\\n\",\n       \"\\n\",\n       \"    .dataframe tbody tr th {\\n\",\n       \"        vertical-align: top;\\n\",\n       \"    }\\n\",\n       \"\\n\",\n       \"    .dataframe thead th {\\n\",\n       \"        text-align: right;\\n\",\n       \"    }\\n\",\n       \"\u003c/style\u003e\\n\",\n       \"\u003ctable border=\\\"1\\\" class=\\\"dataframe\\\"\u003e\\n\",\n       \"  \u003cthead\u003e\\n\",\n       \"    \u003ctr style=\\\"text-align: right;\\\"\u003e\\n\",\n       \"      \u003cth\u003e\u003c/th\u003e\\n\",\n       \"      \u003cth\u003esurvived\u003c/th\u003e\\n\",\n       \"      \u003cth\u003epclass\u003c/th\u003e\\n\",\n       \"      \u003cth\u003eage\u003c/th\u003e\\n\",\n       \"      \u003cth\u003esibsp\u003c/th\u003e\\n\",\n       \"      \u003cth\u003eparch\u003c/th\u003e\\n\",\n       \"      \u003cth\u003efare\u003c/th\u003e\\n\",\n       \"      \u003cth\u003eadult_male\u003c/th\u003e\\n\",\n       \"      \u003cth\u003ealone\u003c/th\u003e\\n\",\n       \"      \u003cth\u003esex_female\u003c/th\u003e\\n\",\n       \"      \u003cth\u003esex_male\u003c/th\u003e\\n\",\n       \"      \u003cth\u003e...\u003c/th\u003e\\n\",\n       \"      \u003cth\u003edeck_D\u003c/th\u003e\\n\",\n       \"      \u003cth\u003edeck_E\u003c/th\u003e\\n\",\n       \"      \u003cth\u003edeck_F\u003c/th\u003e\\n\",\n       \"      \u003cth\u003edeck_G\u003c/th\u003e\\n\",\n       \"      \u003cth\u003eembark_town_\u0026lt;built-in function round\u0026gt;\u003c/th\u003e\\n\",\n       \"      \u003cth\u003eembark_town_Cherbourg\u003c/th\u003e\\n\",\n       \"      \u003cth\u003eembark_town_Queenstown\u003c/th\u003e\\n\",\n       \"      \u003cth\u003eembark_town_Southampton\u003c/th\u003e\\n\",\n       \"      \u003cth\u003ealive_no\u003c/th\u003e\\n\",\n       \"      \u003cth\u003ealive_yes\u003c/th\u003e\\n\",\n       \"    \u003c/tr\u003e\\n\",\n       \"  \u003c/thead\u003e\\n\",\n       \"  \u003ctbody\u003e\\n\",\n       \"    \u003ctr\u003e\\n\",\n       \"      \u003cth\u003e0\u003c/th\u003e\\n\",\n       \"      \u003ctd\u003e0\u003c/td\u003e\\n\",\n       \"      \u003ctd\u003e3\u003c/td\u003e\\n\",\n       \"      \u003ctd\u003e22.0\u003c/td\u003e\\n\",\n       \"      \u003ctd\u003e1\u003c/td\u003e\\n\",\n       \"      \u003ctd\u003e0\u003c/td\u003e\\n\",\n       \"      \u003ctd\u003e7.2500\u003c/td\u003e\\n\",\n       \"      \u003ctd\u003eTrue\u003c/td\u003e\\n\",\n       \"      \u003ctd\u003eFalse\u003c/td\u003e\\n\",\n       \"      \u003ctd\u003e0\u003c/td\u003e\\n\",\n       \"      \u003ctd\u003e1\u003c/td\u003e\\n\",\n       \"      \u003ctd\u003e...\u003c/td\u003e\\n\",\n       \"      \u003ctd\u003e0\u003c/td\u003e\\n\",\n       \"      \u003ctd\u003e0\u003c/td\u003e\\n\",\n       \"      \u003ctd\u003e0\u003c/td\u003e\\n\",\n       \"      \u003ctd\u003e0\u003c/td\u003e\\n\",\n       \"      \u003ctd\u003e0\u003c/td\u003e\\n\",\n       \"      \u003ctd\u003e0\u003c/td\u003e\\n\",\n       \"      \u003ctd\u003e0\u003c/td\u003e\\n\",\n       \"      \u003ctd\u003e1\u003c/td\u003e\\n\",\n       \"      \u003ctd\u003e1\u003c/td\u003e\\n\",\n       \"      \u003ctd\u003e0\u003c/td\u003e\\n\",\n       \"    \u003c/tr\u003e\\n\",\n       \"    \u003ctr\u003e\\n\",\n       \"      \u003cth\u003e1\u003c/th\u003e\\n\",\n       \"      \u003ctd\u003e1\u003c/td\u003e\\n\",\n       \"      \u003ctd\u003e1\u003c/td\u003e\\n\",\n       \"      \u003ctd\u003e38.0\u003c/td\u003e\\n\",\n       \"      \u003ctd\u003e1\u003c/td\u003e\\n\",\n       \"      \u003ctd\u003e0\u003c/td\u003e\\n\",\n       \"      \u003ctd\u003e71.2833\u003c/td\u003e\\n\",\n       \"      \u003ctd\u003eFalse\u003c/td\u003e\\n\",\n       \"      \u003ctd\u003eFalse\u003c/td\u003e\\n\",\n       \"      \u003ctd\u003e1\u003c/td\u003e\\n\",\n       \"      \u003ctd\u003e0\u003c/td\u003e\\n\",\n       \"      \u003ctd\u003e...\u003c/td\u003e\\n\",\n       \"      \u003ctd\u003e0\u003c/td\u003e\\n\",\n       \"      \u003ctd\u003e0\u003c/td\u003e\\n\",\n       \"      \u003ctd\u003e0\u003c/td\u003e\\n\",\n       \"      \u003ctd\u003e0\u003c/td\u003e\\n\",\n       \"      \u003ctd\u003e0\u003c/td\u003e\\n\",\n       \"      \u003ctd\u003e1\u003c/td\u003e\\n\",\n       \"      \u003ctd\u003e0\u003c/td\u003e\\n\",\n       \"      \u003ctd\u003e0\u003c/td\u003e\\n\",\n       \"      \u003ctd\u003e0\u003c/td\u003e\\n\",\n       \"      \u003ctd\u003e1\u003c/td\u003e\\n\",\n       \"    \u003c/tr\u003e\\n\",\n       \"    \u003ctr\u003e\\n\",\n       \"      \u003cth\u003e2\u003c/th\u003e\\n\",\n       \"      \u003ctd\u003e1\u003c/td\u003e\\n\",\n       \"      \u003ctd\u003e3\u003c/td\u003e\\n\",\n       \"      \u003ctd\u003e26.0\u003c/td\u003e\\n\",\n       \"      \u003ctd\u003e0\u003c/td\u003e\\n\",\n       \"      \u003ctd\u003e0\u003c/td\u003e\\n\",\n       \"      \u003ctd\u003e7.9250\u003c/td\u003e\\n\",\n       \"      \u003ctd\u003eFalse\u003c/td\u003e\\n\",\n       \"      \u003ctd\u003eTrue\u003c/td\u003e\\n\",\n       \"      \u003ctd\u003e1\u003c/td\u003e\\n\",\n       \"      \u003ctd\u003e0\u003c/td\u003e\\n\",\n       \"      \u003ctd\u003e...\u003c/td\u003e\\n\",\n       \"      \u003ctd\u003e0\u003c/td\u003e\\n\",\n       \"      \u003ctd\u003e0\u003c/td\u003e\\n\",\n       \"      \u003ctd\u003e0\u003c/td\u003e\\n\",\n       \"      \u003ctd\u003e0\u003c/td\u003e\\n\",\n       \"      \u003ctd\u003e0\u003c/td\u003e\\n\",\n       \"      \u003ctd\u003e0\u003c/td\u003e\\n\",\n       \"      \u003ctd\u003e0\u003c/td\u003e\\n\",\n       \"      \u003ctd\u003e1\u003c/td\u003e\\n\",\n       \"      \u003ctd\u003e0\u003c/td\u003e\\n\",\n       \"      \u003ctd\u003e1\u003c/td\u003e\\n\",\n       \"    \u003c/tr\u003e\\n\",\n       \"    \u003ctr\u003e\\n\",\n       \"      \u003cth\u003e3\u003c/th\u003e\\n\",\n       \"      \u003ctd\u003e1\u003c/td\u003e\\n\",\n       \"      \u003ctd\u003e1\u003c/td\u003e\\n\",\n       \"      \u003ctd\u003e35.0\u003c/td\u003e\\n\",\n       \"      \u003ctd\u003e1\u003c/td\u003e\\n\",\n       \"      \u003ctd\u003e0\u003c/td\u003e\\n\",\n       \"      \u003ctd\u003e53.1000\u003c/td\u003e\\n\",\n       \"      \u003ctd\u003eFalse\u003c/td\u003e\\n\",\n       \"      \u003ctd\u003eFalse\u003c/td\u003e\\n\",\n       \"      \u003ctd\u003e1\u003c/td\u003e\\n\",\n       \"      \u003ctd\u003e0\u003c/td\u003e\\n\",\n       \"      \u003ctd\u003e...\u003c/td\u003e\\n\",\n       \"      \u003ctd\u003e0\u003c/td\u003e\\n\",\n       \"      \u003ctd\u003e0\u003c/td\u003e\\n\",\n       \"      \u003ctd\u003e0\u003c/td\u003e\\n\",\n       \"      \u003ctd\u003e0\u003c/td\u003e\\n\",\n       \"      \u003ctd\u003e0\u003c/td\u003e\\n\",\n       \"      \u003ctd\u003e0\u003c/td\u003e\\n\",\n       \"      \u003ctd\u003e0\u003c/td\u003e\\n\",\n       \"      \u003ctd\u003e1\u003c/td\u003e\\n\",\n       \"      \u003ctd\u003e0\u003c/td\u003e\\n\",\n       \"      \u003ctd\u003e1\u003c/td\u003e\\n\",\n       \"    \u003c/tr\u003e\\n\",\n       \"    \u003ctr\u003e\\n\",\n       \"      \u003cth\u003e4\u003c/th\u003e\\n\",\n       \"      \u003ctd\u003e0\u003c/td\u003e\\n\",\n       \"      \u003ctd\u003e3\u003c/td\u003e\\n\",\n       \"      \u003ctd\u003e35.0\u003c/td\u003e\\n\",\n       \"      \u003ctd\u003e0\u003c/td\u003e\\n\",\n       \"      \u003ctd\u003e0\u003c/td\u003e\\n\",\n       \"      \u003ctd\u003e8.0500\u003c/td\u003e\\n\",\n       \"      \u003ctd\u003eTrue\u003c/td\u003e\\n\",\n       \"      \u003ctd\u003eTrue\u003c/td\u003e\\n\",\n       \"      \u003ctd\u003e0\u003c/td\u003e\\n\",\n       \"      \u003ctd\u003e1\u003c/td\u003e\\n\",\n       \"      \u003ctd\u003e...\u003c/td\u003e\\n\",\n       \"      \u003ctd\u003e0\u003c/td\u003e\\n\",\n       \"      \u003ctd\u003e0\u003c/td\u003e\\n\",\n       \"      \u003ctd\u003e0\u003c/td\u003e\\n\",\n       \"      \u003ctd\u003e0\u003c/td\u003e\\n\",\n       \"      \u003ctd\u003e0\u003c/td\u003e\\n\",\n       \"      \u003ctd\u003e0\u003c/td\u003e\\n\",\n       \"      \u003ctd\u003e0\u003c/td\u003e\\n\",\n       \"      \u003ctd\u003e1\u003c/td\u003e\\n\",\n       \"      \u003ctd\u003e1\u003c/td\u003e\\n\",\n       \"      \u003ctd\u003e0\u003c/td\u003e\\n\",\n       \"    \u003c/tr\u003e\\n\",\n       \"  \u003c/tbody\u003e\\n\",\n       \"\u003c/table\u003e\\n\",\n       \"\u003cp\u003e5 rows × 32 columns\u003c/p\u003e\\n\",\n       \"\u003c/div\u003e\"\n      ],\n      \"text/plain\": [\n       \"   survived  pclass   age  sibsp  parch     fare  adult_male  alone  \\\\\\n\",\n       \"0         0       3  22.0      1      0   7.2500        True  False   \\n\",\n       \"1         1       1  38.0      1      0  71.2833       False  False   \\n\",\n       \"2         1       3  26.0      0      0   7.9250       False   True   \\n\",\n       \"3         1       1  35.0      1      0  53.1000       False  False   \\n\",\n       \"4         0       3  35.0      0      0   8.0500        True   True   \\n\",\n       \"\\n\",\n       \"   sex_female  sex_male  ...  deck_D  deck_E  deck_F  deck_G  \\\\\\n\",\n       \"0           0         1  ...       0       0       0       0   \\n\",\n       \"1           1         0  ...       0       0       0       0   \\n\",\n       \"2           1         0  ...       0       0       0       0   \\n\",\n       \"3           1         0  ...       0       0       0       0   \\n\",\n       \"4           0         1  ...       0       0       0       0   \\n\",\n       \"\\n\",\n       \"   embark_town_\u003cbuilt-in function round\u003e  embark_town_Cherbourg  \\\\\\n\",\n       \"0                                      0                      0   \\n\",\n       \"1                                      0                      1   \\n\",\n       \"2                                      0                      0   \\n\",\n       \"3                                      0                      0   \\n\",\n       \"4                                      0                      0   \\n\",\n       \"\\n\",\n       \"   embark_town_Queenstown  embark_town_Southampton  alive_no  alive_yes  \\n\",\n       \"0                       0                        1         1          0  \\n\",\n       \"1                       0                        0         0          1  \\n\",\n       \"2                       0                        1         0          1  \\n\",\n       \"3                       0                        1         0          1  \\n\",\n       \"4                       0                        1         1          0  \\n\",\n       \"\\n\",\n       \"[5 rows x 32 columns]\"\n      ]\n     },\n     \"execution_count\": 35,\n     \"metadata\": {},\n     \"output_type\": \"execute_result\"\n    }\n   ],\n   \"source\": [\n    \"datas.head()\"\n   ]\n  },\n  {\n   \"cell_type\": \"markdown\",\n   \"id\": \"d5ae34c9\",\n   \"metadata\": {},\n   \"source\": [\n    \"# Scale the independent variables\"\n   ]\n  },\n  {\n   \"cell_type\": \"code\",\n   \"execution_count\": 36,\n   \"id\": \"447ba255\",\n   \"metadata\": {},\n   \"outputs\": [],\n   \"source\": [\n    \"from sklearn.preprocessing import LabelEncoder\\n\"\n   ]\n  },\n  {\n   \"cell_type\": \"code\",\n   \"execution_count\": 37,\n   \"id\": \"2b2a3641\",\n   \"metadata\": {},\n   \"outputs\": [],\n   \"source\": [\n    \"le=LabelEncoder()\"\n   ]\n  },\n  {\n   \"cell_type\": \"code\",\n   \"execution_count\": 38,\n   \"id\": \"70559e4b\",\n   \"metadata\": {},\n   \"outputs\": [],\n   \"source\": [\n    \"data.who=le.fit_transform(data.who)\"\n   ]\n  },\n  {\n   \"cell_type\": \"code\",\n   \"execution_count\": 39,\n   \"id\": \"cfc8c4d7\",\n   \"metadata\": {},\n   \"outputs\": [\n    {\n     \"data\": {\n      \"text/plain\": [\n       \"1    537\\n\",\n       \"2    271\\n\",\n       \"0     83\\n\",\n       \"Name: who, dtype: int64\"\n      ]\n     },\n     \"execution_count\": 39,\n     \"metadata\": {},\n     \"output_type\": \"execute_result\"\n    }\n   ],\n   \"source\": [\n    \"data.who.value_counts()\"\n   ]\n  },\n  {\n   \"cell_type\": \"code\",\n   \"execution_count\": null,\n   \"id\": \"b220fc6a\",\n   \"metadata\": {},\n   \"outputs\": [],\n   \"source\": []\n  },\n  {\n   \"cell_type\": \"code\",\n   \"execution_count\": 40,\n   \"id\": \"edfe9f9b\",\n   \"metadata\": {},\n   \"outputs\": [\n    {\n     \"data\": {\n      \"text/plain\": [\n       \"array([[1.        , 0.37254902, 0.125     , ..., 1.        , 1.        ,\\n\",\n       \"        0.        ],\\n\",\n       \"       [0.        , 0.68627451, 0.125     , ..., 0.        , 0.        ,\\n\",\n       \"        1.        ],\\n\",\n       \"       [1.        , 0.45098039, 0.        , ..., 1.        , 0.        ,\\n\",\n       \"        1.        ],\\n\",\n       \"       ...,\\n\",\n       \"       [1.        , 0.49019608, 0.125     , ..., 1.        , 1.        ,\\n\",\n       \"        0.        ],\\n\",\n       \"       [0.        , 0.45098039, 0.        , ..., 0.        , 0.        ,\\n\",\n       \"        1.        ],\\n\",\n       \"       [1.        , 0.56862745, 0.        , ..., 0.        , 1.        ,\\n\",\n       \"        0.        ]])\"\n      ]\n     },\n     \"execution_count\": 40,\n     \"metadata\": {},\n     \"output_type\": \"execute_result\"\n    }\n   ],\n   \"source\": [\n    \"from sklearn.preprocessing import MinMaxScaler\\n\",\n    \"scale = MinMaxScaler()\\n\",\n    \"X=scale.fit_transform(X)\\n\",\n    \"X\"\n   ]\n  },\n  {\n   \"cell_type\": \"markdown\",\n   \"id\": \"c5e421d1\",\n   \"metadata\": {},\n   \"source\": [\n    \"# Split the data into training and testing\"\n   ]\n  },\n  {\n   \"cell_type\": \"code\",\n   \"execution_count\": 41,\n   \"id\": \"b4a41482\",\n   \"metadata\": {},\n   \"outputs\": [],\n   \"source\": [\n    \"from sklearn.model_selection import train_test_split\\n\"\n   ]\n  },\n  {\n   \"cell_type\": \"code\",\n   \"execution_count\": 42,\n   \"id\": \"b6c69084\",\n   \"metadata\": {},\n   \"outputs\": [],\n   \"source\": [\n    \"X = data.drop(\\\"survived\\\", axis=1) \\n\",\n    \"y = data[\\\"survived\\\"]  \"\n   ]\n  },\n  {\n   \"cell_type\": \"code\",\n   \"execution_count\": 43,\n   \"id\": \"e3e49b77\",\n   \"metadata\": {},\n   \"outputs\": [],\n   \"source\": [\n    \"X_train, X_test, y_train, y_test = train_test_split(X, y, test_size=0.2, random_state=42)\\n\"\n   ]\n  },\n  {\n   \"cell_type\": \"code\",\n   \"execution_count\": 44,\n   \"id\": \"1c15a534\",\n   \"metadata\": {},\n   \"outputs\": [\n    {\n     \"name\": \"stdout\",\n     \"output_type\": \"stream\",\n     \"text\": [\n      \"Training set shape: (712, 14) (712,)\\n\",\n      \"Testing set shape: (179, 14) (179,)\\n\"\n     ]\n    }\n   ],\n   \"source\": [\n    \"print(\\\"Training set shape:\\\", X_train.shape, y_train.shape)\\n\",\n    \"print(\\\"Testing set shape:\\\", X_test.shape, y_test.shape)\\n\"\n   ]\n  },\n  {\n   \"cell_type\": \"code\",\n   \"execution_count\": 45,\n   \"id\": \"401a98b2\",\n   \"metadata\": {},\n   \"outputs\": [\n    {\n     \"data\": {\n      \"text/html\": [\n       \"\u003cdiv\u003e\\n\",\n       \"\u003cstyle scoped\u003e\\n\",\n       \"    .dataframe tbody tr th:only-of-type {\\n\",\n       \"        vertical-align: middle;\\n\",\n       \"    }\\n\",\n       \"\\n\",\n       \"    .dataframe tbody tr th {\\n\",\n       \"        vertical-align: top;\\n\",\n       \"    }\\n\",\n       \"\\n\",\n       \"    .dataframe thead th {\\n\",\n       \"        text-align: right;\\n\",\n       \"    }\\n\",\n       \"\u003c/style\u003e\\n\",\n       \"\u003ctable border=\\\"1\\\" class=\\\"dataframe\\\"\u003e\\n\",\n       \"  \u003cthead\u003e\\n\",\n       \"    \u003ctr style=\\\"text-align: right;\\\"\u003e\\n\",\n       \"      \u003cth\u003e\u003c/th\u003e\\n\",\n       \"      \u003cth\u003epclass\u003c/th\u003e\\n\",\n       \"      \u003cth\u003esex\u003c/th\u003e\\n\",\n       \"      \u003cth\u003eage\u003c/th\u003e\\n\",\n       \"      \u003cth\u003esibsp\u003c/th\u003e\\n\",\n       \"      \u003cth\u003eparch\u003c/th\u003e\\n\",\n       \"      \u003cth\u003efare\u003c/th\u003e\\n\",\n       \"      \u003cth\u003eembarked\u003c/th\u003e\\n\",\n       \"      \u003cth\u003eclass\u003c/th\u003e\\n\",\n       \"      \u003cth\u003ewho\u003c/th\u003e\\n\",\n       \"      \u003cth\u003eadult_male\u003c/th\u003e\\n\",\n       \"      \u003cth\u003edeck\u003c/th\u003e\\n\",\n       \"      \u003cth\u003eembark_town\u003c/th\u003e\\n\",\n       \"      \u003cth\u003ealive\u003c/th\u003e\\n\",\n       \"      \u003cth\u003ealone\u003c/th\u003e\\n\",\n       \"    \u003c/tr\u003e\\n\",\n       \"  \u003c/thead\u003e\\n\",\n       \"  \u003ctbody\u003e\\n\",\n       \"    \u003ctr\u003e\\n\",\n       \"      \u003cth\u003e331\u003c/th\u003e\\n\",\n       \"      \u003ctd\u003e1\u003c/td\u003e\\n\",\n       \"      \u003ctd\u003emale\u003c/td\u003e\\n\",\n       \"      \u003ctd\u003e45.5\u003c/td\u003e\\n\",\n       \"      \u003ctd\u003e0\u003c/td\u003e\\n\",\n       \"      \u003ctd\u003e0\u003c/td\u003e\\n\",\n       \"      \u003ctd\u003e28.5000\u003c/td\u003e\\n\",\n       \"      \u003ctd\u003eS\u003c/td\u003e\\n\",\n       \"      \u003ctd\u003eFirst\u003c/td\u003e\\n\",\n       \"      \u003ctd\u003e1\u003c/td\u003e\\n\",\n       \"      \u003ctd\u003eTrue\u003c/td\u003e\\n\",\n       \"      \u003ctd\u003eC\u003c/td\u003e\\n\",\n       \"      \u003ctd\u003eSouthampton\u003c/td\u003e\\n\",\n       \"      \u003ctd\u003eno\u003c/td\u003e\\n\",\n       \"      \u003ctd\u003eTrue\u003c/td\u003e\\n\",\n       \"    \u003c/tr\u003e\\n\",\n       \"    \u003ctr\u003e\\n\",\n       \"      \u003cth\u003e733\u003c/th\u003e\\n\",\n       \"      \u003ctd\u003e2\u003c/td\u003e\\n\",\n       \"      \u003ctd\u003emale\u003c/td\u003e\\n\",\n       \"      \u003ctd\u003e23.0\u003c/td\u003e\\n\",\n       \"      \u003ctd\u003e0\u003c/td\u003e\\n\",\n       \"      \u003ctd\u003e0\u003c/td\u003e\\n\",\n       \"      \u003ctd\u003e13.0000\u003c/td\u003e\\n\",\n       \"      \u003ctd\u003eS\u003c/td\u003e\\n\",\n       \"      \u003ctd\u003eSecond\u003c/td\u003e\\n\",\n       \"      \u003ctd\u003e1\u003c/td\u003e\\n\",\n       \"      \u003ctd\u003eTrue\u003c/td\u003e\\n\",\n       \"      \u003ctd\u003eC\u003c/td\u003e\\n\",\n       \"      \u003ctd\u003eSouthampton\u003c/td\u003e\\n\",\n       \"      \u003ctd\u003eno\u003c/td\u003e\\n\",\n       \"      \u003ctd\u003eTrue\u003c/td\u003e\\n\",\n       \"    \u003c/tr\u003e\\n\",\n       \"    \u003ctr\u003e\\n\",\n       \"      \u003cth\u003e382\u003c/th\u003e\\n\",\n       \"      \u003ctd\u003e3\u003c/td\u003e\\n\",\n       \"      \u003ctd\u003emale\u003c/td\u003e\\n\",\n       \"      \u003ctd\u003e32.0\u003c/td\u003e\\n\",\n       \"      \u003ctd\u003e0\u003c/td\u003e\\n\",\n       \"      \u003ctd\u003e0\u003c/td\u003e\\n\",\n       \"      \u003ctd\u003e7.9250\u003c/td\u003e\\n\",\n       \"      \u003ctd\u003eS\u003c/td\u003e\\n\",\n       \"      \u003ctd\u003eThird\u003c/td\u003e\\n\",\n       \"      \u003ctd\u003e1\u003c/td\u003e\\n\",\n       \"      \u003ctd\u003eTrue\u003c/td\u003e\\n\",\n       \"      \u003ctd\u003eC\u003c/td\u003e\\n\",\n       \"      \u003ctd\u003eSouthampton\u003c/td\u003e\\n\",\n       \"      \u003ctd\u003eno\u003c/td\u003e\\n\",\n       \"      \u003ctd\u003eTrue\u003c/td\u003e\\n\",\n       \"    \u003c/tr\u003e\\n\",\n       \"    \u003ctr\u003e\\n\",\n       \"      \u003cth\u003e704\u003c/th\u003e\\n\",\n       \"      \u003ctd\u003e3\u003c/td\u003e\\n\",\n       \"      \u003ctd\u003emale\u003c/td\u003e\\n\",\n       \"      \u003ctd\u003e26.0\u003c/td\u003e\\n\",\n       \"      \u003ctd\u003e1\u003c/td\u003e\\n\",\n       \"      \u003ctd\u003e0\u003c/td\u003e\\n\",\n       \"      \u003ctd\u003e7.8542\u003c/td\u003e\\n\",\n       \"      \u003ctd\u003eS\u003c/td\u003e\\n\",\n       \"      \u003ctd\u003eThird\u003c/td\u003e\\n\",\n       \"      \u003ctd\u003e1\u003c/td\u003e\\n\",\n       \"      \u003ctd\u003eTrue\u003c/td\u003e\\n\",\n       \"      \u003ctd\u003eC\u003c/td\u003e\\n\",\n       \"      \u003ctd\u003eSouthampton\u003c/td\u003e\\n\",\n       \"      \u003ctd\u003eno\u003c/td\u003e\\n\",\n       \"      \u003ctd\u003eFalse\u003c/td\u003e\\n\",\n       \"    \u003c/tr\u003e\\n\",\n       \"    \u003ctr\u003e\\n\",\n       \"      \u003cth\u003e813\u003c/th\u003e\\n\",\n       \"      \u003ctd\u003e3\u003c/td\u003e\\n\",\n       \"      \u003ctd\u003efemale\u003c/td\u003e\\n\",\n       \"      \u003ctd\u003e6.0\u003c/td\u003e\\n\",\n       \"      \u003ctd\u003e4\u003c/td\u003e\\n\",\n       \"      \u003ctd\u003e2\u003c/td\u003e\\n\",\n       \"      \u003ctd\u003e31.2750\u003c/td\u003e\\n\",\n       \"      \u003ctd\u003eS\u003c/td\u003e\\n\",\n       \"      \u003ctd\u003eThird\u003c/td\u003e\\n\",\n       \"      \u003ctd\u003e0\u003c/td\u003e\\n\",\n       \"      \u003ctd\u003eFalse\u003c/td\u003e\\n\",\n       \"      \u003ctd\u003eC\u003c/td\u003e\\n\",\n       \"      \u003ctd\u003eSouthampton\u003c/td\u003e\\n\",\n       \"      \u003ctd\u003eno\u003c/td\u003e\\n\",\n       \"      \u003ctd\u003eFalse\u003c/td\u003e\\n\",\n       \"    \u003c/tr\u003e\\n\",\n       \"  \u003c/tbody\u003e\\n\",\n       \"\u003c/table\u003e\\n\",\n       \"\u003c/div\u003e\"\n      ],\n      \"text/plain\": [\n       \"     pclass     sex   age  sibsp  parch     fare embarked   class  who  \\\\\\n\",\n       \"331       1    male  45.5      0      0  28.5000        S   First    1   \\n\",\n       \"733       2    male  23.0      0      0  13.0000        S  Second    1   \\n\",\n       \"382       3    male  32.0      0      0   7.9250        S   Third    1   \\n\",\n       \"704       3    male  26.0      1      0   7.8542        S   Third    1   \\n\",\n       \"813       3  female   6.0      4      2  31.2750        S   Third    0   \\n\",\n       \"\\n\",\n       \"     adult_male deck  embark_town alive  alone  \\n\",\n       \"331        True    C  Southampton    no   True  \\n\",\n       \"733        True    C  Southampton    no   True  \\n\",\n       \"382        True    C  Southampton    no   True  \\n\",\n       \"704        True    C  Southampton    no  False  \\n\",\n       \"813       False    C  Southampton    no  False  \"\n      ]\n     },\n     \"execution_count\": 45,\n     \"metadata\": {},\n     \"output_type\": \"execute_result\"\n    }\n   ],\n   \"source\": [\n    \"X_train.head()\"\n   ]\n  },\n  {\n   \"cell_type\": \"code\",\n   \"execution_count\": 46,\n   \"id\": \"cc28cc7f\",\n   \"metadata\": {},\n   \"outputs\": [\n    {\n     \"data\": {\n      \"text/html\": [\n       \"\u003cdiv\u003e\\n\",\n       \"\u003cstyle scoped\u003e\\n\",\n       \"    .dataframe tbody tr th:only-of-type {\\n\",\n       \"        vertical-align: middle;\\n\",\n       \"    }\\n\",\n       \"\\n\",\n       \"    .dataframe tbody tr th {\\n\",\n       \"        vertical-align: top;\\n\",\n       \"    }\\n\",\n       \"\\n\",\n       \"    .dataframe thead th {\\n\",\n       \"        text-align: right;\\n\",\n       \"    }\\n\",\n       \"\u003c/style\u003e\\n\",\n       \"\u003ctable border=\\\"1\\\" class=\\\"dataframe\\\"\u003e\\n\",\n       \"  \u003cthead\u003e\\n\",\n       \"    \u003ctr style=\\\"text-align: right;\\\"\u003e\\n\",\n       \"      \u003cth\u003e\u003c/th\u003e\\n\",\n       \"      \u003cth\u003epclass\u003c/th\u003e\\n\",\n       \"      \u003cth\u003esex\u003c/th\u003e\\n\",\n       \"      \u003cth\u003eage\u003c/th\u003e\\n\",\n       \"      \u003cth\u003esibsp\u003c/th\u003e\\n\",\n       \"      \u003cth\u003eparch\u003c/th\u003e\\n\",\n       \"      \u003cth\u003efare\u003c/th\u003e\\n\",\n       \"      \u003cth\u003eembarked\u003c/th\u003e\\n\",\n       \"      \u003cth\u003eclass\u003c/th\u003e\\n\",\n       \"      \u003cth\u003ewho\u003c/th\u003e\\n\",\n       \"      \u003cth\u003eadult_male\u003c/th\u003e\\n\",\n       \"      \u003cth\u003edeck\u003c/th\u003e\\n\",\n       \"      \u003cth\u003eembark_town\u003c/th\u003e\\n\",\n       \"      \u003cth\u003ealive\u003c/th\u003e\\n\",\n       \"      \u003cth\u003ealone\u003c/th\u003e\\n\",\n       \"    \u003c/tr\u003e\\n\",\n       \"  \u003c/thead\u003e\\n\",\n       \"  \u003ctbody\u003e\\n\",\n       \"    \u003ctr\u003e\\n\",\n       \"      \u003cth\u003e709\u003c/th\u003e\\n\",\n       \"      \u003ctd\u003e3\u003c/td\u003e\\n\",\n       \"      \u003ctd\u003emale\u003c/td\u003e\\n\",\n       \"      \u003ctd\u003e28.0\u003c/td\u003e\\n\",\n       \"      \u003ctd\u003e1\u003c/td\u003e\\n\",\n       \"      \u003ctd\u003e1\u003c/td\u003e\\n\",\n       \"      \u003ctd\u003e15.2458\u003c/td\u003e\\n\",\n       \"      \u003ctd\u003eC\u003c/td\u003e\\n\",\n       \"      \u003ctd\u003eThird\u003c/td\u003e\\n\",\n       \"      \u003ctd\u003e1\u003c/td\u003e\\n\",\n       \"      \u003ctd\u003eTrue\u003c/td\u003e\\n\",\n       \"      \u003ctd\u003eC\u003c/td\u003e\\n\",\n       \"      \u003ctd\u003eCherbourg\u003c/td\u003e\\n\",\n       \"      \u003ctd\u003eyes\u003c/td\u003e\\n\",\n       \"      \u003ctd\u003eFalse\u003c/td\u003e\\n\",\n       \"    \u003c/tr\u003e\\n\",\n       \"    \u003ctr\u003e\\n\",\n       \"      \u003cth\u003e439\u003c/th\u003e\\n\",\n       \"      \u003ctd\u003e2\u003c/td\u003e\\n\",\n       \"      \u003ctd\u003emale\u003c/td\u003e\\n\",\n       \"      \u003ctd\u003e31.0\u003c/td\u003e\\n\",\n       \"      \u003ctd\u003e0\u003c/td\u003e\\n\",\n       \"      \u003ctd\u003e0\u003c/td\u003e\\n\",\n       \"      \u003ctd\u003e10.5000\u003c/td\u003e\\n\",\n       \"      \u003ctd\u003eS\u003c/td\u003e\\n\",\n       \"      \u003ctd\u003eSecond\u003c/td\u003e\\n\",\n       \"      \u003ctd\u003e1\u003c/td\u003e\\n\",\n       \"      \u003ctd\u003eTrue\u003c/td\u003e\\n\",\n       \"      \u003ctd\u003eC\u003c/td\u003e\\n\",\n       \"      \u003ctd\u003eSouthampton\u003c/td\u003e\\n\",\n       \"      \u003ctd\u003eno\u003c/td\u003e\\n\",\n       \"      \u003ctd\u003eTrue\u003c/td\u003e\\n\",\n       \"    \u003c/tr\u003e\\n\",\n       \"    \u003ctr\u003e\\n\",\n       \"      \u003cth\u003e840\u003c/th\u003e\\n\",\n       \"      \u003ctd\u003e3\u003c/td\u003e\\n\",\n       \"      \u003ctd\u003emale\u003c/td\u003e\\n\",\n       \"      \u003ctd\u003e20.0\u003c/td\u003e\\n\",\n       \"      \u003ctd\u003e0\u003c/td\u003e\\n\",\n       \"      \u003ctd\u003e0\u003c/td\u003e\\n\",\n       \"      \u003ctd\u003e7.9250\u003c/td\u003e\\n\",\n       \"      \u003ctd\u003eS\u003c/td\u003e\\n\",\n       \"      \u003ctd\u003eThird\u003c/td\u003e\\n\",\n       \"      \u003ctd\u003e1\u003c/td\u003e\\n\",\n       \"      \u003ctd\u003eTrue\u003c/td\u003e\\n\",\n       \"      \u003ctd\u003eC\u003c/td\u003e\\n\",\n       \"      \u003ctd\u003eSouthampton\u003c/td\u003e\\n\",\n       \"      \u003ctd\u003eno\u003c/td\u003e\\n\",\n       \"      \u003ctd\u003eTrue\u003c/td\u003e\\n\",\n       \"    \u003c/tr\u003e\\n\",\n       \"    \u003ctr\u003e\\n\",\n       \"      \u003cth\u003e720\u003c/th\u003e\\n\",\n       \"      \u003ctd\u003e2\u003c/td\u003e\\n\",\n       \"      \u003ctd\u003efemale\u003c/td\u003e\\n\",\n       \"      \u003ctd\u003e6.0\u003c/td\u003e\\n\",\n       \"      \u003ctd\u003e0\u003c/td\u003e\\n\",\n       \"      \u003ctd\u003e1\u003c/td\u003e\\n\",\n       \"      \u003ctd\u003e33.0000\u003c/td\u003e\\n\",\n       \"      \u003ctd\u003eS\u003c/td\u003e\\n\",\n       \"      \u003ctd\u003eSecond\u003c/td\u003e\\n\",\n       \"      \u003ctd\u003e0\u003c/td\u003e\\n\",\n       \"      \u003ctd\u003eFalse\u003c/td\u003e\\n\",\n       \"      \u003ctd\u003eC\u003c/td\u003e\\n\",\n       \"      \u003ctd\u003eSouthampton\u003c/td\u003e\\n\",\n       \"      \u003ctd\u003eyes\u003c/td\u003e\\n\",\n       \"      \u003ctd\u003eFalse\u003c/td\u003e\\n\",\n       \"    \u003c/tr\u003e\\n\",\n       \"    \u003ctr\u003e\\n\",\n       \"      \u003cth\u003e39\u003c/th\u003e\\n\",\n       \"      \u003ctd\u003e3\u003c/td\u003e\\n\",\n       \"      \u003ctd\u003efemale\u003c/td\u003e\\n\",\n       \"      \u003ctd\u003e14.0\u003c/td\u003e\\n\",\n       \"      \u003ctd\u003e1\u003c/td\u003e\\n\",\n       \"      \u003ctd\u003e0\u003c/td\u003e\\n\",\n       \"      \u003ctd\u003e11.2417\u003c/td\u003e\\n\",\n       \"      \u003ctd\u003eC\u003c/td\u003e\\n\",\n       \"      \u003ctd\u003eThird\u003c/td\u003e\\n\",\n       \"      \u003ctd\u003e0\u003c/td\u003e\\n\",\n       \"      \u003ctd\u003eFalse\u003c/td\u003e\\n\",\n       \"      \u003ctd\u003eC\u003c/td\u003e\\n\",\n       \"      \u003ctd\u003eCherbourg\u003c/td\u003e\\n\",\n       \"      \u003ctd\u003eyes\u003c/td\u003e\\n\",\n       \"      \u003ctd\u003eFalse\u003c/td\u003e\\n\",\n       \"    \u003c/tr\u003e\\n\",\n       \"  \u003c/tbody\u003e\\n\",\n       \"\u003c/table\u003e\\n\",\n       \"\u003c/div\u003e\"\n      ],\n      \"text/plain\": [\n       \"     pclass     sex   age  sibsp  parch     fare embarked   class  who  \\\\\\n\",\n       \"709       3    male  28.0      1      1  15.2458        C   Third    1   \\n\",\n       \"439       2    male  31.0      0      0  10.5000        S  Second    1   \\n\",\n       \"840       3    male  20.0      0      0   7.9250        S   Third    1   \\n\",\n       \"720       2  female   6.0      0      1  33.0000        S  Second    0   \\n\",\n       \"39        3  female  14.0      1      0  11.2417        C   Third    0   \\n\",\n       \"\\n\",\n       \"     adult_male deck  embark_town alive  alone  \\n\",\n       \"709        True    C    Cherbourg   yes  False  \\n\",\n       \"439        True    C  Southampton    no   True  \\n\",\n       \"840        True    C  Southampton    no   True  \\n\",\n       \"720       False    C  Southampton   yes  False  \\n\",\n       \"39        False    C    Cherbourg   yes  False  \"\n      ]\n     },\n     \"execution_count\": 46,\n     \"metadata\": {},\n     \"output_type\": \"execute_result\"\n    }\n   ],\n   \"source\": [\n    \"X_test.head()\"\n   ]\n  },\n  {\n   \"cell_type\": \"code\",\n   \"execution_count\": 47,\n   \"id\": \"4719660b\",\n   \"metadata\": {},\n   \"outputs\": [\n    {\n     \"data\": {\n      \"text/plain\": [\n       \"709    1\\n\",\n       \"439    0\\n\",\n       \"840    0\\n\",\n       \"720    1\\n\",\n       \"39     1\\n\",\n       \"      ..\\n\",\n       \"433    0\\n\",\n       \"773    0\\n\",\n       \"25     1\\n\",\n       \"84     1\\n\",\n       \"10     1\\n\",\n       \"Name: survived, Length: 179, dtype: int64\"\n      ]\n     },\n     \"execution_count\": 47,\n     \"metadata\": {},\n     \"output_type\": \"execute_result\"\n    }\n   ],\n   \"source\": [\n    \"y_test\"\n   ]\n  },\n  {\n   \"cell_type\": \"code\",\n   \"execution_count\": 48,\n   \"id\": \"00fa1af5\",\n   \"metadata\": {},\n   \"outputs\": [\n    {\n     \"data\": {\n      \"text/plain\": [\n       \"331    0\\n\",\n       \"733    0\\n\",\n       \"382    0\\n\",\n       \"704    0\\n\",\n       \"813    0\\n\",\n       \"      ..\\n\",\n       \"106    1\\n\",\n       \"270    0\\n\",\n       \"860    0\\n\",\n       \"435    1\\n\",\n       \"102    0\\n\",\n       \"Name: survived, Length: 712, dtype: int64\"\n      ]\n     },\n     \"execution_count\": 48,\n     \"metadata\": {},\n     \"output_type\": \"execute_result\"\n    }\n   ],\n   \"source\": [\n    \"y_train\"\n   ]\n  },\n  {\n   \"cell_type\": \"code\",\n   \"execution_count\": null,\n   \"id\": \"bc2ac807\",\n   \"metadata\": {},\n   \"outputs\": [],\n   \"source\": []\n  },\n  {\n   \"cell_type\": \"code\",\n   \"execution_count\": null,\n   \"id\": \"5514c31d\",\n   \"metadata\": {},\n   \"outputs\": [],\n   \"source\": []\n  }\n ],\n \"metadata\": {\n  \"kernelspec\": {\n   \"display_name\": \"Python 3 (ipykernel)\",\n   \"language\": \"python\",\n   \"name\": \"python3\"\n  },\n  \"language_info\": {\n   \"codemirror_mode\": {\n    \"name\": \"ipython\",\n    \"version\": 3\n   },\n   \"file_extension\": \".py\",\n   \"mimetype\": \"text/x-python\",\n   \"name\": \"python\",\n   \"nbconvert_exporter\": \"python\",\n   \"pygments_lexer\": \"ipython3\",\n   \"version\": \"3.9.7\"\n  }\n },\n \"nbformat\": 4,\n \"nbformat_minor\": 5\n}\n","colorizedLines":null,"stylingDirectives":null,"csv":null,"csvError":null,"dependabotInfo":{"showConfigurationBanner":false,"configFilePath":null,"networkDependabotPath":"/Rixhi7/Car-Performance-Prediction-Project/network/updates","dismissConfigurationNoticePath":"/settings/dismiss-notice/dependabot_configuration_notice","configurationNoticeDismissed":false,"repoAlertsPath":"/Rixhi7/Car-Performance-Prediction-Project/security/dependabot","repoSecurityAndAnalysisPath":"/Rixhi7/Car-Performance-Prediction-Project/settings/security_analysis","repoOwnerIsOrg":false,"currentUserCanAdminRepo":false},"displayName":"ADS_Assignment_2_20BBS0215.ipynb","displayUrl":"https://notebooks.githubusercontent.com/view/ipynb?browser=chrome\u0026bypass_fastly=true\u0026color_mode=auto\u0026commit=baf81fb0f965e3116d936eded7fe104fc1636d3c\u0026device=unknown_device\u0026docs_host=https%3A%2F%2Fdocs.github.com\u0026enc_url=68747470733a2f2f7261772e67697468756275736572636f6e74656e742e636f6d2f5269786869372f4361722d506572666f726d616e63652d50726564696374696f6e2d50726f6a6563742f626166383166623066393635653331313664393336656465643766653130346663313633366433632f41737369676e6d656e74732f4144535f41737369676e6d656e745f325f3230424253303231352e6970796e62\u0026logged_in=true\u0026nwo=Rixhi7%2FCar-Performance-Prediction-Project\u0026path=Assignments%2FADS_Assignment_2_20BBS0215.ipynb\u0026platform=windows\u0026repository_id=660312749\u0026repository_type=Repository\u0026version=114","headerInfo":{"blobSize":"136 KB","deleteInfo":{"deletePath":"https://github.com/Rixhi7/Car-Performance-Prediction-Project/delete/main/Assignments/ADS_Assignment_2_20BBS0215.ipynb","deleteTooltip":"Fork this repository and delete the file"},"editInfo":{"editTooltip":"Fork this repository and edit the file"},"ghDesktopPath":"https://desktop.github.com","gitLfsPath":null,"onBranch":true,"shortPath":"5c74c60","siteNavLoginPath":"/login?return_to=https%3A%2F%2Fgithub.com%2FRixhi7%2FCar-Performance-Prediction-Project%2Fblob%2Fmain%2FAssignments%2FADS_Assignment_2_20BBS0215.ipynb","isCSV":false,"isRichtext":false,"toc":null,"lineInfo":{"truncatedLoc":"2199","truncatedSloc":"2199"},"mode":"file"},"image":false,"isCodeownersFile":null,"isValidLegacyIssueTemplate":false,"issueTemplateHelpUrl":"https://docs.github.com/articles/about-issue-and-pull-request-templates","issueTemplate":null,"discussionTemplate":null,"language":"Jupyter Notebook","large":false,"loggedIn":true,"newDiscussionPath":"/Rixhi7/Car-Performance-Prediction-Project/discussions/new","newIssuePath":"/Rixhi7/Car-Performance-Prediction-Project/issues/new","planSupportInfo":{"repoIsFork":null,"repoOwnedByCurrentUser":null,"requestFullPath":"/Rixhi7/Car-Performance-Prediction-Project/blob/main/Assignments/ADS_Assignment_2_20BBS0215.ipynb","showFreeOrgGatedFeatureMessage":null,"showPlanSupportBanner":null,"upgradeDataAttributes":null,"upgradePath":null},"publishBannersInfo":{"dismissActionNoticePath":"/settings/dismiss-notice/publish_action_from_dockerfile","dismissStackNoticePath":"/settings/dismiss-notice/publish_stack_from_file","releasePath":"/Rixhi7/Car-Performance-Prediction-Project/releases/new?marketplace=true","showPublishActionBanner":false,"showPublishStackBanner":false},"renderImageOrRaw":false,"richText":null,"renderedFileInfo":{"identityUUID":"48dfdb78-309a-4b42-8a8f-57cbb5e11e29","renderFileType":"ipynb","size":139299},"tabSize":8,"topBannersInfo":{"overridingGlobalFundingFile":false,"globalPreferredFundingPath":null,"repoOwner":"Rixhi7","repoName":"Car-Performance-Prediction-Project","showInvalidCitationWarning":false,"citationHelpUrl":"https://docs.github.com/en/github/creating-cloning-and-archiving-repositories/creating-a-repository-on-github/about-citation-files","showDependabotConfigurationBanner":false,"actionsOnboardingTip":null},"truncated":false,"viewable":true,"workflowRedirectUrl":null,"symbols":{"timedOut":false,"notAnalyzed":true,"symbols":[]}},"csrf_tokens":{"/Rixhi7/Car-Performance-Prediction-Project/branches":{"post":"ahEhHOnB-iTQFqit-Pm-JsRMYJdx0-JIcbpKzxdymfJ1Y0rM7W1F7pnlzq2qvZ8LVtHjz7Xig8ImekI-tP2yfQ"}}},"title":"Car-Performance-Prediction-Project/Assignments/ADS_Assignment_2_20BBS0215.ipynb at main · Rixhi7/Car-Performance-Prediction-Project","locale":"en","appPayload":{"helpUrl":"https://docs.github.com","findFileWorkerPath":"/assets-cdn/worker/find-file-worker-848bb9a5da17.js","findInFileWorkerPath":"/assets-cdn/worker/find-in-file-worker-c9b8ff248bc9.js","githubDevUrl":"https://github.dev/","enabled_features":{"virtualize_file_tree":true,"react_repos_overview":false,"repos_new_shortcut_enabled":true,"blob_navigation_cursor":true,"code_nav_ui_events":false,"ref_selector_v2":false,"codeview_codemirror_next_editors":false,"blob_firefox_separate_characters":true,"column_symbol_auto_select":true,"copilot_conversational_ux":false}}}</script>
  <div data-target="react-app.reactRoot"></div>
</react-app>
</turbo-frame>



  </div>

</turbo-frame>

    </main>
  </div>

  </div>

          <footer class="footer width-full container-xl p-responsive" role="contentinfo">
  <h2 class='sr-only'>Footer</h2>

  <div class="position-relative d-flex flex-items-center pb-2 f6 color-fg-muted border-top color-border-muted flex-column-reverse flex-lg-row flex-wrap flex-lg-nowrap mt-6 pt-6">
    <div class="list-style-none d-flex flex-wrap col-0 col-lg-2 flex-justify-start flex-lg-justify-between mb-2 mb-lg-0">
      <div class="mt-2 mt-lg-0 d-flex flex-items-center">
        <a aria-label="Homepage" title="GitHub" class="footer-octicon mr-2" href="https://github.com">
          <svg aria-hidden="true" height="24" viewBox="0 0 16 16" version="1.1" width="24" data-view-component="true" class="octicon octicon-mark-github">
    <path d="M8 0c4.42 0 8 3.58 8 8a8.013 8.013 0 0 1-5.45 7.59c-.4.08-.55-.17-.55-.38 0-.27.01-1.13.01-2.2 0-.75-.25-1.23-.54-1.48 1.78-.2 3.65-.88 3.65-3.95 0-.88-.31-1.59-.82-2.15.08-.2.36-1.02-.08-2.12 0 0-.67-.22-2.2.82-.64-.18-1.32-.27-2-.27-.68 0-1.36.09-2 .27-1.53-1.03-2.2-.82-2.2-.82-.44 1.1-.16 1.92-.08 2.12-.51.56-.82 1.28-.82 2.15 0 3.06 1.86 3.75 3.64 3.95-.23.2-.44.55-.51 1.07-.46.21-1.61.55-2.33-.66-.15-.24-.6-.83-1.23-.82-.67.01-.27.38.01.53.34.19.73.9.82 1.13.16.45.68 1.31 2.69.94 0 .67.01 1.3.01 1.49 0 .21-.15.45-.55.38A7.995 7.995 0 0 1 0 8c0-4.42 3.58-8 8-8Z"></path>
</svg>
</a>        <span>
        &copy; 2023 GitHub, Inc.
        </span>
      </div>
    </div>

    <nav aria-label='Footer' class="col-12 col-lg-8">
      <h3 class='sr-only' id='sr-footer-heading'>Footer navigation</h3>
      <ul class="list-style-none d-flex flex-wrap col-12 flex-justify-center flex-lg-justify-between mb-2 mb-lg-0" aria-labelledby='sr-footer-heading'>
          <li class="mr-3 mr-lg-0"><a href="https://docs.github.com/site-policy/github-terms/github-terms-of-service" data-analytics-event="{&quot;category&quot;:&quot;Footer&quot;,&quot;action&quot;:&quot;go to terms&quot;,&quot;label&quot;:&quot;text:terms&quot;}">Terms</a></li>
          <li class="mr-3 mr-lg-0"><a href="https://docs.github.com/site-policy/privacy-policies/github-privacy-statement" data-analytics-event="{&quot;category&quot;:&quot;Footer&quot;,&quot;action&quot;:&quot;go to privacy&quot;,&quot;label&quot;:&quot;text:privacy&quot;}">Privacy</a></li>
          <li class="mr-3 mr-lg-0"><a data-analytics-event="{&quot;category&quot;:&quot;Footer&quot;,&quot;action&quot;:&quot;go to security&quot;,&quot;label&quot;:&quot;text:security&quot;}" href="https://github.com/security">Security</a></li>
          <li class="mr-3 mr-lg-0"><a href="https://www.githubstatus.com/" data-analytics-event="{&quot;category&quot;:&quot;Footer&quot;,&quot;action&quot;:&quot;go to status&quot;,&quot;label&quot;:&quot;text:status&quot;}">Status</a></li>
          <li class="mr-3 mr-lg-0"><a data-ga-click="Footer, go to help, text:Docs" href="https://docs.github.com">Docs</a></li>
          <li class="mr-3 mr-lg-0"><a href="https://support.github.com?tags=dotcom-footer" data-analytics-event="{&quot;category&quot;:&quot;Footer&quot;,&quot;action&quot;:&quot;go to contact&quot;,&quot;label&quot;:&quot;text:contact&quot;}">Contact GitHub</a></li>
          <li class="mr-3 mr-lg-0"><a href="https://github.com/pricing" data-analytics-event="{&quot;category&quot;:&quot;Footer&quot;,&quot;action&quot;:&quot;go to Pricing&quot;,&quot;label&quot;:&quot;text:Pricing&quot;}">Pricing</a></li>
        <li class="mr-3 mr-lg-0"><a href="https://docs.github.com" data-analytics-event="{&quot;category&quot;:&quot;Footer&quot;,&quot;action&quot;:&quot;go to api&quot;,&quot;label&quot;:&quot;text:api&quot;}">API</a></li>
        <li class="mr-3 mr-lg-0"><a href="https://services.github.com" data-analytics-event="{&quot;category&quot;:&quot;Footer&quot;,&quot;action&quot;:&quot;go to training&quot;,&quot;label&quot;:&quot;text:training&quot;}">Training</a></li>
          <li class="mr-3 mr-lg-0"><a href="https://github.blog" data-analytics-event="{&quot;category&quot;:&quot;Footer&quot;,&quot;action&quot;:&quot;go to blog&quot;,&quot;label&quot;:&quot;text:blog&quot;}">Blog</a></li>
          <li><a data-ga-click="Footer, go to about, text:about" href="https://github.com/about">About</a></li>
      </ul>
    </nav>
  </div>

  <div class="d-flex flex-justify-center pb-6">
    <span class="f6 color-fg-muted"></span>
  </div>
</footer>




  <div id="ajax-error-message" class="ajax-error-message flash flash-error" hidden>
    <svg aria-hidden="true" height="16" viewBox="0 0 16 16" version="1.1" width="16" data-view-component="true" class="octicon octicon-alert">
    <path d="M6.457 1.047c.659-1.234 2.427-1.234 3.086 0l6.082 11.378A1.75 1.75 0 0 1 14.082 15H1.918a1.75 1.75 0 0 1-1.543-2.575Zm1.763.707a.25.25 0 0 0-.44 0L1.698 13.132a.25.25 0 0 0 .22.368h12.164a.25.25 0 0 0 .22-.368Zm.53 3.996v2.5a.75.75 0 0 1-1.5 0v-2.5a.75.75 0 0 1 1.5 0ZM9 11a1 1 0 1 1-2 0 1 1 0 0 1 2 0Z"></path>
</svg>
    <button type="button" class="flash-close js-ajax-error-dismiss" aria-label="Dismiss error">
      <svg aria-hidden="true" height="16" viewBox="0 0 16 16" version="1.1" width="16" data-view-component="true" class="octicon octicon-x">
    <path d="M3.72 3.72a.75.75 0 0 1 1.06 0L8 6.94l3.22-3.22a.749.749 0 0 1 1.275.326.749.749 0 0 1-.215.734L9.06 8l3.22 3.22a.749.749 0 0 1-.326 1.275.749.749 0 0 1-.734-.215L8 9.06l-3.22 3.22a.751.751 0 0 1-1.042-.018.751.751 0 0 1-.018-1.042L6.94 8 3.72 4.78a.75.75 0 0 1 0-1.06Z"></path>
</svg>
    </button>
    You can’t perform that action at this time.
  </div>

    <template id="site-details-dialog">
  <details class="details-reset details-overlay details-overlay-dark lh-default color-fg-default hx_rsm" open>
    <summary role="button" aria-label="Close dialog"></summary>
    <details-dialog class="Box Box--overlay d-flex flex-column anim-fade-in fast hx_rsm-dialog hx_rsm-modal">
      <button class="Box-btn-octicon m-0 btn-octicon position-absolute right-0 top-0" type="button" aria-label="Close dialog" data-close-dialog>
        <svg aria-hidden="true" height="16" viewBox="0 0 16 16" version="1.1" width="16" data-view-component="true" class="octicon octicon-x">
    <path d="M3.72 3.72a.75.75 0 0 1 1.06 0L8 6.94l3.22-3.22a.749.749 0 0 1 1.275.326.749.749 0 0 1-.215.734L9.06 8l3.22 3.22a.749.749 0 0 1-.326 1.275.749.749 0 0 1-.734-.215L8 9.06l-3.22 3.22a.751.751 0 0 1-1.042-.018.751.751 0 0 1-.018-1.042L6.94 8 3.72 4.78a.75.75 0 0 1 0-1.06Z"></path>
</svg>
      </button>
      <div class="octocat-spinner my-6 js-details-dialog-spinner"></div>
    </details-dialog>
  </details>
</template>

    <div class="Popover js-hovercard-content position-absolute" style="display: none; outline: none;" tabindex="0">
  <div class="Popover-message Popover-message--bottom-left Popover-message--large Box color-shadow-large" style="width:360px;">
  </div>
</div>

    <template id="snippet-clipboard-copy-button">
  <div class="zeroclipboard-container position-absolute right-0 top-0">
    <clipboard-copy aria-label="Copy" class="ClipboardButton btn js-clipboard-copy m-2 p-0 tooltipped-no-delay" data-copy-feedback="Copied!" data-tooltip-direction="w">
      <svg aria-hidden="true" height="16" viewBox="0 0 16 16" version="1.1" width="16" data-view-component="true" class="octicon octicon-copy js-clipboard-copy-icon m-2">
    <path d="M0 6.75C0 5.784.784 5 1.75 5h1.5a.75.75 0 0 1 0 1.5h-1.5a.25.25 0 0 0-.25.25v7.5c0 .138.112.25.25.25h7.5a.25.25 0 0 0 .25-.25v-1.5a.75.75 0 0 1 1.5 0v1.5A1.75 1.75 0 0 1 9.25 16h-7.5A1.75 1.75 0 0 1 0 14.25Z"></path><path d="M5 1.75C5 .784 5.784 0 6.75 0h7.5C15.216 0 16 .784 16 1.75v7.5A1.75 1.75 0 0 1 14.25 11h-7.5A1.75 1.75 0 0 1 5 9.25Zm1.75-.25a.25.25 0 0 0-.25.25v7.5c0 .138.112.25.25.25h7.5a.25.25 0 0 0 .25-.25v-7.5a.25.25 0 0 0-.25-.25Z"></path>
</svg>
      <svg aria-hidden="true" height="16" viewBox="0 0 16 16" version="1.1" width="16" data-view-component="true" class="octicon octicon-check js-clipboard-check-icon color-fg-success d-none m-2">
    <path d="M13.78 4.22a.75.75 0 0 1 0 1.06l-7.25 7.25a.75.75 0 0 1-1.06 0L2.22 9.28a.751.751 0 0 1 .018-1.042.751.751 0 0 1 1.042-.018L6 10.94l6.72-6.72a.75.75 0 0 1 1.06 0Z"></path>
</svg>
    </clipboard-copy>
  </div>
</template>
<template id="snippet-clipboard-copy-button-unpositioned">
  <div class="zeroclipboard-container">
    <clipboard-copy aria-label="Copy" class="ClipboardButton btn btn-invisible js-clipboard-copy m-2 p-0 tooltipped-no-delay d-flex flex-justify-center flex-items-center" data-copy-feedback="Copied!" data-tooltip-direction="w">
      <svg aria-hidden="true" height="16" viewBox="0 0 16 16" version="1.1" width="16" data-view-component="true" class="octicon octicon-copy js-clipboard-copy-icon">
    <path d="M0 6.75C0 5.784.784 5 1.75 5h1.5a.75.75 0 0 1 0 1.5h-1.5a.25.25 0 0 0-.25.25v7.5c0 .138.112.25.25.25h7.5a.25.25 0 0 0 .25-.25v-1.5a.75.75 0 0 1 1.5 0v1.5A1.75 1.75 0 0 1 9.25 16h-7.5A1.75 1.75 0 0 1 0 14.25Z"></path><path d="M5 1.75C5 .784 5.784 0 6.75 0h7.5C15.216 0 16 .784 16 1.75v7.5A1.75 1.75 0 0 1 14.25 11h-7.5A1.75 1.75 0 0 1 5 9.25Zm1.75-.25a.25.25 0 0 0-.25.25v7.5c0 .138.112.25.25.25h7.5a.25.25 0 0 0 .25-.25v-7.5a.25.25 0 0 0-.25-.25Z"></path>
</svg>
      <svg aria-hidden="true" height="16" viewBox="0 0 16 16" version="1.1" width="16" data-view-component="true" class="octicon octicon-check js-clipboard-check-icon color-fg-success d-none">
    <path d="M13.78 4.22a.75.75 0 0 1 0 1.06l-7.25 7.25a.75.75 0 0 1-1.06 0L2.22 9.28a.751.751 0 0 1 .018-1.042.751.751 0 0 1 1.042-.018L6 10.94l6.72-6.72a.75.75 0 0 1 1.06 0Z"></path>
</svg>
    </clipboard-copy>
  </div>
</template>


    <style>
      .user-mention[href$="/25-Shikhar-K"] {
        color: var(--color-user-mention-fg);
        background-color: var(--color-user-mention-bg);
        border-radius: 2px;
        margin-left: -2px;
        margin-right: -2px;
        padding: 0 2px;
      }
    </style>


    </div>

    <div id="js-global-screen-reader-notice" class="sr-only" aria-live="polite" ></div>
  </body>
</html>

